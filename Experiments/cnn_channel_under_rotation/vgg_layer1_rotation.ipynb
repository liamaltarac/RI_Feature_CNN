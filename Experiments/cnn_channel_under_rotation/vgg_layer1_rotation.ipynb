{
 "cells": [
  {
   "cell_type": "code",
   "execution_count": 124,
   "metadata": {},
   "outputs": [
    {
     "name": "stdout",
     "output_type": "stream",
     "text": [
      "Num GPUs Available:  1\n",
      "2.9.1\n",
      "The autoreload extension is already loaded. To reload it, use:\n",
      "  %reload_ext autoreload\n"
     ]
    }
   ],
   "source": [
    "import numpy as np\n",
    "import tensorflow as tf\n",
    "from tensorflow import keras\n",
    "\n",
    "from tensorflow.keras import layers\n",
    "\n",
    "from tensorflow.keras import backend as K\n",
    "from tensorflow.keras.layers import Input, Concatenate , Add, Dot, Activation\n",
    "from tensorflow.keras.models import Model\n",
    "\n",
    "\n",
    "from tensorflow.keras.preprocessing.image import ImageDataGenerator\n",
    "import matplotlib.pyplot as plt\n",
    "\n",
    "from tensorflow.python.client import device_lib\n",
    "#tf.disable_v2_behavior()\n",
    "\n",
    "#print(device_lib.list_local_devices())\n",
    "print(\"Num GPUs Available: \", len(tf.config.list_physical_devices('GPU')))\n",
    "\n",
    "print(tf.__version__ )\n",
    "\n",
    "%matplotlib inline\n",
    "%load_ext autoreload\n",
    "%autoreload 2"
   ]
  },
  {
   "cell_type": "code",
   "execution_count": 125,
   "metadata": {},
   "outputs": [],
   "source": [
    "from tensorflow.keras.preprocessing import image\n",
    "from tensorflow.keras.applications.vgg16 import decode_predictions\n",
    "from tensorflow.keras.applications import VGG16\n",
    "from tensorflow.keras.applications.vgg16 import decode_predictions\n",
    "\n",
    "model = VGG16(weights='imagenet',\n",
    "                  include_top=False,\n",
    "                  input_shape=(224, 224, 3))"
   ]
  },
  {
   "cell_type": "code",
   "execution_count": 126,
   "metadata": {},
   "outputs": [],
   "source": [
    "from tensorflow.keras.applications.vgg16 import preprocess_input\n",
    "from tensorflow.keras.preprocessing import image\n",
    "from scipy.ndimage import rotate\n",
    "import imutils\n",
    "\n",
    "#https://machinelearningmastery.com/use-pre-trained-vgg-model-classify-objects-photographs/\n",
    "\n",
    "def load_img(img_path,img_shape, preprocess=True, angle=0):\n",
    "    \n",
    "    img_rows=img_shape[0]\n",
    "    img_cols=img_shape[1]\n",
    "    #num_channel=img_shape[2]\n",
    "\n",
    "\n",
    "    img = image.load_img(img_path , target_size=(img_rows, img_cols))    \n",
    "    #img = rotate(img, angle, reshape=False)\n",
    "    img = imutils.rotate(np.array(img), angle=angle)\n",
    "    if preprocess:\n",
    "        img = image.img_to_array(img) \n",
    "        img = np.expand_dims(img, axis=0)\n",
    "\n",
    "        img =  preprocess_input(img)\n",
    "        return img\n",
    "\n",
    "    #data = np.array(data)\n",
    "    #data = data.astype('float32')\n",
    "    #data /= 255\n",
    "    #labels=np.array(labels)\n",
    "    #print('data shape',data.shape)\n",
    "    #print('labels shape',labels.shape)\n",
    "    return np.array(img)"
   ]
  },
  {
   "cell_type": "code",
   "execution_count": 127,
   "metadata": {},
   "outputs": [],
   "source": [
    "def get_cnn_out(input, layer_num):\n",
    "    get_layer_output = K.function([model.input], [l.output for l in model.layers][layer_num])\n",
    "    layer_out = np.array(get_layer_output(input))\n",
    "    return layer_out[0]"
   ]
  },
  {
   "cell_type": "code",
   "execution_count": 133,
   "metadata": {},
   "outputs": [
    {
     "name": "stderr",
     "output_type": "stream",
     "text": [
      "MovieWriter imagemagick unavailable; using Pillow instead.\n"
     ]
    },
    {
     "data": {
      "image/png": "[encoded data removed]",
      "text/plain": [
       "<Figure size 432x288 with 4 Axes>"
      ]
     },
     "metadata": {
      "needs_background": "light"
     },
     "output_type": "display_data"
    }
   ],
   "source": [
    "\n",
    "from tkinter import Y\n",
    "from matplotlib.animation import FuncAnimation\n",
    "\n",
    "import time\n",
    "fig, ax = plt.subplots(1,4)\n",
    "fig.set_tight_layout(False)\n",
    "\n",
    "i=1\n",
    "\n",
    "def update(i):\n",
    "    label = 'timestep {0}'.format(i)\n",
    "\n",
    "    img  = load_img('test_images/piano_zoom.png', angle=i*45, img_shape=(224,224),preprocess=False)\n",
    "    img_in = load_img('test_images/piano_zoom.png', angle=i*45, img_shape=(224,224), preprocess=True)\n",
    "\n",
    "    ax[0].imshow(img)\n",
    "\n",
    "    ax[1].imshow(img_in[0, 111:114, 111:114, 1], cmap='gray')\n",
    "    ax[2].clear()\n",
    "\n",
    "    ax[2].bar(get_cnn_out(img_in, 1)[112, 112, :], np.arange(0, 64))\n",
    "    ax[3].imshow(np.mean(get_cnn_out(img_in, 17), axis=-1))\n",
    "\n",
    "    return ax\n",
    "\n",
    "\n",
    "\n",
    "anim = FuncAnimation(fig, update, frames=np.arange(0, 8), interval=400)\n",
    "\n",
    "anim.save('video_out/testMov.gif', dpi=80, writer='imagemagick')"
   ]
  },
  {
   "cell_type": "code",
   "execution_count": 129,
   "metadata": {},
   "outputs": [
    {
     "data": {
      "text/plain": [
       "array([ 0,  1,  2,  3,  4,  5,  6,  7,  8,  9, 10, 11, 12, 13, 14, 15, 16,\n",
       "       17, 18, 19, 20, 21, 22, 23, 24, 25, 26, 27, 28, 29, 30, 31, 32, 33,\n",
       "       34, 35, 36, 37, 38, 39, 40, 41, 42, 43, 44, 45, 46, 47, 48, 49, 50,\n",
       "       51, 52, 53, 54, 55, 56, 57, 58, 59, 60, 61, 62, 63])"
      ]
     },
     "execution_count": 129,
     "metadata": {},
     "output_type": "execute_result"
    }
   ],
   "source": [
    "np.arange(0, 64)"
   ]
  },
  {
   "cell_type": "code",
   "execution_count": 130,
   "metadata": {},
   "outputs": [
    {
     "data": {
      "text/plain": [
       "array([   0.       ,   49.23472  ,  905.498    ,    0.       ,\n",
       "        496.77084  ,  105.29036  ,   60.2603   ,    0.       ,\n",
       "          0.       ,  265.61426  ,  109.28567  ,  271.31155  ,\n",
       "        213.79807  ,   82.05754  ,    0.       ,    0.       ,\n",
       "          0.       ,    0.       , 1682.6947   ,   43.34636  ,\n",
       "          0.       ,  185.65361  ,    0.       ,   31.284386 ,\n",
       "          0.       ,   16.587381 ,  175.87279  ,  460.91272  ,\n",
       "          0.       ,    0.       ,    2.3190358,   49.962357 ,\n",
       "          0.       ,   57.144936 ,   44.956093 ,   95.125145 ,\n",
       "          0.       ,    0.       ,  200.25865  ,  249.72063  ,\n",
       "          0.       ,   27.833738 ,  366.63788  ,  121.70761  ,\n",
       "         96.39966  ,  293.51276  ,   74.44346  ,  222.75732  ,\n",
       "         44.603504 ,    0.       ,  180.3177   ,  198.08762  ,\n",
       "       1695.9413   ,  218.69707  ,  265.9626   ,   77.69427  ,\n",
       "         76.29728  ,   79.64439  ,   98.46181  ,    0.       ,\n",
       "          0.       ,  515.52155  ,   24.710924 ,   97.47206  ],\n",
       "      dtype=float32)"
      ]
     },
     "execution_count": 130,
     "metadata": {},
     "output_type": "execute_result"
    }
   ],
   "source": [
    "get_cnn_out(img_in, 2)[124, 124,:]"
   ]
  },
  {
   "cell_type": "code",
   "execution_count": 131,
   "metadata": {},
   "outputs": [],
   "source": [
    "m = np.array([[-21, -23, -18],\n",
    "              [-19, 0, -61.5], \n",
    "              [-25, -21, 62.5]])\n"
   ]
  },
  {
   "cell_type": "code",
   "execution_count": 132,
   "metadata": {},
   "outputs": [
    {
     "data": {
      "text/plain": [
       "array([[ 21. ,  19. ,  25. ],\n",
       "       [ 23. ,  -0. ,  21. ],\n",
       "       [ 18. ,  61.5, -62.5]])"
      ]
     },
     "execution_count": 132,
     "metadata": {},
     "output_type": "execute_result"
    }
   ],
   "source": [
    "-np.transpose(m)"
   ]
  }
 ],
 "metadata": {
  "kernelspec": {
   "display_name": "Python 3.7.13 ('masters')",
   "language": "python",
   "name": "python3"
  },
  "language_info": {
   "codemirror_mode": {
    "name": "ipython",
    "version": 3
   },
   "file_extension": ".py",
   "mimetype": "text/x-python",
   "name": "python",
   "nbconvert_exporter": "python",
   "pygments_lexer": "ipython3",
   "version": "3.7.13"
  },
  "orig_nbformat": 4,
  "vscode": {
   "interpreter": {
    "hash": "4f2ff97d05f7ea74f9ad893ce0ef62de10b7e20c3f21fc0f5866920ae6ae88e7"
   }
  }
 },
 "nbformat": 4,
 "nbformat_minor": 2
}
