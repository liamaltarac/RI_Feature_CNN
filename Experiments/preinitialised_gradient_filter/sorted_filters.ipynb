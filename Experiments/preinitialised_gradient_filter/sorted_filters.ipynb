{
 "cells": [
  {
   "cell_type": "code",
   "execution_count": 86,
   "metadata": {},
   "outputs": [],
   "source": [
    "import numpy as np\n",
    "import tensorflow as tf\n",
    "from tensorflow import keras\n",
    "\n",
    "from tensorflow.keras import layers\n",
    "\n",
    "from tensorflow.keras import backend as K\n",
    "from tensorflow.keras.layers import Input, Concatenate , Add, Dot, Activation, Lambda\n",
    "from tensorflow.keras.models import Model\n",
    "\n",
    "from tensorflow.image import flip_up_down, flip_left_right, rot90\n",
    "from tensorflow.linalg import normalize\n",
    "\n",
    "from tensorflow.keras.preprocessing.image import ImageDataGenerator\n",
    "\n",
    "import math\n",
    "\n",
    "import matplotlib.pyplot as plt\n",
    "import sys "
   ]
  },
  {
   "cell_type": "code",
   "execution_count": 87,
   "metadata": {},
   "outputs": [
    {
     "name": "stdout",
     "output_type": "stream",
     "text": [
      "Num GPUs Available:  1\n",
      "2.9.1\n"
     ]
    }
   ],
   "source": [
    "from tensorflow.python.client import device_lib\n",
    "#tf.disable_v2_behavior()\n",
    "\n",
    "#print(device_lib.list_local_devices())\n",
    "print(\"Num GPUs Available: \", len(tf.config.list_physical_devices('GPU')))\n",
    "\n",
    "print(tf.__version__ )"
   ]
  },
  {
   "cell_type": "markdown",
   "metadata": {},
   "source": [
    "## Sorted Filters\n",
    "\n",
    "In this experiment, I will try creating a new convolutional layer. Each filter F will be decomposed into Fs and Fa, but only Fs will be learned. Fa will be preinitialised to represent an angle from $0..2\\pi$.\n",
    "\n",
    "Knowing that an antisymetric matrix $F_a$ can be parameterised by 4 values : \n",
    "\n",
    "$$F_a = \\begin{bmatrix}a & b & c\\\\\n",
    "d & 0 & -d \\\\\n",
    "-c & -b & -a\n",
    "\\end{bmatrix}$$\n",
    "\n",
    "I can use Sobel filters (G)  to calulate the dominant angle of $F_a$.\n",
    "\n",
    "$$G_x = \\begin{bmatrix}1& 0 & -1\\\\\n",
    "2 & 0 & -2 \\\\\n",
    "1 & 0 & -1\n",
    "\\end{bmatrix} * F_a \\ \\text{   and    } \\ G_y = \\begin{bmatrix}1& 2 & 1\\\\\n",
    "0 & 0 & 0 \\\\\n",
    "-1 & -2 & -1\n",
    "\\end{bmatrix} * F_a $$\n",
    "\n",
    "Which can be writen as:\n",
    "\n",
    "$$ G_x = 2a - 2c + 4d $$\n",
    "$$ G_y = 2a+4b+2c$$\n",
    "\n",
    "And knowing that the Sobel angle $\\theta$ is \n",
    "\n",
    "\n",
    "$$ \\theta = \\tan^{-1} \\left(\\frac{G_y}{G_x} \\right) =  \\tan^{-1} \\left(\\frac{a+2b+c}{a-c+2d} \\right) $$\n",
    "\n",
    "I can then calculate a value of $d$ in such a way that for any given value of $a, b, c$, the Sobel angle of $F_a$ is $\\theta$\n",
    "\n",
    "$$d = \\frac{1}{2}\\cot(\\theta)(a + 2b+c)-a+c$$\n",
    "\n",
    "Knowing this identity, I can set $a, b$ and $c$ to random values, and ensure the dominant angle of $F_a$ simply by calculating $d$\n",
    "\n",
    "Once $a, b, c$ and $d$ are found, I will aditionaly normalize them so that their sum is 1  (https://legacy.imagemagick.org/Usage/convolve/#zero-summing_normalization"
   ]
  },
  {
   "cell_type": "markdown",
   "metadata": {},
   "source": [
    "To ensure that I only learn a symetric filter $F_s$, I will make use of the fact that $F_s$ can be parameterised by 3 values : \n",
    "\n",
    "$$F_s = \\begin{bmatrix}\\alpha & \\beta & \\alpha\\\\\n",
    " \\beta & \\gamma &  \\beta \\\\\n",
    "\\alpha &  \\beta & \\alpha\n",
    "\\end{bmatrix}$$\n",
    "\n",
    "So, by simply learning $\\alpha,\\beta$ and $\\gamma$, I will force the $F_s$ to remain symetric\n"
   ]
  },
  {
   "cell_type": "code",
   "execution_count": 215,
   "metadata": {},
   "outputs": [],
   "source": [
    "class SortedConv2D(tf.keras.layers.Layer):\n",
    "    def __init__(self, filters, kernel_size=(3,3), padding = 'VALID', strides = (1, 1), activation=None, use_bias = True):\n",
    "        super(SortedConv2D, self).__init__()\n",
    "        self.filters = filters\n",
    "        self.kernel_size = kernel_size\n",
    "        self.activation = activation\n",
    "        self.padding = padding\n",
    "        self.kernel_initializer = tf.keras.initializers.GlorotNormal(seed=5)\n",
    "        self.param_initializer =tf.keras.initializers.GlorotNormal(seed=5)\n",
    "\n",
    "        self.bias_initializer = tf.initializers.Zeros()\n",
    "        self.strides = strides\n",
    "        self.use_bias = use_bias\n",
    "        self.w = None\n",
    "        self.bias = None\n",
    "\n",
    "    def get_config(self):\n",
    "        config = super().get_config()\n",
    "        config.update({\n",
    "            \"filters\": self.filters,\n",
    "            \"kernel_size\": self.kernel_size,\n",
    "            \"padding\": self.padding,\n",
    "            \"strides\": self.strides,\n",
    "            \"activation\": self.activation,\n",
    "            \"use_bias\": self.use_bias,\n",
    "        })\n",
    "        return config\n",
    "\n",
    "    def get_weights(self):\n",
    "        return self.w\n",
    "\n",
    "    def build(self, input_shape):\n",
    "        *_, n_channels = input_shape\n",
    "\n",
    "        #####  BUILD Fa   ##### \n",
    "\n",
    "        a = tf.Variable(\n",
    "            initial_value=self.param_initializer(shape=( 1,\n",
    "                                                         n_channels,\n",
    "                                                         self.filters),\n",
    "                                 dtype='float32'), trainable=False)\n",
    "        b = tf.Variable(\n",
    "            initial_value=self.param_initializer(shape=( 1,\n",
    "                                                         n_channels,\n",
    "                                                         self.filters),\n",
    "                                 dtype='float32'), trainable=False)\n",
    "        c = tf.Variable(\n",
    "            initial_value=self.param_initializer(shape=( 1,\n",
    "                                                         n_channels,\n",
    "                                                         self.filters),\n",
    "                                 dtype='float32'), trainable=False)  \n",
    "\n",
    "        d = 0.5 * (tf.multiply(1/tf.math.tan(tf.linspace(0.0, 2.0*math.pi, self.filters, axis=0)) , (a+2*b+c)) - a + c)\n",
    "        \n",
    "        self.w = tf.Variable(\n",
    "            initial_value= tf.stack([tf.concat([a,b,c], axis=0) , \n",
    "                                    tf.concat( [d,tf.zeros([1, n_channels, self.filters]), -d], axis=0),\n",
    "                                    tf.concat( [-c, -b, -a], axis=0)])  , trainable=False)\n",
    "        \n",
    "\n",
    "\n",
    "        if self.use_bias:\n",
    "            self.bias = tf.Variable(\n",
    "                initial_value=self.bias_initializer(shape=(self.filters,), \n",
    "                                                    dtype='float32'),\n",
    "                trainable=True)\n",
    "\n",
    "\n",
    "    def call(self, inputs, training=None):\n",
    "\n",
    "        x =  tf.nn.conv2d(inputs, filters=self.w, strides=self.strides, \n",
    "                          padding=self.padding)\n",
    "\n",
    "\n",
    "\n",
    "        \n",
    "        if self.use_bias:\n",
    "            #x_sym = x_sym + self.b_sym\n",
    "            #x_anti = x_anti + self.b_anti\n",
    "            x = x + self.bias\n",
    "\n",
    "        return x\n",
    "layer_a = SortedConv2D(64)\n"
   ]
  },
  {
   "cell_type": "code",
   "execution_count": 92,
   "metadata": {},
   "outputs": [],
   "source": [
    "from tensorflow.keras.applications.vgg16 import preprocess_input\n",
    "from tensorflow.keras.preprocessing import image\n",
    "from scipy.ndimage import rotate\n",
    "import imutils\n",
    "\n",
    "#https://machinelearningmastery.com/use-pre-trained-vgg-model-classify-objects-photographs/\n",
    "\n",
    "def load_img(img_path,img_shape):\n",
    "    \n",
    "    img_rows=img_shape[0]\n",
    "    img_cols=img_shape[1]\n",
    "    #num_channel=img_shape[2]\n",
    "\n",
    "    img = image.load_img(img_path , target_size=(img_rows, img_cols))    \n",
    "    img = image.img_to_array(img) \n",
    "\n",
    "    img = np.expand_dims(img, axis=0)\n",
    "\n",
    "\n",
    "    return img\n"
   ]
  },
  {
   "cell_type": "code",
   "execution_count": 219,
   "metadata": {},
   "outputs": [
    {
     "name": "stdout",
     "output_type": "stream",
     "text": [
      "(3, 3, 3, 64)\n",
      "tf.Tensor(\n",
      "[[-3.3250183e-02  2.2738786e-01 -7.2154668e-05]\n",
      " [-4.2057171e+00  0.0000000e+00  4.2057171e+00]\n",
      " [ 7.2154668e-05 -2.2738786e-01  3.3250183e-02]], shape=(3, 3), dtype=float32)\n"
     ]
    }
   ],
   "source": [
    "img  = load_img('test_images/piano_zoom.png', img_shape=(224,224))\n",
    "\n",
    "\n",
    "layer_a(img)\n",
    "print(layer_a.get_weights().shape)\n",
    "print(layer_a.get_weights()[:,:,0,31])"
   ]
  },
  {
   "cell_type": "code",
   "execution_count": null,
   "metadata": {},
   "outputs": [],
   "source": []
  },
  {
   "cell_type": "code",
   "execution_count": 184,
   "metadata": {},
   "outputs": [],
   "source": [
    "a = tf.Variable(\n",
    "    initial_value= tf.keras.initializers.Constant(value=2)(shape=(1,\n",
    "                                                    3,\n",
    "                                                    5),\n",
    "                            dtype='float32'), trainable=False)"
   ]
  },
  {
   "cell_type": "code",
   "execution_count": 185,
   "metadata": {},
   "outputs": [
    {
     "data": {
      "text/plain": [
       "<tf.Variable 'Variable:0' shape=(1, 3, 5) dtype=float32, numpy=\n",
       "array([[[2., 2., 2., 2., 2.],\n",
       "        [2., 2., 2., 2., 2.],\n",
       "        [2., 2., 2., 2., 2.]]], dtype=float32)>"
      ]
     },
     "execution_count": 185,
     "metadata": {},
     "output_type": "execute_result"
    }
   ],
   "source": [
    "a"
   ]
  },
  {
   "cell_type": "code",
   "execution_count": 188,
   "metadata": {},
   "outputs": [
    {
     "data": {
      "text/plain": [
       "<tf.Tensor: shape=(5,), dtype=float32, numpy=array([ 72., 144., 216., 288., 360.], dtype=float32)>"
      ]
     },
     "execution_count": 188,
     "metadata": {},
     "output_type": "execute_result"
    }
   ],
   "source": [
    "tf.linspace(360/5, 360, 5, axis=0)"
   ]
  },
  {
   "cell_type": "code",
   "execution_count": 187,
   "metadata": {},
   "outputs": [
    {
     "data": {
      "text/plain": [
       "<tf.Tensor: shape=(1, 3, 5), dtype=float32, numpy=\n",
       "array([[[144., 288., 432., 576., 720.],\n",
       "        [144., 288., 432., 576., 720.],\n",
       "        [144., 288., 432., 576., 720.]]], dtype=float32)>"
      ]
     },
     "execution_count": 187,
     "metadata": {},
     "output_type": "execute_result"
    }
   ],
   "source": [
    "tf.multiply(tf.linspace(360/5, 360, 5, axis=0) , a)"
   ]
  },
  {
   "cell_type": "code",
   "execution_count": 178,
   "metadata": {},
   "outputs": [
    {
     "data": {
      "text/plain": [
       "TensorShape([3, 3, 3, 2])"
      ]
     },
     "execution_count": 178,
     "metadata": {},
     "output_type": "execute_result"
    }
   ],
   "source": [
    "x = tf.stack([tf.concat([a,a,a], axis=0), tf.concat([a,a,a], axis=0), tf.concat([a,a,a], axis=0)])\n",
    "x.shape"
   ]
  },
  {
   "cell_type": "code",
   "execution_count": 174,
   "metadata": {},
   "outputs": [
    {
     "data": {
      "text/plain": [
       "<tf.Tensor: shape=(), dtype=float32, numpy=185.625>"
      ]
     },
     "execution_count": 174,
     "metadata": {},
     "output_type": "execute_result"
    }
   ],
   "source": [
    "tf.linspace(360/64, 360, 64, axis=0)[32] "
   ]
  },
  {
   "cell_type": "code",
   "execution_count": 208,
   "metadata": {},
   "outputs": [
    {
     "data": {
      "text/plain": [
       "<tf.Tensor: shape=(), dtype=float32, numpy=3.1415927>"
      ]
     },
     "execution_count": 208,
     "metadata": {},
     "output_type": "execute_result"
    }
   ],
   "source": [
    "tf.linspace((2*math.pi)/64, 2*math.pi, 64, axis=0)[31]"
   ]
  },
  {
   "cell_type": "code",
   "execution_count": 221,
   "metadata": {},
   "outputs": [
    {
     "data": {
      "text/plain": [
       "<tf.Tensor: shape=(), dtype=float32, numpy=0.9375836>"
      ]
     },
     "execution_count": 221,
     "metadata": {},
     "output_type": "execute_result"
    }
   ],
   "source": [
    "0.5* ((1/tf.math.tan(tf.linspace(0., 2.*math.pi, 64, axis=0))[31]) * (-0.29142228 + 2*0.02473969 +0.17145856 ) + 0.29142228 +0.17145856)"
   ]
  },
  {
   "cell_type": "code",
   "execution_count": 227,
   "metadata": {},
   "outputs": [
    {
     "data": {
      "text/plain": [
       "<tf.Tensor: shape=(), dtype=float32, numpy=3.091726>"
      ]
     },
     "execution_count": 227,
     "metadata": {},
     "output_type": "execute_result"
    }
   ],
   "source": [
    "tf.linspace(0., 2.*math.pi, 64, axis=0)[31]"
   ]
  }
 ],
 "metadata": {
  "kernelspec": {
   "display_name": "Python 3.7.13 ('masters')",
   "language": "python",
   "name": "python3"
  },
  "language_info": {
   "codemirror_mode": {
    "name": "ipython",
    "version": 3
   },
   "file_extension": ".py",
   "mimetype": "text/x-python",
   "name": "python",
   "nbconvert_exporter": "python",
   "pygments_lexer": "ipython3",
   "version": "3.7.13"
  },
  "orig_nbformat": 4,
  "vscode": {
   "interpreter": {
    "hash": "4f2ff97d05f7ea74f9ad893ce0ef62de10b7e20c3f21fc0f5866920ae6ae88e7"
   }
  }
 },
 "nbformat": 4,
 "nbformat_minor": 2
}
