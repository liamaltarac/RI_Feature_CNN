{
 "cells": [
  {
   "cell_type": "code",
   "execution_count": 1,
   "metadata": {},
   "outputs": [],
   "source": [
    "import numpy as np\n",
    "import os \n",
    "os.environ['TF_CPP_MIN_LOG_LEVEL'] = '0'\n",
    "os.environ['TF_CPP_MIN_VLOG_LEVEL'] = '3'\n",
    "\n",
    "import tensorflow as tf\n",
    "\n",
    "\n",
    "from tensorflow import keras\n",
    "\n",
    "from tensorflow.keras import layers\n",
    "\n",
    "from tensorflow.keras import backend as K\n",
    "from tensorflow.keras.layers import Input, Concatenate , Add, Dot, Activation, Lambda, BatchNormalization, LeakyReLU, Softmax, ReLU\n",
    "from tensorflow.keras.models import Model\n",
    "\n",
    "from tensorflow.image import flip_up_down, flip_left_right, rot90\n",
    "from tensorflow.linalg import normalize\n",
    "\n",
    "from tensorflow.keras.preprocessing.image import ImageDataGenerator\n",
    "\n",
    "import math\n",
    "\n",
    "import matplotlib.pyplot as plt\n",
    "import sys \n",
    "sys.path.append('..')\n",
    "\n",
    "import datetime\n"
   ]
  },
  {
   "cell_type": "code",
   "execution_count": 2,
   "metadata": {},
   "outputs": [
    {
     "name": "stdout",
     "output_type": "stream",
     "text": [
      "Num GPUs Available:  1\n",
      "2.9.1\n"
     ]
    }
   ],
   "source": [
    "from tensorflow.python.client import device_lib\n",
    "#tf.disable_v2_behavior()\n",
    "#tf.debugging.disable_traceback_filtering()\n",
    "\n",
    "#print(device_lib.list_local_devices())\n",
    "print(\"Num GPUs Available: \", len(tf.config.list_physical_devices('GPU')))\n",
    "\n",
    "print(tf.__version__ )"
   ]
  },
  {
   "cell_type": "code",
   "execution_count": 29,
   "metadata": {},
   "outputs": [
    {
     "name": "stdout",
     "output_type": "stream",
     "text": [
      "Model: \"model_6\"\n",
      "_________________________________________________________________\n",
      " Layer (type)                Output Shape              Param #   \n",
      "=================================================================\n",
      " input_10 (InputLayer)       [(None, 32, 32, 3)]       0         \n",
      "                                                                 \n",
      " conv2d_18 (Conv2D)          (None, 32, 32, 8)         224       \n",
      "                                                                 \n",
      " max_pooling2d_7 (MaxPooling  (None, 16, 16, 8)        0         \n",
      " 2D)                                                             \n",
      "                                                                 \n",
      " conv2d_19 (Conv2D)          (None, 16, 16, 16)        1168      \n",
      "                                                                 \n",
      " conv2d_20 (Conv2D)          (None, 16, 16, 16)        2320      \n",
      "                                                                 \n",
      " max_pooling2d_8 (MaxPooling  (None, 8, 8, 16)         0         \n",
      " 2D)                                                             \n",
      "                                                                 \n",
      " conv2d_21 (Conv2D)          (None, 8, 8, 32)          4640      \n",
      "                                                                 \n",
      " conv2d_22 (Conv2D)          (None, 8, 8, 32)          9248      \n",
      "                                                                 \n",
      " conv2d_23 (Conv2D)          (None, 8, 8, 32)          9248      \n",
      "                                                                 \n",
      " dropout_6 (Dropout)         (None, 8, 8, 32)          0         \n",
      "                                                                 \n",
      " flatten_3 (Flatten)         (None, 2048)              0         \n",
      "                                                                 \n",
      " dense_6 (Dense)             (None, 256)               524544    \n",
      "                                                                 \n",
      " dropout_7 (Dropout)         (None, 256)               0         \n",
      "                                                                 \n",
      " dense_7 (Dense)             (None, 100)               25700     \n",
      "                                                                 \n",
      "=================================================================\n",
      "Total params: 577,092\n",
      "Trainable params: 577,092\n",
      "Non-trainable params: 0\n",
      "_________________________________________________________________\n"
     ]
    }
   ],
   "source": [
    "input_net = Input((32, 32, 3))\n",
    "\n",
    "#y = layers.Conv2D(filters=32, kernel_size = 3, activation=LeakyReLU(alpha=0.1), padding='SAME')(input_net)\n",
    "y = layers.Conv2D(kernel_size = 3, filters=8, activation=LeakyReLU(alpha=0.1), padding='SAME')(input_net)\n",
    "y = layers.MaxPooling2D(pool_size=(2, 2))(y) \n",
    "y = layers.Conv2D(kernel_size = 3, filters=16, activation=LeakyReLU(alpha=0.1), padding='SAME')(y)\n",
    "y = layers.Conv2D(kernel_size = 3, filters=16, activation=LeakyReLU(alpha=0.1), padding='SAME')(y)\n",
    "y = layers.MaxPooling2D(pool_size=(2, 2))(y) \n",
    "y = layers.Conv2D(kernel_size = 3, filters=32, activation=LeakyReLU(alpha=0.1), padding='SAME')(y)\n",
    "y = layers.Conv2D(kernel_size = 3, filters=32, activation=LeakyReLU(alpha=0.1), padding='SAME')(y)\n",
    "y = layers.Conv2D(kernel_size = 3, filters=32, activation=LeakyReLU(alpha=0.1), padding='SAME')(y)\n",
    "\n",
    "y = layers.Dropout(0.5)(y)\n",
    "\n",
    "y = layers.Flatten()(y)\n",
    "y = layers.Dense(256, activation=ReLU())(y)\n",
    "y = layers.Dropout(0.5)(y)\n",
    "output_net  = layers.Dense(100, activation=Softmax())(y)\n",
    "\n",
    "model = Model(inputs = input_net, outputs = output_net)\n",
    "model.summary()"
   ]
  },
  {
   "cell_type": "code",
   "execution_count": 27,
   "metadata": {},
   "outputs": [
    {
     "name": "stdout",
     "output_type": "stream",
     "text": [
      "x_train shape: (50000, 32, 32, 3)\n",
      "50000 train samples\n",
      "10000 test samples\n"
     ]
    },
    {
     "data": {
      "text/plain": [
       "<matplotlib.image.AxesImage at 0x276c983b488>"
      ]
     },
     "execution_count": 27,
     "metadata": {},
     "output_type": "execute_result"
    },
    {
     "data": {
      "image/png": "[encoded data removed]",
      "text/plain": [
       "<Figure size 432x288 with 1 Axes>"
      ]
     },
     "metadata": {
      "needs_background": "light"
     },
     "output_type": "display_data"
    }
   ],
   "source": [
    "num_classes = 100\n",
    "input_shape = (32, 32, 3)\n",
    "\n",
    "# Load the data and split it between train and test sets\n",
    "(x_train, y_train), (x_test, y_test) = keras.datasets.cifar100.load_data()\n",
    "\n",
    "\n",
    "\n",
    "# Scale images to the [0, 1] range\n",
    "x_train = x_train.astype(\"float32\") / 255\n",
    "x_test = x_test.astype(\"float32\") / 255\n",
    "# Make sure images have shape (28, 28, 1)\n",
    "#x_train = np.expand_dims(x_train, -1)\n",
    "#x_test = np.expand_dims(x_test, -1)\n",
    "print(\"x_train shape:\", x_train.shape)\n",
    "print(x_train.shape[0], \"train samples\")\n",
    "print(x_test.shape[0], \"test samples\")\n",
    "\n",
    "# convert class vectors to binary class matrices\n",
    "#y_train = keras.utils.to_categorical(y_train, num_classes)\n",
    "#y_test = keras.utils.to_categorical(y_test, num_classes)\n",
    "\n",
    "plt.imshow(x_train[0,:,:,:])\n",
    "\n"
   ]
  },
  {
   "cell_type": "code",
   "execution_count": 30,
   "metadata": {},
   "outputs": [
    {
     "name": "stdout",
     "output_type": "stream",
     "text": [
      "Epoch 1/30\n",
      "196/196 [==============================] - 5s 18ms/step - loss: 4.2459 - accuracy: 0.0495 - top-5-accuracy: 0.1829 - val_loss: 3.8989 - val_accuracy: 0.0991 - val_top-5-accuracy: 0.2985\n",
      "Epoch 2/30\n",
      "196/196 [==============================] - 3s 15ms/step - loss: 3.8491 - accuracy: 0.1075 - top-5-accuracy: 0.3145 - val_loss: 3.6554 - val_accuracy: 0.1413 - val_top-5-accuracy: 0.3763\n",
      "Epoch 3/30\n",
      "196/196 [==============================] - 3s 15ms/step - loss: 3.6092 - accuracy: 0.1488 - top-5-accuracy: 0.3907 - val_loss: 3.3598 - val_accuracy: 0.2064 - val_top-5-accuracy: 0.4756\n",
      "Epoch 4/30\n",
      "196/196 [==============================] - 3s 15ms/step - loss: 3.4403 - accuracy: 0.1798 - top-5-accuracy: 0.4403 - val_loss: 3.2323 - val_accuracy: 0.2167 - val_top-5-accuracy: 0.4983\n",
      "Epoch 5/30\n",
      "196/196 [==============================] - 3s 15ms/step - loss: 3.3203 - accuracy: 0.1999 - top-5-accuracy: 0.4735 - val_loss: 3.3015 - val_accuracy: 0.2071 - val_top-5-accuracy: 0.4835\n",
      "Epoch 6/30\n",
      "196/196 [==============================] - 3s 15ms/step - loss: 3.2245 - accuracy: 0.2183 - top-5-accuracy: 0.4978 - val_loss: 3.0591 - val_accuracy: 0.2557 - val_top-5-accuracy: 0.5470\n",
      "Epoch 7/30\n",
      "196/196 [==============================] - 3s 15ms/step - loss: 3.1444 - accuracy: 0.2330 - top-5-accuracy: 0.5172 - val_loss: 3.0181 - val_accuracy: 0.2564 - val_top-5-accuracy: 0.5508\n",
      "Epoch 8/30\n",
      "196/196 [==============================] - 3s 15ms/step - loss: 3.0712 - accuracy: 0.2476 - top-5-accuracy: 0.5346 - val_loss: 3.1495 - val_accuracy: 0.2368 - val_top-5-accuracy: 0.5194\n",
      "Epoch 9/30\n",
      "196/196 [==============================] - 3s 15ms/step - loss: 3.0125 - accuracy: 0.2581 - top-5-accuracy: 0.5525 - val_loss: 2.9266 - val_accuracy: 0.2784 - val_top-5-accuracy: 0.5714\n",
      "Epoch 10/30\n",
      "196/196 [==============================] - 3s 16ms/step - loss: 2.9650 - accuracy: 0.2695 - top-5-accuracy: 0.5633 - val_loss: 2.8623 - val_accuracy: 0.2947 - val_top-5-accuracy: 0.5958\n",
      "Epoch 11/30\n",
      "196/196 [==============================] - 3s 15ms/step - loss: 2.8994 - accuracy: 0.2806 - top-5-accuracy: 0.5771 - val_loss: 2.8124 - val_accuracy: 0.3080 - val_top-5-accuracy: 0.6047\n",
      "Epoch 12/30\n",
      "196/196 [==============================] - 3s 15ms/step - loss: 2.8633 - accuracy: 0.2863 - top-5-accuracy: 0.5866 - val_loss: 2.9029 - val_accuracy: 0.2858 - val_top-5-accuracy: 0.5764\n",
      "Epoch 13/30\n",
      "196/196 [==============================] - 3s 15ms/step - loss: 2.8170 - accuracy: 0.2968 - top-5-accuracy: 0.5973 - val_loss: 2.7757 - val_accuracy: 0.3160 - val_top-5-accuracy: 0.6162\n",
      "Epoch 14/30\n",
      "196/196 [==============================] - 3s 15ms/step - loss: 2.7812 - accuracy: 0.3031 - top-5-accuracy: 0.6080 - val_loss: 2.7533 - val_accuracy: 0.3183 - val_top-5-accuracy: 0.6147\n",
      "Epoch 15/30\n",
      "196/196 [==============================] - 3s 16ms/step - loss: 2.7537 - accuracy: 0.3083 - top-5-accuracy: 0.6123 - val_loss: 2.6700 - val_accuracy: 0.3359 - val_top-5-accuracy: 0.6317\n",
      "Epoch 16/30\n",
      "196/196 [==============================] - 3s 15ms/step - loss: 2.7243 - accuracy: 0.3135 - top-5-accuracy: 0.6213 - val_loss: 2.6146 - val_accuracy: 0.3414 - val_top-5-accuracy: 0.6401\n",
      "Epoch 17/30\n",
      "196/196 [==============================] - 3s 15ms/step - loss: 2.6922 - accuracy: 0.3229 - top-5-accuracy: 0.6291 - val_loss: 2.7229 - val_accuracy: 0.3246 - val_top-5-accuracy: 0.6210\n",
      "Epoch 18/30\n",
      "196/196 [==============================] - 3s 15ms/step - loss: 2.6596 - accuracy: 0.3276 - top-5-accuracy: 0.6362 - val_loss: 2.7288 - val_accuracy: 0.3206 - val_top-5-accuracy: 0.6207\n",
      "Epoch 19/30\n",
      "196/196 [==============================] - 3s 15ms/step - loss: 2.6450 - accuracy: 0.3309 - top-5-accuracy: 0.6399 - val_loss: 2.6073 - val_accuracy: 0.3419 - val_top-5-accuracy: 0.6430\n",
      "Epoch 20/30\n",
      "196/196 [==============================] - 3s 15ms/step - loss: 2.6187 - accuracy: 0.3376 - top-5-accuracy: 0.6457 - val_loss: 2.6760 - val_accuracy: 0.3448 - val_top-5-accuracy: 0.6447\n",
      "Epoch 21/30\n",
      "196/196 [==============================] - 3s 16ms/step - loss: 2.5915 - accuracy: 0.3412 - top-5-accuracy: 0.6512 - val_loss: 2.6063 - val_accuracy: 0.3545 - val_top-5-accuracy: 0.6477\n",
      "Epoch 22/30\n",
      "196/196 [==============================] - 3s 15ms/step - loss: 2.5762 - accuracy: 0.3459 - top-5-accuracy: 0.6555 - val_loss: 2.5608 - val_accuracy: 0.3627 - val_top-5-accuracy: 0.6646\n",
      "Epoch 23/30\n",
      "196/196 [==============================] - 3s 16ms/step - loss: 2.5543 - accuracy: 0.3473 - top-5-accuracy: 0.6591 - val_loss: 2.5918 - val_accuracy: 0.3494 - val_top-5-accuracy: 0.6494\n",
      "Epoch 24/30\n",
      "196/196 [==============================] - 3s 15ms/step - loss: 2.5444 - accuracy: 0.3513 - top-5-accuracy: 0.6644 - val_loss: 2.5123 - val_accuracy: 0.3661 - val_top-5-accuracy: 0.6642\n",
      "Epoch 25/30\n",
      "196/196 [==============================] - 3s 15ms/step - loss: 2.5200 - accuracy: 0.3591 - top-5-accuracy: 0.6688 - val_loss: 2.5565 - val_accuracy: 0.3586 - val_top-5-accuracy: 0.6570\n",
      "Epoch 26/30\n",
      "196/196 [==============================] - 3s 15ms/step - loss: 2.4969 - accuracy: 0.3610 - top-5-accuracy: 0.6746 - val_loss: 2.4992 - val_accuracy: 0.3715 - val_top-5-accuracy: 0.6641\n",
      "Epoch 27/30\n",
      "196/196 [==============================] - 3s 15ms/step - loss: 2.4931 - accuracy: 0.3623 - top-5-accuracy: 0.6757 - val_loss: 2.5519 - val_accuracy: 0.3592 - val_top-5-accuracy: 0.6599\n",
      "Epoch 28/30\n",
      "196/196 [==============================] - 3s 15ms/step - loss: 2.4685 - accuracy: 0.3680 - top-5-accuracy: 0.6839 - val_loss: 2.5280 - val_accuracy: 0.3659 - val_top-5-accuracy: 0.6607\n",
      "Epoch 29/30\n",
      "196/196 [==============================] - 3s 15ms/step - loss: 2.4589 - accuracy: 0.3689 - top-5-accuracy: 0.6833 - val_loss: 2.5253 - val_accuracy: 0.3678 - val_top-5-accuracy: 0.6690\n",
      "Epoch 30/30\n",
      "196/196 [==============================] - 3s 15ms/step - loss: 2.4405 - accuracy: 0.3724 - top-5-accuracy: 0.6886 - val_loss: 2.5698 - val_accuracy: 0.3619 - val_top-5-accuracy: 0.6539\n"
     ]
    },
    {
     "data": {
      "text/plain": [
       "<keras.callbacks.History at 0x2766e11db48>"
      ]
     },
     "execution_count": 30,
     "metadata": {},
     "output_type": "execute_result"
    }
   ],
   "source": [
    "model = Model(inputs = input_net, outputs = output_net)\n",
    "\n",
    "\n",
    "optimizer = tf.keras.optimizers.RMSprop()\n",
    "\n",
    "\n",
    "model.compile(\n",
    "        optimizer=optimizer,\n",
    "        loss=keras.losses.SparseCategoricalCrossentropy(from_logits=False),\n",
    "        metrics=[\n",
    "            keras.metrics.SparseCategoricalAccuracy(name=\"accuracy\"),\n",
    "            keras.metrics.SparseTopKCategoricalAccuracy(5, name=\"top-5-accuracy\"),\n",
    "        ],\n",
    ")\n",
    "\n",
    "\n",
    "\n",
    "batch_size = 256\n",
    "epochs = 30\n",
    "model.fit(x_train, y_train, batch_size=batch_size, epochs=epochs, validation_data=(x_test, y_test))"
   ]
  },
  {
   "cell_type": "code",
   "execution_count": 13,
   "metadata": {},
   "outputs": [],
   "source": [
    "from scipy import ndimage\n",
    "\n",
    "from skimage.filters import sobel_h\n",
    "from skimage.filters import sobel_v"
   ]
  },
  {
   "cell_type": "code",
   "execution_count": 31,
   "metadata": {},
   "outputs": [],
   "source": [
    "def get_filter(layer):\n",
    "    layer = model.layers[layer]\n",
    "\n",
    "    # check for convolutional layer\n",
    "    if 'conv' not in layer.name:\n",
    "        raise ValueError('Layer must be a conv. layer')\n",
    "    # get filter weights\n",
    "    filters, biases = layer.get_weights()\n",
    "    print(\"biases shape : \", biases.shape)\n",
    "    print(\"filters shape : \", filters.shape)\n",
    "\n",
    "    return (filters)\n",
    "    #print(layer.name, filters.shape)\n",
    "\n",
    "# I use sobel to determine the dominant orientation of the filter\n",
    "def getSobelAngle(f):\n",
    "\n",
    "    s_h = sobel_h(f)\n",
    "    s_v = sobel_v(f)\n",
    "\n",
    "    return np.abs((np.degrees(np.arctan2(s_h,s_v))% 360)-180)\n",
    "def getSymAntiSym(filter):\n",
    "\n",
    "    #patches = extract_image_patches(filters, [1, k, k, 1],  [1, k, k, 1], rates = [1,1,1,1] , padding = 'VALID')\n",
    "    #print(patches)\n",
    "    mat_flip_x = np.fliplr(filter)\n",
    "\n",
    "    mat_flip_y = np.flipud(filter)\n",
    "\n",
    "    mat_flip_xy =  np.fliplr( np.flipud(filter))\n",
    "\n",
    "    sum = filter + mat_flip_x + mat_flip_y + mat_flip_xy\n",
    "    mat_sum_rot_90 = np.rot90(sum)\n",
    "    \n",
    "    return  (sum + mat_sum_rot_90) / 8, filter - ((sum + mat_sum_rot_90) / 8)"
   ]
  },
  {
   "cell_type": "code",
   "execution_count": 1,
   "metadata": {},
   "outputs": [
    {
     "ename": "NameError",
     "evalue": "name 'get_filter' is not defined",
     "output_type": "error",
     "traceback": [
      "\u001b[1;31m---------------------------------------------------------------------------\u001b[0m",
      "\u001b[1;31mNameError\u001b[0m                                 Traceback (most recent call last)",
      "\u001b[1;32m~\\AppData\\Local\\Temp\\ipykernel_18380\\1904412358.py\u001b[0m in \u001b[0;36m<module>\u001b[1;34m\u001b[0m\n\u001b[0;32m      1\u001b[0m \u001b[0mLAYER\u001b[0m \u001b[1;33m=\u001b[0m \u001b[1;36m3\u001b[0m\u001b[1;33m\u001b[0m\u001b[1;33m\u001b[0m\u001b[0m\n\u001b[1;32m----> 2\u001b[1;33m \u001b[0mfilters\u001b[0m \u001b[1;33m=\u001b[0m \u001b[0mget_filter\u001b[0m\u001b[1;33m(\u001b[0m\u001b[0mLAYER\u001b[0m\u001b[1;33m)\u001b[0m\u001b[1;33m\u001b[0m\u001b[1;33m\u001b[0m\u001b[0m\n\u001b[0m\u001b[0;32m      3\u001b[0m \u001b[1;33m\u001b[0m\u001b[0m\n\u001b[0;32m      4\u001b[0m \u001b[0mFILTER\u001b[0m \u001b[1;33m=\u001b[0m \u001b[1;33m[\u001b[0m\u001b[1;36m15\u001b[0m\u001b[1;33m]\u001b[0m\u001b[1;31m#list(range(filters.shape[-1]))\u001b[0m\u001b[1;33m\u001b[0m\u001b[1;33m\u001b[0m\u001b[0m\n\u001b[0;32m      5\u001b[0m \u001b[0mCHANNEL\u001b[0m \u001b[1;33m=\u001b[0m \u001b[0mlist\u001b[0m\u001b[1;33m(\u001b[0m\u001b[0mrange\u001b[0m\u001b[1;33m(\u001b[0m\u001b[0mfilters\u001b[0m\u001b[1;33m.\u001b[0m\u001b[0mshape\u001b[0m\u001b[1;33m[\u001b[0m\u001b[1;33m-\u001b[0m\u001b[1;36m2\u001b[0m\u001b[1;33m]\u001b[0m\u001b[1;33m)\u001b[0m\u001b[1;33m)\u001b[0m\u001b[1;33m\u001b[0m\u001b[1;33m\u001b[0m\u001b[0m\n",
      "\u001b[1;31mNameError\u001b[0m: name 'get_filter' is not defined"
     ]
    }
   ],
   "source": [
    "LAYER = 3\n",
    "filters = get_filter(LAYER)\n",
    "\n",
    "FILTER = [15]#list(range(filters.shape[-1]))\n",
    "CHANNEL = list(range(filters.shape[-2]))\n",
    "\n",
    "\n",
    "thetas = []\n",
    "for i, channel in enumerate(CHANNEL):\n",
    "    for filter in FILTER:\n",
    "        \n",
    "        f = filters[:,:,:, filter]\n",
    "        f = f[:,:, channel]  \n",
    "        s, a = getSymAntiSym(f)\n",
    "        sym_mag = np.linalg.norm(s) \n",
    "        anti_mag = np.linalg.norm(a) \n",
    "        if anti_mag > sym_mag*1.2:\n",
    "\n",
    "            theta = getSobelAngle(f)\n",
    "            theta = theta[theta.shape[0]//2, theta.shape[1]//2]\n",
    "            thetas.append(theta)\n",
    "\n",
    "plt.hist(thetas, bins=36)\n",
    "plt.xticks(np.arange(0, 181, step=30), size='small', rotation=0)    \n",
    "\n",
    "plt.show()\n",
    "print(len(thetas))\n",
    "print(thetas)"
   ]
  }
 ],
 "metadata": {
  "kernelspec": {
   "display_name": "Python 3.7.13 ('masters')",
   "language": "python",
   "name": "python3"
  },
  "language_info": {
   "codemirror_mode": {
    "name": "ipython",
    "version": 3
   },
   "file_extension": ".py",
   "mimetype": "text/x-python",
   "name": "python",
   "nbconvert_exporter": "python",
   "pygments_lexer": "ipython3",
   "version": "3.7.13"
  },
  "orig_nbformat": 4,
  "vscode": {
   "interpreter": {
    "hash": "4f2ff97d05f7ea74f9ad893ce0ef62de10b7e20c3f21fc0f5866920ae6ae88e7"
   }
  }
 },
 "nbformat": 4,
 "nbformat_minor": 2
}
