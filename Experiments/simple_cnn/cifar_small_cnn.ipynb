{
 "cells": [
  {
   "cell_type": "code",
   "execution_count": 1,
   "metadata": {},
   "outputs": [],
   "source": [
    "import numpy as np\n",
    "import os \n",
    "os.environ['TF_CPP_MIN_LOG_LEVEL'] = '0'\n",
    "os.environ['TF_CPP_MIN_VLOG_LEVEL'] = '3'\n",
    "\n",
    "import tensorflow as tf\n",
    "\n",
    "\n",
    "from tensorflow import keras\n",
    "\n",
    "from tensorflow.keras import layers\n",
    "\n",
    "from tensorflow.keras import backend as K\n",
    "from tensorflow.keras.layers import Input, Concatenate , Add, Dot, Activation, Lambda, BatchNormalization, LeakyReLU, Softmax, ReLU\n",
    "from tensorflow.keras.models import Model\n",
    "\n",
    "from tensorflow.image import flip_up_down, flip_left_right, rot90\n",
    "from tensorflow.linalg import normalize\n",
    "\n",
    "from tensorflow.keras.preprocessing.image import ImageDataGenerator\n",
    "\n",
    "import math\n",
    "\n",
    "import matplotlib.pyplot as plt\n",
    "import sys \n",
    "sys.path.append('..')\n",
    "\n",
    "import datetime\n"
   ]
  },
  {
   "cell_type": "code",
   "execution_count": 2,
   "metadata": {},
   "outputs": [
    {
     "name": "stdout",
     "output_type": "stream",
     "text": [
      "Num GPUs Available:  1\n",
      "2.11.0-dev20220812\n"
     ]
    }
   ],
   "source": [
    "from tensorflow.python.client import device_lib\n",
    "#tf.disable_v2_behavior()\n",
    "#tf.debugging.disable_traceback_filtering()\n",
    "\n",
    "#print(device_lib.list_local_devices())\n",
    "print(\"Num GPUs Available: \", len(tf.config.list_physical_devices('GPU')))\n",
    "\n",
    "print(tf.__version__ )"
   ]
  },
  {
   "cell_type": "code",
   "execution_count": 3,
   "metadata": {},
   "outputs": [
    {
     "name": "stdout",
     "output_type": "stream",
     "text": [
      "Model: \"model\"\n",
      "_________________________________________________________________\n",
      " Layer (type)                Output Shape              Param #   \n",
      "=================================================================\n",
      " input_1 (InputLayer)        [(None, 32, 32, 3)]       0         \n",
      "                                                                 \n",
      " conv2d (Conv2D)             (None, 32, 32, 8)         224       \n",
      "                                                                 \n",
      " max_pooling2d (MaxPooling2D  (None, 16, 16, 8)        0         \n",
      " )                                                               \n",
      "                                                                 \n",
      " conv2d_1 (Conv2D)           (None, 16, 16, 16)        1168      \n",
      "                                                                 \n",
      " max_pooling2d_1 (MaxPooling  (None, 8, 8, 16)         0         \n",
      " 2D)                                                             \n",
      "                                                                 \n",
      " conv2d_2 (Conv2D)           (None, 8, 8, 32)          4640      \n",
      "                                                                 \n",
      " flatten (Flatten)           (None, 2048)              0         \n",
      "                                                                 \n",
      " dense (Dense)               (None, 256)               524544    \n",
      "                                                                 \n",
      " dense_1 (Dense)             (None, 100)               25700     \n",
      "                                                                 \n",
      "=================================================================\n",
      "Total params: 556,276\n",
      "Trainable params: 556,276\n",
      "Non-trainable params: 0\n",
      "_________________________________________________________________\n"
     ]
    }
   ],
   "source": [
    "input_net = Input((32, 32, 3))\n",
    "\n",
    "#y = layers.Conv2D(filters=32, kernel_size = 3, activation=LeakyReLU(alpha=0.1), padding='SAME')(input_net)\n",
    "y = layers.Conv2D(kernel_size = 3, filters=8, activation=LeakyReLU(alpha=0.1), padding='SAME')(input_net)\n",
    "y = layers.MaxPooling2D(pool_size=(2, 2))(y) \n",
    "y = layers.Conv2D(kernel_size = 3, filters=16, activation=LeakyReLU(alpha=0.1), padding='SAME')(y)\n",
    "y = layers.MaxPooling2D(pool_size=(2, 2))(y) \n",
    "y = layers.Conv2D(kernel_size = 3, filters=32, activation=LeakyReLU(alpha=0.1), padding='SAME')(y)\n",
    "\n",
    "\n",
    "y = layers.Flatten()(y)\n",
    "y = layers.Dense(256, activation=ReLU())(y)\n",
    "output_net  = layers.Dense(100, activation=Softmax())(y)\n",
    "\n",
    "model = Model(inputs = input_net, outputs = output_net)\n",
    "model.summary()"
   ]
  },
  {
   "cell_type": "code",
   "execution_count": 4,
   "metadata": {},
   "outputs": [
    {
     "name": "stdout",
     "output_type": "stream",
     "text": [
      "x_train shape: (50000, 32, 32, 3)\n",
      "50000 train samples\n",
      "10000 test samples\n"
     ]
    },
    {
     "data": {
      "text/plain": [
       "<matplotlib.image.AxesImage at 0x24a47e1cdc8>"
      ]
     },
     "execution_count": 4,
     "metadata": {},
     "output_type": "execute_result"
    },
    {
     "data": {
      "image/png": "[encoded data removed]",
      "text/plain": [
       "<Figure size 432x288 with 1 Axes>"
      ]
     },
     "metadata": {
      "needs_background": "light"
     },
     "output_type": "display_data"
    }
   ],
   "source": [
    "num_classes = 100\n",
    "input_shape = (32, 32, 3)\n",
    "\n",
    "# Load the data and split it between train and test sets\n",
    "(x_train, y_train), (x_test, y_test) = keras.datasets.cifar100.load_data()\n",
    "\n",
    "\n",
    "\n",
    "# Scale images to the [0, 1] range\n",
    "x_train = x_train.astype(\"float32\") / 255\n",
    "x_test = x_test.astype(\"float32\") / 255\n",
    "# Make sure images have shape (28, 28, 1)\n",
    "#x_train = np.expand_dims(x_train, -1)\n",
    "#x_test = np.expand_dims(x_test, -1)\n",
    "print(\"x_train shape:\", x_train.shape)\n",
    "print(x_train.shape[0], \"train samples\")\n",
    "print(x_test.shape[0], \"test samples\")\n",
    "\n",
    "# convert class vectors to binary class matrices\n",
    "#y_train = keras.utils.to_categorical(y_train, num_classes)\n",
    "#y_test = keras.utils.to_categorical(y_test, num_classes)\n",
    "\n",
    "plt.imshow(x_train[0,:,:,:])\n",
    "\n"
   ]
  },
  {
   "cell_type": "code",
   "execution_count": 5,
   "metadata": {},
   "outputs": [
    {
     "name": "stdout",
     "output_type": "stream",
     "text": [
      "Epoch 1/30\n",
      "196/196 [==============================] - 113s 28ms/step - loss: 4.0578 - accuracy: 0.0909 - top-5-accuracy: 0.2630 - val_loss: 3.7349 - val_accuracy: 0.1422 - val_top-5-accuracy: 0.3696\n",
      "Epoch 2/30\n",
      "196/196 [==============================] - 4s 22ms/step - loss: 3.4945 - accuracy: 0.1825 - top-5-accuracy: 0.4288 - val_loss: 3.5434 - val_accuracy: 0.1712 - val_top-5-accuracy: 0.4156\n",
      "Epoch 3/30\n",
      "196/196 [==============================] - 4s 22ms/step - loss: 3.2237 - accuracy: 0.2299 - top-5-accuracy: 0.5011 - val_loss: 3.2775 - val_accuracy: 0.2227 - val_top-5-accuracy: 0.4876\n",
      "Epoch 4/30\n",
      "196/196 [==============================] - 4s 22ms/step - loss: 3.0192 - accuracy: 0.2655 - top-5-accuracy: 0.5504 - val_loss: 3.0399 - val_accuracy: 0.2636 - val_top-5-accuracy: 0.5454\n",
      "Epoch 5/30\n",
      "196/196 [==============================] - 4s 23ms/step - loss: 2.8546 - accuracy: 0.2977 - top-5-accuracy: 0.5891 - val_loss: 2.9574 - val_accuracy: 0.2765 - val_top-5-accuracy: 0.5681\n",
      "Epoch 6/30\n",
      "196/196 [==============================] - 4s 22ms/step - loss: 2.7183 - accuracy: 0.3249 - top-5-accuracy: 0.6203 - val_loss: 2.9183 - val_accuracy: 0.2881 - val_top-5-accuracy: 0.5767\n",
      "Epoch 7/30\n",
      "196/196 [==============================] - 4s 21ms/step - loss: 2.5971 - accuracy: 0.3490 - top-5-accuracy: 0.6488 - val_loss: 2.8627 - val_accuracy: 0.3041 - val_top-5-accuracy: 0.5940\n",
      "Epoch 8/30\n",
      "196/196 [==============================] - 4s 21ms/step - loss: 2.4747 - accuracy: 0.3753 - top-5-accuracy: 0.6752 - val_loss: 2.9340 - val_accuracy: 0.2860 - val_top-5-accuracy: 0.5814\n",
      "Epoch 9/30\n",
      "196/196 [==============================] - 4s 21ms/step - loss: 2.3672 - accuracy: 0.3950 - top-5-accuracy: 0.6984 - val_loss: 2.7169 - val_accuracy: 0.3321 - val_top-5-accuracy: 0.6250\n",
      "Epoch 10/30\n",
      "196/196 [==============================] - 4s 22ms/step - loss: 2.2606 - accuracy: 0.4195 - top-5-accuracy: 0.7192 - val_loss: 2.7961 - val_accuracy: 0.3237 - val_top-5-accuracy: 0.6119\n",
      "Epoch 11/30\n",
      "196/196 [==============================] - 4s 22ms/step - loss: 2.1661 - accuracy: 0.4399 - top-5-accuracy: 0.7404 - val_loss: 2.7750 - val_accuracy: 0.3285 - val_top-5-accuracy: 0.6207\n",
      "Epoch 12/30\n",
      "196/196 [==============================] - 3s 17ms/step - loss: 2.0662 - accuracy: 0.4641 - top-5-accuracy: 0.7558 - val_loss: 2.6997 - val_accuracy: 0.3491 - val_top-5-accuracy: 0.6425\n",
      "Epoch 13/30\n",
      "196/196 [==============================] - 3s 14ms/step - loss: 1.9672 - accuracy: 0.4851 - top-5-accuracy: 0.7767 - val_loss: 2.7207 - val_accuracy: 0.3475 - val_top-5-accuracy: 0.6407\n",
      "Epoch 14/30\n",
      "196/196 [==============================] - 4s 21ms/step - loss: 1.8719 - accuracy: 0.5064 - top-5-accuracy: 0.7953 - val_loss: 2.8114 - val_accuracy: 0.3358 - val_top-5-accuracy: 0.6420\n",
      "Epoch 15/30\n",
      "196/196 [==============================] - 4s 21ms/step - loss: 1.7775 - accuracy: 0.5279 - top-5-accuracy: 0.8105 - val_loss: 2.8337 - val_accuracy: 0.3387 - val_top-5-accuracy: 0.6285\n",
      "Epoch 16/30\n",
      "196/196 [==============================] - 4s 21ms/step - loss: 1.6822 - accuracy: 0.5497 - top-5-accuracy: 0.8261 - val_loss: 2.8309 - val_accuracy: 0.3480 - val_top-5-accuracy: 0.6357\n",
      "Epoch 17/30\n",
      "196/196 [==============================] - 4s 21ms/step - loss: 1.5850 - accuracy: 0.5734 - top-5-accuracy: 0.8446 - val_loss: 2.9811 - val_accuracy: 0.3401 - val_top-5-accuracy: 0.6315\n",
      "Epoch 18/30\n",
      "196/196 [==============================] - 4s 21ms/step - loss: 1.4893 - accuracy: 0.5961 - top-5-accuracy: 0.8581 - val_loss: 3.0827 - val_accuracy: 0.3457 - val_top-5-accuracy: 0.6313\n",
      "Epoch 19/30\n",
      "196/196 [==============================] - 4s 21ms/step - loss: 1.3988 - accuracy: 0.6195 - top-5-accuracy: 0.8730 - val_loss: 3.0391 - val_accuracy: 0.3407 - val_top-5-accuracy: 0.6355\n",
      "Epoch 20/30\n",
      "196/196 [==============================] - 4s 21ms/step - loss: 1.3061 - accuracy: 0.6439 - top-5-accuracy: 0.8862 - val_loss: 3.2316 - val_accuracy: 0.3281 - val_top-5-accuracy: 0.6221\n",
      "Epoch 21/30\n",
      "196/196 [==============================] - 4s 21ms/step - loss: 1.2141 - accuracy: 0.6651 - top-5-accuracy: 0.8987 - val_loss: 3.2069 - val_accuracy: 0.3440 - val_top-5-accuracy: 0.6317\n",
      "Epoch 22/30\n",
      "196/196 [==============================] - 4s 21ms/step - loss: 1.1221 - accuracy: 0.6901 - top-5-accuracy: 0.9120 - val_loss: 3.2758 - val_accuracy: 0.3465 - val_top-5-accuracy: 0.6303\n",
      "Epoch 23/30\n",
      "196/196 [==============================] - 4s 21ms/step - loss: 1.0384 - accuracy: 0.7120 - top-5-accuracy: 0.9227 - val_loss: 3.4919 - val_accuracy: 0.3330 - val_top-5-accuracy: 0.6159\n",
      "Epoch 24/30\n",
      "196/196 [==============================] - 4s 21ms/step - loss: 0.9494 - accuracy: 0.7338 - top-5-accuracy: 0.9348 - val_loss: 3.6289 - val_accuracy: 0.3292 - val_top-5-accuracy: 0.6170\n",
      "Epoch 25/30\n",
      "196/196 [==============================] - 4s 21ms/step - loss: 0.8695 - accuracy: 0.7556 - top-5-accuracy: 0.9424 - val_loss: 3.8136 - val_accuracy: 0.3297 - val_top-5-accuracy: 0.6157\n",
      "Epoch 26/30\n",
      "196/196 [==============================] - 4s 21ms/step - loss: 0.7915 - accuracy: 0.7756 - top-5-accuracy: 0.9521 - val_loss: 3.7922 - val_accuracy: 0.3269 - val_top-5-accuracy: 0.6159\n",
      "Epoch 27/30\n",
      "196/196 [==============================] - 4s 21ms/step - loss: 0.7174 - accuracy: 0.7967 - top-5-accuracy: 0.9603 - val_loss: 4.1085 - val_accuracy: 0.3255 - val_top-5-accuracy: 0.6105\n",
      "Epoch 28/30\n",
      "196/196 [==============================] - 4s 21ms/step - loss: 0.6473 - accuracy: 0.8143 - top-5-accuracy: 0.9664 - val_loss: 4.2755 - val_accuracy: 0.3316 - val_top-5-accuracy: 0.6108\n",
      "Epoch 29/30\n",
      "196/196 [==============================] - 4s 21ms/step - loss: 0.5782 - accuracy: 0.8340 - top-5-accuracy: 0.9726 - val_loss: 4.6475 - val_accuracy: 0.3145 - val_top-5-accuracy: 0.5997\n",
      "Epoch 30/30\n",
      "196/196 [==============================] - 4s 21ms/step - loss: 0.5225 - accuracy: 0.8486 - top-5-accuracy: 0.9778 - val_loss: 4.5923 - val_accuracy: 0.3272 - val_top-5-accuracy: 0.6092\n"
     ]
    },
    {
     "data": {
      "text/plain": [
       "<keras.callbacks.History at 0x24a3899c548>"
      ]
     },
     "execution_count": 5,
     "metadata": {},
     "output_type": "execute_result"
    }
   ],
   "source": [
    "model = Model(inputs = input_net, outputs = output_net)\n",
    "\n",
    "\n",
    "optimizer = tf.keras.optimizers.RMSprop()\n",
    "\n",
    "\n",
    "model.compile(\n",
    "        optimizer=optimizer,\n",
    "        loss=keras.losses.SparseCategoricalCrossentropy(from_logits=False),\n",
    "        metrics=[\n",
    "            keras.metrics.SparseCategoricalAccuracy(name=\"accuracy\"),\n",
    "            keras.metrics.SparseTopKCategoricalAccuracy(5, name=\"top-5-accuracy\"),\n",
    "        ],\n",
    ")\n",
    "\n",
    "\n",
    "\n",
    "batch_size = 256\n",
    "epochs = 30\n",
    "model.fit(x_train, y_train, batch_size=batch_size, epochs=epochs, validation_data=(x_test, y_test))"
   ]
  },
  {
   "cell_type": "code",
   "execution_count": 6,
   "metadata": {},
   "outputs": [],
   "source": [
    "from scipy import ndimage\n",
    "\n",
    "from skimage.filters import sobel_h\n",
    "from skimage.filters import sobel_v"
   ]
  },
  {
   "cell_type": "code",
   "execution_count": 7,
   "metadata": {},
   "outputs": [],
   "source": [
    "def get_filter(layer):\n",
    "    layer = model.layers[layer]\n",
    "\n",
    "    # check for convolutional layer\n",
    "    if 'conv' not in layer.name:\n",
    "        raise ValueError('Layer must be a conv. layer')\n",
    "    # get filter weights\n",
    "    filters, biases = layer.get_weights()\n",
    "    print(\"biases shape : \", biases.shape)\n",
    "    print(\"filters shape : \", filters.shape)\n",
    "\n",
    "    return (filters)\n",
    "    #print(layer.name, filters.shape)\n",
    "\n",
    "# I use sobel to determine the dominant orientation of the filter\n",
    "def getSobelAngle(f):\n",
    "\n",
    "    s_h = sobel_h(f)\n",
    "    s_v = sobel_v(f)\n",
    "\n",
    "    return np.abs((np.degrees(np.arctan2(s_h,s_v))% 360))\n",
    "def getSymAntiSym(filter):\n",
    "\n",
    "    #patches = extract_image_patches(filters, [1, k, k, 1],  [1, k, k, 1], rates = [1,1,1,1] , padding = 'VALID')\n",
    "    #print(patches)\n",
    "    mat_flip_x = np.fliplr(filter)\n",
    "\n",
    "    mat_flip_y = np.flipud(filter)\n",
    "\n",
    "    mat_flip_xy =  np.fliplr( np.flipud(filter))\n",
    "\n",
    "    sum = filter + mat_flip_x + mat_flip_y + mat_flip_xy\n",
    "    mat_sum_rot_90 = np.rot90(sum)\n",
    "    \n",
    "    return  (sum + mat_sum_rot_90) / 8, filter - ((sum + mat_sum_rot_90) / 8)"
   ]
  },
  {
   "cell_type": "code",
   "execution_count": 8,
   "metadata": {},
   "outputs": [
    {
     "name": "stdout",
     "output_type": "stream",
     "text": [
      "biases shape :  (32,)\n",
      "filters shape :  (3, 3, 16, 32)\n"
     ]
    },
    {
     "data": {
      "image/png": "[encoded data removed]",
      "text/plain": [
       "<Figure size 432x288 with 1 Axes>"
      ]
     },
     "metadata": {
      "needs_background": "light"
     },
     "output_type": "display_data"
    },
    {
     "name": "stdout",
     "output_type": "stream",
     "text": [
      "16\n",
      "[346.69562, 218.56253, 181.24294, 24.859781, 272.849, 236.72565, 171.95155, 133.28264, 356.75458, 333.6157, 186.23505, 315.2455, 8.071848, 4.230931, 178.14346, 128.26784]\n"
     ]
    }
   ],
   "source": [
    "\n",
    "LAYER = 5\n",
    "filters = get_filter(LAYER)\n",
    "\n",
    "FILTER = [30] #list(range(filters.shape[-1]))\n",
    "CHANNEL =  list(range(filters.shape[-2]))\n",
    "\n",
    "\n",
    "thetas = []\n",
    "for i, channel in enumerate(CHANNEL):\n",
    "    for filter in FILTER:\n",
    "        \n",
    "        f = filters[:,:,:, filter]\n",
    "        f = f[:,:, channel]  \n",
    "        s, a = getSymAntiSym(f)\n",
    "        #print(\"==========(s)\n",
    "        #print(a)\n",
    "        #print(getSobelAngle(f)[1, 1])\n",
    "        sym_mag = np.linalg.norm(s) \n",
    "        anti_mag = np.linalg.norm(a) \n",
    "        if anti_mag > 0:\n",
    "\n",
    "            theta = getSobelAngle(f)\n",
    "            theta = theta[theta.shape[0]//2, theta.shape[1]//2]\n",
    "            thetas.append(theta)\n",
    "\n",
    "plt.hist(thetas, bins=16)\n",
    "plt.xticks(np.arange(0, 360, step=45), size='small', rotation=0)    \n",
    "\n",
    "plt.show()\n",
    "print(len(thetas))\n",
    "print(thetas)"
   ]
  },
  {
   "cell_type": "code",
   "execution_count": 9,
   "metadata": {},
   "outputs": [
    {
     "name": "stdout",
     "output_type": "stream",
     "text": [
      "100/100 [==============================] - 7s 62ms/step - loss: 8.1866 - accuracy: 0.1278 - top-5-accuracy: 0.3202\n",
      "Test loss: 8.186578750610352\n",
      "Test accuracy: 0.12780000269412994\n"
     ]
    }
   ],
   "source": [
    "def rotateDataset(x,y, maxRot = 360, h=32, w=32, batch_size=100):\n",
    "    datagen = ImageDataGenerator(rotation_range=maxRot)\n",
    "    # fit the generator\n",
    "    datagen.fit(x.reshape(x.shape[0], 32, 32, 3))\n",
    "    #out = datagen.flow(x.reshape(x.shape[0], h, w, 1), y.reshape(y.shape[0], -1), batch_size=batch_size)\n",
    "\n",
    "    out = datagen.flow(x.reshape(x.shape[0], h, w, 3),  y, batch_size=batch_size)\n",
    "\n",
    "\n",
    "    return  out\n",
    "\n",
    "score = model.evaluate(rotateDataset(x_test, y_test, maxRot=360), verbose=1)\n",
    "print(\"Test loss:\", score[0])\n",
    "print(\"Test accuracy:\", score[1])"
   ]
  }
 ],
 "metadata": {
  "kernelspec": {
   "display_name": "Python 3.7.13 ('masters')",
   "language": "python",
   "name": "python3"
  },
  "language_info": {
   "codemirror_mode": {
    "name": "ipython",
    "version": 3
   },
   "file_extension": ".py",
   "mimetype": "text/x-python",
   "name": "python",
   "nbconvert_exporter": "python",
   "pygments_lexer": "ipython3",
   "version": "3.7.13"
  },
  "orig_nbformat": 4,
  "vscode": {
   "interpreter": {
    "hash": "4f2ff97d05f7ea74f9ad893ce0ef62de10b7e20c3f21fc0f5866920ae6ae88e7"
   }
  }
 },
 "nbformat": 4,
 "nbformat_minor": 2
}
