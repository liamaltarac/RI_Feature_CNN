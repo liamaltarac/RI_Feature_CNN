{
 "cells": [
  {
   "cell_type": "code",
   "execution_count": 13,
   "metadata": {},
   "outputs": [],
   "source": [
    "import numpy as np\n",
    "from scipy import ndimage\n",
    "\n",
    "from skimage.filters import sobel_h\n",
    "from skimage.filters import sobel_v\n",
    "\n",
    "#from sa_decomp_layer import SADecompLayer\n",
    "\n",
    "import os\n",
    "#os.environ[\"CUDA_VISIBLE_DEVICES\"]=\"-1\"  #disables GPU \n",
    "import matplotlib\n",
    "import matplotlib.pyplot as plt\n",
    "\n",
    "#tf.__version__\n",
    "from tensorflow.python.client import device_lib\n",
    "#print(device_lib.list_local_devices())\n",
    "\n",
    "plt.rcParams['figure.figsize'] = [10,10]\n",
    "\n",
    "from tensorflow.keras.preprocessing import image\n",
    "from tensorflow.keras.applications.vgg16 import decode_predictions\n",
    "from tensorflow.keras.applications import VGG16"
   ]
  },
  {
   "cell_type": "code",
   "execution_count": 14,
   "metadata": {},
   "outputs": [],
   "source": [
    "model = VGG16(weights='imagenet',\n",
    "                  include_top=False,\n",
    "                  input_shape=(224, 224, 3))"
   ]
  },
  {
   "cell_type": "code",
   "execution_count": 15,
   "metadata": {},
   "outputs": [],
   "source": [
    "def get_filter(layer):\n",
    "    layer = model.layers[layer]\n",
    "\n",
    "    # check for convolutional layer\n",
    "    if 'conv' not in layer.name:\n",
    "        raise ValueError('Layer must be a conv. layer')\n",
    "    # get filter weights\n",
    "    filters, biases = layer.get_weights()\n",
    "    print(\"biases shape : \", biases.shape)\n",
    "    print(\"filters shape : \", filters.shape)\n",
    "\n",
    "    return (filters)\n",
    "    #print(layer.name, filters.shape)\n",
    "\n",
    "# I use sobel to determine the dominant orientation of the filter\n",
    "def getSobelAngle(f):\n",
    "\n",
    "    s_h = sobel_h(f)\n",
    "    s_v = sobel_v(f)\n",
    "\n",
    "    return np.abs((np.degrees(np.arctan2(s_h,s_v))% 180))\n",
    "def getSymAntiSym(filter):\n",
    "\n",
    "    #patches = extract_image_patches(filters, [1, k, k, 1],  [1, k, k, 1], rates = [1,1,1,1] , padding = 'VALID')\n",
    "    #print(patches)\n",
    "    mat_flip_x = np.fliplr(filter)\n",
    "\n",
    "    mat_flip_y = np.flipud(filter)\n",
    "\n",
    "    mat_flip_xy =  np.fliplr( np.flipud(filter))\n",
    "\n",
    "    sum = filter + mat_flip_x + mat_flip_y + mat_flip_xy\n",
    "    mat_sum_rot_90 = np.rot90(sum)\n",
    "    \n",
    "    return  (sum + mat_sum_rot_90) / 8, filter - ((sum + mat_sum_rot_90) / 8)"
   ]
  },
  {
   "cell_type": "code",
   "execution_count": 16,
   "metadata": {},
   "outputs": [
    {
     "ename": "NameError",
     "evalue": "name 'filters' is not defined",
     "output_type": "error",
     "traceback": [
      "\u001b[1;31m---------------------------------------------------------------------------\u001b[0m",
      "\u001b[1;31mNameError\u001b[0m                                 Traceback (most recent call last)",
      "\u001b[1;32m~\\AppData\\Local\\Temp\\ipykernel_20172\\307767513.py\u001b[0m in \u001b[0;36m<module>\u001b[1;34m\u001b[0m\n\u001b[1;32m----> 1\u001b[1;33m \u001b[0mfilters\u001b[0m\u001b[1;33m.\u001b[0m\u001b[0mshape\u001b[0m\u001b[1;33m[\u001b[0m\u001b[1;33m-\u001b[0m\u001b[1;36m1\u001b[0m\u001b[1;33m]\u001b[0m\u001b[1;33m\u001b[0m\u001b[1;33m\u001b[0m\u001b[0m\n\u001b[0m",
      "\u001b[1;31mNameError\u001b[0m: name 'filters' is not defined"
     ]
    }
   ],
   "source": [
    "filters.shape[-1]"
   ]
  },
  {
   "cell_type": "code",
   "execution_count": 66,
   "metadata": {},
   "outputs": [
    {
     "name": "stdout",
     "output_type": "stream",
     "text": [
      "biases shape :  (512,)\n",
      "filters shape :  (3, 3, 256, 512)\n"
     ]
    },
    {
     "data": {
      "image/png": "[encoded data removed]",
      "text/plain": [
       "<Figure size 432x288 with 1 Axes>"
      ]
     },
     "metadata": {
      "needs_background": "light"
     },
     "output_type": "display_data"
    },
    {
     "data": {
      "text/plain": [
       "256"
      ]
     },
     "execution_count": 66,
     "metadata": {},
     "output_type": "execute_result"
    }
   ],
   "source": [
    "\n",
    "LAYER = 11\n",
    "filters = get_filter(LAYER)\n",
    "\n",
    "FILTER = [50] #list(range(filters.shape[-1]))\n",
    "CHANNEL =  list(range(filters.shape[-2]))\n",
    "\n",
    "\n",
    "thetas = []\n",
    "anti_mags = []\n",
    "for i, channel in enumerate(CHANNEL):\n",
    "    for filter in FILTER:\n",
    "        \n",
    "        f = filters[:,:,:, filter]\n",
    "        f = f[:,:, channel]  \n",
    "        s, a = getSymAntiSym(f)\n",
    "        #print(\"==========(s)\n",
    "        #print(a)\n",
    "        #print(getSobelAngle(f)[1, 1])\n",
    "        sym_mag = np.linalg.norm(s) \n",
    "        anti_mag = np.linalg.norm(a) \n",
    "        if anti_mag > 0:\n",
    "\n",
    "            theta = getSobelAngle(f)\n",
    "            theta = theta[theta.shape[0]//2, theta.shape[1]//2]\n",
    "            thetas.append(theta)\n",
    "            anti_mags.append(anti_mag)\n",
    "plt.hist(thetas, bins=16)\n",
    "plt.xticks(np.arange(0, 180, step=45), size='small', rotation=0)    \n",
    "plt.title(\"Layer {}, Filter = {}, Channel orientation Distribution\".format(str(LAYER), FILTER[0]))\n",
    "plt.xlabel('θ (Deg)')\n",
    "plt.ylabel('Count')\n",
    "plt.show()\n",
    "len(thetas)"
   ]
  },
  {
   "cell_type": "code",
   "execution_count": 61,
   "metadata": {},
   "outputs": [
    {
     "data": {
      "image/png": "[encoded data removed]",
      "text/plain": [
       "<Figure size 432x288 with 1 Axes>"
      ]
     },
     "metadata": {
      "needs_background": "light"
     },
     "output_type": "display_data"
    },
    {
     "data": {
      "text/plain": [
       "256"
      ]
     },
     "execution_count": 61,
     "metadata": {},
     "output_type": "execute_result"
    }
   ],
   "source": [
    "counts_thetas = np.histogram(thetas, bins=16)\n",
    "counts_mag = np.histogram(anti_mag, bins=16)\n",
    "\n",
    "count = np.multiply(counts_mag, counts_thetas)\n",
    "\n",
    "plt.hist(thetas, bins=16)\n",
    "plt.xticks(np.arange(0, 180, step=45), size='small', rotation=0)    \n",
    "plt.title(\"Layer {}, Filter = {}, Channel Scaled orientation Distribution\".format(str(LAYER), FILTER[0]))\n",
    "plt.xlabel('θ (Deg)')\n",
    "plt.ylabel('Count')\n",
    "plt.show()\n",
    "len(scaled_thetas)"
   ]
  },
  {
   "cell_type": "code",
   "execution_count": 44,
   "metadata": {},
   "outputs": [
    {
     "data": {
      "text/plain": [
       "523.15643"
      ]
     },
     "execution_count": 44,
     "metadata": {},
     "output_type": "execute_result"
    }
   ],
   "source": [
    "n = np.var(thetas)\n",
    "n"
   ]
  },
  {
   "cell_type": "code",
   "execution_count": 69,
   "metadata": {},
   "outputs": [
    {
     "data": {
      "image/png": "[encoded data removed]",
      "text/plain": [
       "<Figure size 432x288 with 1 Axes>"
      ]
     },
     "metadata": {
      "needs_background": "light"
     },
     "output_type": "display_data"
    },
    {
     "data": {
      "text/plain": [
       "256"
      ]
     },
     "execution_count": 69,
     "metadata": {},
     "output_type": "execute_result"
    }
   ],
   "source": [
    "plt.hist(anti_mags, bins=32)\n",
    "plt.xticks(np.arange(np.min(anti_mags), np.max(anti_mags), step=45), size='small', rotation=0)    \n",
    "plt.title(\"Layer {}, Filter = {}, Channel magnitude Distribution\".format(str(LAYER), FILTER[0]))\n",
    "plt.xlabel('magnitude ')\n",
    "plt.ylabel('Count')\n",
    "plt.show()\n",
    "len(anti_mags)\n"
   ]
  },
  {
   "cell_type": "code",
   "execution_count": 139,
   "metadata": {},
   "outputs": [
    {
     "data": {
      "text/plain": [
       "array([[ 2.07484338e+03, -5.56713625e-01],\n",
       "       [-5.56713625e-01,  2.21414295e-03]])"
      ]
     },
     "execution_count": 139,
     "metadata": {},
     "output_type": "execute_result"
    }
   ],
   "source": [
    "np.cov(thetas, anti_mags)"
   ]
  },
  {
   "cell_type": "code",
   "execution_count": null,
   "metadata": {},
   "outputs": [],
   "source": [
    "#Calculations for circular variance:\n",
    "#https://www.cambridge.org/core/books/statistical-analysis-of-circular-data/324A46F3941A5CD641ED0B0910B2C33F\n",
    "#https://www.ebi.ac.uk/thornton-srv/software/PROCHECK/nmr_manual/man_cv.html"
   ]
  },
  {
   "cell_type": "code",
   "execution_count": 56,
   "metadata": {},
   "outputs": [
    {
     "data": {
      "text/plain": [
       "array([0.999])"
      ]
     },
     "execution_count": 56,
     "metadata": {},
     "output_type": "execute_result"
    }
   ],
   "source": [
    "t_rad = np.linspace(0,2*np.pi, 1000)\n",
    "n = t_rad.shape\n",
    "r = np.sqrt(np.sum(np.cos(t_rad))**2 + np.sum(np.sin(t_rad))**2)\n",
    "1 - r/n"
   ]
  },
  {
   "cell_type": "code",
   "execution_count": 39,
   "metadata": {},
   "outputs": [
    {
     "data": {
      "text/plain": [
       "3.350759e-05"
      ]
     },
     "execution_count": 39,
     "metadata": {},
     "output_type": "execute_result"
    }
   ],
   "source": [
    "n = np.var(anti_mags)\n",
    "n"
   ]
  },
  {
   "cell_type": "code",
   "execution_count": 113,
   "metadata": {},
   "outputs": [
    {
     "name": "stdout",
     "output_type": "stream",
     "text": [
      "biases shape :  (64,)\n",
      "filters shape :  (3, 3, 3, 64)\n",
      "(3, 3)\n",
      "biases shape :  (64,)\n",
      "filters shape :  (3, 3, 64, 64)\n",
      "(3, 3)\n"
     ]
    },
    {
     "data": {
      "text/plain": [
       "<matplotlib.image.AxesImage at 0x22dd5358188>"
      ]
     },
     "execution_count": 113,
     "metadata": {},
     "output_type": "execute_result"
    },
    {
     "data": {
      "image/png": "[encoded data removed]",
      "text/plain": [
       "<Figure size 720x720 with 1 Axes>"
      ]
     },
     "metadata": {
      "needs_background": "light"
     },
     "output_type": "display_data"
    }
   ],
   "source": [
    "import skimage.measure\n",
    "\n",
    "def normalized(a, axis=-1, order=2):\n",
    "    l2 = np.atleast_1d(np.linalg.norm(a, order, axis))\n",
    "    l2[l2==0] = 1\n",
    "    return a / np.expand_dims(l2, axis)\n",
    "LAYER = 1\n",
    "filters = get_filter(LAYER)\n",
    "\n",
    "filter = 11\n",
    "channel =  1\n",
    "f = filters[:,:,:, filter]\n",
    "f1 = np.sum(f[:,:, :], axis=-1)\n",
    "print(f1.shape)\n",
    "\n",
    "\n",
    "out = f1\n",
    "for layer in range(2, 3):\n",
    "    try:\n",
    "        filters = get_filter(layer)\n",
    "        f = filters[:,:,:, filter]\n",
    "        f = np.sum(f[:,:, :], axis=-1)\n",
    "        out = out* f\n",
    "        print(out.shape)\n",
    "\n",
    "    except:\n",
    "        skimage.measure.block_reduce(out, (2,2), np.max)\n",
    "\n",
    "\n",
    "\n",
    "plt.imshow(out)\n"
   ]
  },
  {
   "cell_type": "code",
   "execution_count": 149,
   "metadata": {},
   "outputs": [
    {
     "data": {
      "text/plain": [
       "4.9973423177362974e-09"
      ]
     },
     "execution_count": 149,
     "metadata": {},
     "output_type": "execute_result"
    }
   ],
   "source": [
    "1 - np.exp(-(9.997342e-05**2)/2)"
   ]
  },
  {
   "cell_type": "code",
   "execution_count": 150,
   "metadata": {},
   "outputs": [
    {
     "data": {
      "text/plain": [
       "0.009998670911676211"
      ]
     },
     "execution_count": 150,
     "metadata": {},
     "output_type": "execute_result"
    }
   ],
   "source": [
    "np.sqrt(9.997342e-05)"
   ]
  },
  {
   "cell_type": "code",
   "execution_count": 1,
   "metadata": {},
   "outputs": [],
   "source": [
    "from scipy.optimize import minimize\n",
    "from scipy.special import i0, i1\n",
    "\n"
   ]
  },
  {
   "cell_type": "code",
   "execution_count": 12,
   "metadata": {},
   "outputs": [
    {
     "ename": "ValueError",
     "evalue": "Unknown solver  L-BFGS-B",
     "output_type": "error",
     "traceback": [
      "\u001b[1;31m---------------------------------------------------------------------------\u001b[0m",
      "\u001b[1;31mValueError\u001b[0m                                Traceback (most recent call last)",
      "\u001b[1;32m~\\AppData\\Local\\Temp\\ipykernel_20172\\3590970147.py\u001b[0m in \u001b[0;36m<module>\u001b[1;34m\u001b[0m\n\u001b[0;32m     14\u001b[0m \u001b[1;33m\u001b[0m\u001b[0m\n\u001b[0;32m     15\u001b[0m \u001b[1;33m\u001b[0m\u001b[0m\n\u001b[1;32m---> 16\u001b[1;33m \u001b[0moptimize_kappa\u001b[0m\u001b[1;33m(\u001b[0m\u001b[1;36m0.5\u001b[0m\u001b[1;33m)\u001b[0m\u001b[1;33m\u001b[0m\u001b[1;33m\u001b[0m\u001b[0m\n\u001b[0m",
      "\u001b[1;32m~\\AppData\\Local\\Temp\\ipykernel_20172\\3590970147.py\u001b[0m in \u001b[0;36moptimize_kappa\u001b[1;34m(desired_variance)\u001b[0m\n\u001b[0;32m     11\u001b[0m \u001b[1;33m\u001b[0m\u001b[0m\n\u001b[0;32m     12\u001b[0m     \u001b[0mkappa_init\u001b[0m \u001b[1;33m=\u001b[0m \u001b[1;36m0.000005\u001b[0m\u001b[1;33m\u001b[0m\u001b[1;33m\u001b[0m\u001b[0m\n\u001b[1;32m---> 13\u001b[1;33m     \u001b[0mres\u001b[0m \u001b[1;33m=\u001b[0m \u001b[0mminimize\u001b[0m\u001b[1;33m(\u001b[0m\u001b[0mobjective\u001b[0m\u001b[1;33m,\u001b[0m \u001b[0mkappa_init\u001b[0m\u001b[1;33m,\u001b[0m \u001b[0mbounds\u001b[0m \u001b[1;33m=\u001b[0m \u001b[0mbnds\u001b[0m\u001b[1;33m,\u001b[0m \u001b[0mmethod\u001b[0m\u001b[1;33m=\u001b[0m\u001b[1;34m' L-BFGS-B'\u001b[0m\u001b[1;33m)\u001b[0m\u001b[1;33m\u001b[0m\u001b[1;33m\u001b[0m\u001b[0m\n\u001b[0m\u001b[0;32m     14\u001b[0m \u001b[1;33m\u001b[0m\u001b[0m\n\u001b[0;32m     15\u001b[0m \u001b[1;33m\u001b[0m\u001b[0m\n",
      "\u001b[1;32mc:\\Users\\AN46710\\Anaconda3\\envs\\masters\\lib\\site-packages\\scipy\\optimize\\_minimize.py\u001b[0m in \u001b[0;36mminimize\u001b[1;34m(fun, x0, args, method, jac, hess, hessp, bounds, constraints, tol, callback, options)\u001b[0m\n\u001b[0;32m    648\u001b[0m                                            callback=callback, **options)\n\u001b[0;32m    649\u001b[0m     \u001b[1;32melse\u001b[0m\u001b[1;33m:\u001b[0m\u001b[1;33m\u001b[0m\u001b[1;33m\u001b[0m\u001b[0m\n\u001b[1;32m--> 650\u001b[1;33m         \u001b[1;32mraise\u001b[0m \u001b[0mValueError\u001b[0m\u001b[1;33m(\u001b[0m\u001b[1;34m'Unknown solver %s'\u001b[0m \u001b[1;33m%\u001b[0m \u001b[0mmethod\u001b[0m\u001b[1;33m)\u001b[0m\u001b[1;33m\u001b[0m\u001b[1;33m\u001b[0m\u001b[0m\n\u001b[0m\u001b[0;32m    651\u001b[0m \u001b[1;33m\u001b[0m\u001b[0m\n\u001b[0;32m    652\u001b[0m \u001b[1;33m\u001b[0m\u001b[0m\n",
      "\u001b[1;31mValueError\u001b[0m: Unknown solver  L-BFGS-B"
     ]
    }
   ],
   "source": [
    "import numpy as np\n",
    "def var_von_mises(kappa):\n",
    "    kappa = kappa + 1e-20\n",
    "\n",
    "    return 1 - i0(kappa) / i1(kappa)\n",
    "\n",
    "def optimize_kappa(desired_variance):\n",
    "    def objective(kappa):\n",
    "        return abs(var_von_mises(kappa) - desired_variance)\n",
    "    bnds = [(1e-20, None)]\n",
    "\n",
    "    kappa_init = 0.000005\n",
    "    res = minimize(objective, kappa_init, bounds = bnds, method='SLSQP')\n",
    "\n",
    "\n",
    "optimize_kappa(0.5)"
   ]
  }
 ],
 "metadata": {
  "kernelspec": {
   "display_name": "masters",
   "language": "python",
   "name": "python3"
  },
  "language_info": {
   "codemirror_mode": {
    "name": "ipython",
    "version": 3
   },
   "file_extension": ".py",
   "mimetype": "text/x-python",
   "name": "python",
   "nbconvert_exporter": "python",
   "pygments_lexer": "ipython3",
   "version": "3.7.13"
  },
  "orig_nbformat": 4,
  "vscode": {
   "interpreter": {
    "hash": "4f2ff97d05f7ea74f9ad893ce0ef62de10b7e20c3f21fc0f5866920ae6ae88e7"
   }
  }
 },
 "nbformat": 4,
 "nbformat_minor": 2
}
