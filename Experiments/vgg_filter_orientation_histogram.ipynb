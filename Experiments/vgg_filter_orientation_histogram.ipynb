{
 "cells": [
  {
   "cell_type": "code",
   "execution_count": 1,
   "metadata": {},
   "outputs": [],
   "source": [
    "import numpy as np\n",
    "from scipy import ndimage\n",
    "\n",
    "from skimage.filters import sobel_h\n",
    "from skimage.filters import sobel_v\n",
    "\n",
    "#from sa_decomp_layer import SADecompLayer\n",
    "\n",
    "import os\n",
    "#os.environ[\"CUDA_VISIBLE_DEVICES\"]=\"-1\"  #disables GPU \n",
    "import matplotlib\n",
    "import matplotlib.pyplot as plt\n",
    "\n",
    "#tf.__version__\n",
    "from tensorflow.python.client import device_lib\n",
    "#print(device_lib.list_local_devices())\n",
    "\n",
    "plt.rcParams['figure.figsize'] = [10,10]\n",
    "\n",
    "from tensorflow.keras.preprocessing import image\n",
    "from tensorflow.keras.applications.vgg16 import decode_predictions\n",
    "from tensorflow.keras.applications import VGG16"
   ]
  },
  {
   "cell_type": "code",
   "execution_count": 2,
   "metadata": {},
   "outputs": [],
   "source": [
    "model = VGG16(weights='imagenet',\n",
    "                  include_top=False,\n",
    "                  input_shape=(224, 224, 3))"
   ]
  },
  {
   "cell_type": "code",
   "execution_count": 3,
   "metadata": {},
   "outputs": [],
   "source": [
    "def get_filter(layer):\n",
    "    layer = model.layers[layer]\n",
    "\n",
    "    # check for convolutional layer\n",
    "    if 'conv' not in layer.name:\n",
    "        raise ValueError('Layer must be a conv. layer')\n",
    "    # get filter weights\n",
    "    filters, biases = layer.get_weights()\n",
    "    print(\"biases shape : \", biases.shape)\n",
    "    print(\"filters shape : \", filters.shape)\n",
    "\n",
    "    return (filters)\n",
    "    #print(layer.name, filters.shape)\n",
    "\n",
    "# I use sobel to determine the dominant orientation of the filter\n",
    "def getSobelAngle(f):\n",
    "\n",
    "    s_h = sobel_h(f)\n",
    "    s_v = sobel_v(f)\n",
    "\n",
    "    return np.abs((np.degrees(np.arctan2(s_h,s_v))% 360))\n",
    "def getSymAntiSym(filter):\n",
    "\n",
    "    #patches = extract_image_patches(filters, [1, k, k, 1],  [1, k, k, 1], rates = [1,1,1,1] , padding = 'VALID')\n",
    "    #print(patches)\n",
    "    mat_flip_x = np.fliplr(filter)\n",
    "\n",
    "    mat_flip_y = np.flipud(filter)\n",
    "\n",
    "    mat_flip_xy =  np.fliplr( np.flipud(filter))\n",
    "\n",
    "    sum = filter + mat_flip_x + mat_flip_y + mat_flip_xy\n",
    "    mat_sum_rot_90 = np.rot90(sum)\n",
    "    \n",
    "    return  (sum + mat_sum_rot_90) / 8, filter - ((sum + mat_sum_rot_90) / 8)"
   ]
  },
  {
   "cell_type": "code",
   "execution_count": null,
   "metadata": {},
   "outputs": [],
   "source": []
  },
  {
   "cell_type": "code",
   "execution_count": 45,
   "metadata": {},
   "outputs": [
    {
     "name": "stdout",
     "output_type": "stream",
     "text": [
      "biases shape :  (512,)\n",
      "filters shape :  (3, 3, 256, 512)\n"
     ]
    },
    {
     "data": {
      "image/png": "[encoded data removed]",
      "text/plain": [
       "<Figure size 432x288 with 1 Axes>"
      ]
     },
     "metadata": {
      "needs_background": "light"
     },
     "output_type": "display_data"
    },
    {
     "data": {
      "text/plain": [
       "103"
      ]
     },
     "execution_count": 45,
     "metadata": {},
     "output_type": "execute_result"
    }
   ],
   "source": [
    "\n",
    "LAYER = 11\n",
    "filters = get_filter(LAYER)\n",
    "\n",
    "FILTER = [60] #list(range(filters.shape[-1]))\n",
    "CHANNEL =  list(range(filters.shape[-2]))\n",
    "\n",
    "\n",
    "thetas = []\n",
    "for i, channel in enumerate(CHANNEL):\n",
    "    for filter in FILTER:\n",
    "        \n",
    "        f = filters[:,:,:, filter]\n",
    "        f = f[:,:, channel]  \n",
    "        s, a = getSymAntiSym(f)\n",
    "        #print(\"==========(s)\n",
    "        #print(a)\n",
    "        #print(getSobelAngle(f)[1, 1])\n",
    "        sym_mag = np.linalg.norm(s) \n",
    "        anti_mag = np.linalg.norm(a) \n",
    "        if anti_mag > sym_mag:\n",
    "\n",
    "            theta = getSobelAngle(f)\n",
    "            theta = theta[theta.shape[0]//2, theta.shape[1]//2]\n",
    "            thetas.append(theta)\n",
    "\n",
    "plt.hist(thetas, bins=16)\n",
    "plt.xticks(np.arange(0, 360, step=45), size='small', rotation=0)    \n",
    "plt.title(\"Layer {}, Filter = {}, Channel orientation Distribution\".format(str(LAYER), FILTER[0]))\n",
    "plt.xlabel('θ (Deg)')\n",
    "plt.ylabel('Count')\n",
    "plt.show()\n",
    "len(thetas)"
   ]
  },
  {
   "cell_type": "code",
   "execution_count": 23,
   "metadata": {},
   "outputs": [
    {
     "data": {
      "text/plain": [
       "[182.46606, 182.20198, 182.5021]"
      ]
     },
     "execution_count": 23,
     "metadata": {},
     "output_type": "execute_result"
    }
   ],
   "source": [
    "thetas"
   ]
  },
  {
   "cell_type": "code",
   "execution_count": 6,
   "metadata": {},
   "outputs": [
    {
     "name": "stdout",
     "output_type": "stream",
     "text": [
      "biases shape :  (64,)\n",
      "filters shape :  (3, 3, 3, 64)\n",
      "(3, 3)\n",
      "biases shape :  (64,)\n",
      "filters shape :  (3, 3, 64, 64)\n",
      "(3, 3)\n"
     ]
    },
    {
     "data": {
      "text/plain": [
       "<matplotlib.image.AxesImage at 0x11dabef7e08>"
      ]
     },
     "execution_count": 6,
     "metadata": {},
     "output_type": "execute_result"
    },
    {
     "data": {
      "image/png": "[encoded data removed]",
      "text/plain": [
       "<Figure size 432x288 with 1 Axes>"
      ]
     },
     "metadata": {
      "needs_background": "light"
     },
     "output_type": "display_data"
    }
   ],
   "source": [
    "import skimage.measure\n",
    "\n",
    "def normalized(a, axis=-1, order=2):\n",
    "    l2 = np.atleast_1d(np.linalg.norm(a, order, axis))\n",
    "    l2[l2==0] = 1\n",
    "    return a / np.expand_dims(l2, axis)\n",
    "LAYER = 1\n",
    "filters = get_filter(LAYER)\n",
    "\n",
    "filter = 5\n",
    "channel =  1\n",
    "f = filters[:,:,:, filter]\n",
    "f1 = np.sum(f[:,:, :], axis=-1)\n",
    "print(f1.shape)\n",
    "\n",
    "\n",
    "out = f1\n",
    "for layer in range(2, 3):\n",
    "    try:\n",
    "        filters = get_filter(layer)\n",
    "        f = filters[:,:,:, filter]\n",
    "        f = np.sum(f[:,:, :], axis=-1)\n",
    "        out = out* f\n",
    "        print(out.shape)\n",
    "\n",
    "    except:\n",
    "        skimage.measure.block_reduce(out, (2,2), np.max)\n",
    "\n",
    "\n",
    "\n",
    "plt.imshow(out)\n"
   ]
  }
 ],
 "metadata": {
  "kernelspec": {
   "display_name": "Python 3.7.13 ('masters')",
   "language": "python",
   "name": "python3"
  },
  "language_info": {
   "codemirror_mode": {
    "name": "ipython",
    "version": 3
   },
   "file_extension": ".py",
   "mimetype": "text/x-python",
   "name": "python",
   "nbconvert_exporter": "python",
   "pygments_lexer": "ipython3",
   "version": "3.7.13"
  },
  "orig_nbformat": 4,
  "vscode": {
   "interpreter": {
    "hash": "4f2ff97d05f7ea74f9ad893ce0ef62de10b7e20c3f21fc0f5866920ae6ae88e7"
   }
  }
 },
 "nbformat": 4,
 "nbformat_minor": 2
}
