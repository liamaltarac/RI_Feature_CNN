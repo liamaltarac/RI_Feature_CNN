{
 "cells": [
  {
   "cell_type": "code",
   "execution_count": null,
   "metadata": {},
   "outputs": [],
   "source": [
    "import numpy as np\n",
    "from scipy import ndimage\n",
    "\n",
    "from skimage.filters import sobel_h\n",
    "from skimage.filters import sobel_v\n",
    "\n",
    "#from sa_decomp_layer import SADecompLayer\n",
    "\n",
    "import os\n",
    "#os.environ[\"CUDA_VISIBLE_DEVICES\"]=\"-1\"  #disables GPU \n",
    "import matplotlib\n",
    "import matplotlib.pyplot as plt\n",
    "\n",
    "#tf.__version__\n",
    "from tensorflow.python.client import device_lib\n",
    "#print(device_lib.list_local_devices())\n",
    "\n",
    "plt.rcParams['figure.figsize'] = [10,10]\n",
    "\n",
    "from tensorflow.keras.preprocessing import image\n",
    "from tensorflow.keras.applications.vgg16 import decode_predictions\n",
    "from tensorflow.keras.applications import VGG16"
   ]
  },
  {
   "cell_type": "code",
   "execution_count": null,
   "metadata": {},
   "outputs": [],
   "source": [
    "model = VGG16(weights='imagenet',\n",
    "                  include_top=False,\n",
    "                  input_shape=(224, 224, 3))"
   ]
  },
  {
   "cell_type": "code",
   "execution_count": null,
   "metadata": {},
   "outputs": [],
   "source": [
    "def get_filter(layer):\n",
    "    layer = model.layers[layer]\n",
    "\n",
    "    # check for convolutional layer\n",
    "    if 'conv' not in layer.name:\n",
    "        raise ValueError('Layer must be a conv. layer')\n",
    "    # get filter weights\n",
    "    filters, biases = layer.get_weights()\n",
    "    print(\"biases shape : \", biases.shape)\n",
    "    print(\"filters shape : \", filters.shape)\n",
    "\n",
    "    return (filters)\n",
    "    #print(layer.name, filters.shape)\n",
    "\n",
    "# I use sobel to determine the dominant orientation of the filter\n",
    "def getSobelAngle(f):\n",
    "\n",
    "    s_h = sobel_h(f)\n",
    "    s_v = sobel_v(f)\n",
    "\n",
    "    return(np.arctan2(s_h,s_v)+(np.pi/2))\n",
    "\n",
    "def getSymAntiSym(filter):\n",
    "\n",
    "    #patches = extract_image_patches(filters, [1, k, k, 1],  [1, k, k, 1], rates = [1,1,1,1] , padding = 'VALID')\n",
    "    #print(patches)\n",
    "    mat_flip_x = np.fliplr(filter)\n",
    "\n",
    "    mat_flip_y = np.flipud(filter)\n",
    "\n",
    "    mat_flip_xy =  np.fliplr( np.flipud(filter))\n",
    "\n",
    "    sum = filter + mat_flip_x + mat_flip_y + mat_flip_xy\n",
    "    mat_sum_rot_90 = np.rot90(sum)\n",
    "    \n",
    "    return  (sum + mat_sum_rot_90) / 8, filter - ((sum + mat_sum_rot_90) / 8)"
   ]
  },
  {
   "cell_type": "code",
   "execution_count": null,
   "metadata": {},
   "outputs": [],
   "source": [
    "LAYER = 5\n",
    "FILTER = [1,2,3,4,5,7,8,9,10,11,12]\n",
    "CHANNEL = [0]\n",
    "\n"
   ]
  }
 ],
 "metadata": {
  "kernelspec": {
   "display_name": "Python 3.10.5 64-bit",
   "language": "python",
   "name": "python3"
  },
  "language_info": {
   "name": "python",
   "version": "3.10.5"
  },
  "orig_nbformat": 4,
  "vscode": {
   "interpreter": {
    "hash": "d27738dfb5e2a3a1ea5212f351565b709b592e4f774f048362504379670e41a0"
   }
  }
 },
 "nbformat": 4,
 "nbformat_minor": 2
}
