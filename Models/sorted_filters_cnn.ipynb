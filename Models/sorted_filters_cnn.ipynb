{
 "cells": [
  {
   "cell_type": "code",
   "execution_count": 1,
   "metadata": {},
   "outputs": [],
   "source": [
    "import numpy as np\n",
    "import tensorflow as tf\n",
    "from tensorflow import keras\n",
    "\n",
    "from tensorflow.keras import layers\n",
    "\n",
    "from tensorflow.keras import backend as K\n",
    "from tensorflow.keras.layers import Input, Concatenate , Add, Dot, Activation, Lambda, BatchNormalization, LeakyReLU, Softmax\n",
    "from tensorflow.keras.models import Model\n",
    "\n",
    "from tensorflow.image import flip_up_down, flip_left_right, rot90\n",
    "from tensorflow.linalg import normalize\n",
    "\n",
    "from tensorflow.keras.preprocessing.image import ImageDataGenerator\n",
    "\n",
    "import math\n",
    "\n",
    "import matplotlib.pyplot as plt\n",
    "import sys \n",
    "sys.path.append('..')\n",
    "from layers.sorted_filters import SortedConv2D\n",
    "\n",
    "import datetime\n"
   ]
  },
  {
   "cell_type": "code",
   "execution_count": 2,
   "metadata": {},
   "outputs": [
    {
     "name": "stdout",
     "output_type": "stream",
     "text": [
      "Num GPUs Available:  1\n",
      "2.9.1\n"
     ]
    }
   ],
   "source": [
    "from tensorflow.python.client import device_lib\n",
    "#tf.disable_v2_behavior()\n",
    "\n",
    "#print(device_lib.list_local_devices())\n",
    "print(\"Num GPUs Available: \", len(tf.config.list_physical_devices('GPU')))\n",
    "\n",
    "print(tf.__version__ )"
   ]
  },
  {
   "cell_type": "code",
   "execution_count": 3,
   "metadata": {},
   "outputs": [
    {
     "name": "stdout",
     "output_type": "stream",
     "text": [
      "Model: \"model\"\n",
      "_________________________________________________________________\n",
      " Layer (type)                Output Shape              Param #   \n",
      "=================================================================\n",
      " input_1 (InputLayer)        [(None, 32, 32, 3)]       0         \n",
      "                                                                 \n",
      " sorted_conv2d (SortedConv2D  (None, 32, 32, 16)       162       \n",
      " )                                                               \n",
      "                                                                 \n",
      " max_pooling2d (MaxPooling2D  (None, 16, 16, 16)       0         \n",
      " )                                                               \n",
      "                                                                 \n",
      " batch_normalization (BatchN  (None, 16, 16, 16)       64        \n",
      " ormalization)                                                   \n",
      "                                                                 \n",
      " sorted_conv2d_1 (SortedConv  (None, 16, 16, 32)       1570      \n",
      " 2D)                                                             \n",
      "                                                                 \n",
      " sorted_conv2d_2 (SortedConv  (None, 16, 16, 32)       3106      \n",
      " 2D)                                                             \n",
      "                                                                 \n",
      " max_pooling2d_1 (MaxPooling  (None, 8, 8, 32)         0         \n",
      " 2D)                                                             \n",
      "                                                                 \n",
      " batch_normalization_1 (Batc  (None, 8, 8, 32)         128       \n",
      " hNormalization)                                                 \n",
      "                                                                 \n",
      " sorted_conv2d_3 (SortedConv  (None, 8, 8, 64)         6210      \n",
      " 2D)                                                             \n",
      "                                                                 \n",
      " max_pooling2d_2 (MaxPooling  (None, 4, 4, 64)         0         \n",
      " 2D)                                                             \n",
      "                                                                 \n",
      " batch_normalization_2 (Batc  (None, 4, 4, 64)         256       \n",
      " hNormalization)                                                 \n",
      "                                                                 \n",
      " flatten (Flatten)           (None, 1024)              0         \n",
      "                                                                 \n",
      " batch_normalization_3 (Batc  (None, 1024)             4096      \n",
      " hNormalization)                                                 \n",
      "                                                                 \n",
      " dense (Dense)               (None, 512)               524800    \n",
      "                                                                 \n",
      " batch_normalization_4 (Batc  (None, 512)              2048      \n",
      " hNormalization)                                                 \n",
      "                                                                 \n",
      " dropout (Dropout)           (None, 512)               0         \n",
      "                                                                 \n",
      " dense_1 (Dense)             (None, 100)               51300     \n",
      "                                                                 \n",
      "=================================================================\n",
      "Total params: 593,740\n",
      "Trainable params: 590,444\n",
      "Non-trainable params: 3,296\n",
      "_________________________________________________________________\n"
     ]
    }
   ],
   "source": [
    "input_net = Input((32, 32, 3))\n",
    "\n",
    "y = SortedConv2D(filters=16,activation=LeakyReLU(alpha=0.1), padding='SAME')(input_net)\n",
    "y = layers.MaxPooling2D(pool_size=(2, 2))(y) \n",
    "y = layers.BatchNormalization(axis=-1)(y)\n",
    "y = layers.Dropout(0.5)(y)\n",
    "\n",
    "\n",
    "y = SortedConv2D(filters=32,activation=LeakyReLU(alpha=0.1), padding='SAME')(y)\n",
    "y = SortedConv2D(filters=32,activation=LeakyReLU(alpha=0.1), padding='SAME')(y)\n",
    "y = layers.MaxPooling2D(pool_size=(2, 2))(y) \n",
    "y = layers.BatchNormalization(axis=-1)(y)\n",
    "y = layers.Dropout(0.5)(y)\n",
    "\n",
    "y = SortedConv2D(filters=64, activation=LeakyReLU(alpha=0.1), padding='SAME')(y)\n",
    "#y = SortedConv2D(filters=64, activation=LeakyReLU(alpha=0.1), padding='SAME')(y)\n",
    "#y = SortedConv2D(filters=64, activation=LeakyReLU(alpha=0.1), padding='SAME')(y)\n",
    "y = layers.MaxPooling2D(pool_size=(2, 2))(y)\n",
    "y = layers.BatchNormalization(axis=-1)(y)\n",
    "y = layers.Dropout(0.5)(y)\n",
    "\n",
    "y = layers.Flatten()(y)\n",
    "y = layers.BatchNormalization()(y)\n",
    "y = layers.Dense(512, activation=LeakyReLU(alpha=0.1))(y)\n",
    "y = layers.BatchNormalization(axis=-1)(y)\n",
    "y = layers.Dropout(0.2)(y)\n",
    "output_net  = layers.Dense(100, activation=Softmax())(y)\n",
    "\n",
    "model = Model(inputs = input_net, outputs = output_net)\n",
    "model.summary()"
   ]
  },
  {
   "cell_type": "code",
   "execution_count": 4,
   "metadata": {},
   "outputs": [
    {
     "name": "stdout",
     "output_type": "stream",
     "text": [
      "x_train shape: (50000, 32, 32, 3)\n",
      "50000 train samples\n",
      "10000 test samples\n"
     ]
    },
    {
     "data": {
      "text/plain": [
       "<matplotlib.image.AxesImage at 0x1ff37b8ce48>"
      ]
     },
     "execution_count": 4,
     "metadata": {},
     "output_type": "execute_result"
    },
    {
     "data": {
      "image/png": "[encoded data removed]",
      "text/plain": [
       "<Figure size 432x288 with 1 Axes>"
      ]
     },
     "metadata": {
      "needs_background": "light"
     },
     "output_type": "display_data"
    }
   ],
   "source": [
    "num_classes = 100\n",
    "input_shape = (32, 32, 3)\n",
    "\n",
    "# Load the data and split it between train and test sets\n",
    "(x_train, y_train), (x_test, y_test) = keras.datasets.cifar100.load_data()\n",
    "\n",
    "\n",
    "\n",
    "# Scale images to the [0, 1] range\n",
    "x_train = x_train.astype(\"float32\") / 255\n",
    "x_test = x_test.astype(\"float32\") / 255\n",
    "# Make sure images have shape (28, 28, 1)\n",
    "#x_train = np.expand_dims(x_train, -1)\n",
    "#x_test = np.expand_dims(x_test, -1)\n",
    "print(\"x_train shape:\", x_train.shape)\n",
    "print(x_train.shape[0], \"train samples\")\n",
    "print(x_test.shape[0], \"test samples\")\n",
    "\n",
    "# convert class vectors to binary class matrices\n",
    "#y_train = keras.utils.to_categorical(y_train, num_classes)\n",
    "#y_test = keras.utils.to_categorical(y_test, num_classes)\n",
    "\n",
    "plt.imshow(x_train[0,:,:,:])"
   ]
  },
  {
   "cell_type": "code",
   "execution_count": 5,
   "metadata": {},
   "outputs": [
    {
     "name": "stdout",
     "output_type": "stream",
     "text": [
      "Epoch 1/200\n",
      "200/200 [==============================] - 16s 39ms/step - loss: 4.7116 - accuracy: 0.0604 - top-5-accuracy: 0.1942 - val_loss: 5.2694 - val_accuracy: 0.0106 - val_top-5-accuracy: 0.0618\n",
      "Epoch 2/200\n",
      "200/200 [==============================] - 8s 39ms/step - loss: 3.8934 - accuracy: 0.1151 - top-5-accuracy: 0.3133 - val_loss: 4.3376 - val_accuracy: 0.0394 - val_top-5-accuracy: 0.1683\n",
      "Epoch 3/200\n",
      "200/200 [==============================] - 6s 32ms/step - loss: 3.6611 - accuracy: 0.1516 - top-5-accuracy: 0.3722 - val_loss: 3.9057 - val_accuracy: 0.1146 - val_top-5-accuracy: 0.3106\n",
      "Epoch 4/200\n",
      "200/200 [==============================] - 7s 33ms/step - loss: 3.6513 - accuracy: 0.1479 - top-5-accuracy: 0.3757 - val_loss: 3.6887 - val_accuracy: 0.1503 - val_top-5-accuracy: 0.3664\n",
      "Epoch 5/200\n",
      "200/200 [==============================] - 7s 33ms/step - loss: 3.5058 - accuracy: 0.1728 - top-5-accuracy: 0.4136 - val_loss: 3.6186 - val_accuracy: 0.1646 - val_top-5-accuracy: 0.3913\n",
      "Epoch 6/200\n",
      "200/200 [==============================] - 6s 32ms/step - loss: 3.3560 - accuracy: 0.2022 - top-5-accuracy: 0.4530 - val_loss: 3.4280 - val_accuracy: 0.2010 - val_top-5-accuracy: 0.4414\n",
      "Epoch 7/200\n",
      "200/200 [==============================] - 6s 32ms/step - loss: 3.4309 - accuracy: 0.1862 - top-5-accuracy: 0.4328 - val_loss: 3.5593 - val_accuracy: 0.1696 - val_top-5-accuracy: 0.4036\n",
      "Epoch 8/200\n",
      "200/200 [==============================] - 6s 32ms/step - loss: 3.4438 - accuracy: 0.1830 - top-5-accuracy: 0.4336 - val_loss: 3.6885 - val_accuracy: 0.1599 - val_top-5-accuracy: 0.3899\n",
      "Epoch 9/200\n",
      "200/200 [==============================] - 7s 33ms/step - loss: 3.3503 - accuracy: 0.1991 - top-5-accuracy: 0.4566 - val_loss: 3.5696 - val_accuracy: 0.1719 - val_top-5-accuracy: 0.4045\n",
      "Epoch 10/200\n",
      "200/200 [==============================] - 7s 33ms/step - loss: 3.2358 - accuracy: 0.2206 - top-5-accuracy: 0.4863 - val_loss: 3.3672 - val_accuracy: 0.2058 - val_top-5-accuracy: 0.4517\n",
      "Epoch 11/200\n",
      "200/200 [==============================] - 7s 33ms/step - loss: 3.1296 - accuracy: 0.2404 - top-5-accuracy: 0.5111 - val_loss: 3.2484 - val_accuracy: 0.2320 - val_top-5-accuracy: 0.4863\n",
      "Epoch 12/200\n",
      "200/200 [==============================] - 7s 33ms/step - loss: 3.0403 - accuracy: 0.2590 - top-5-accuracy: 0.5369 - val_loss: 3.2265 - val_accuracy: 0.2371 - val_top-5-accuracy: 0.4921\n",
      "Epoch 13/200\n",
      "200/200 [==============================] - 7s 34ms/step - loss: 3.0651 - accuracy: 0.2518 - top-5-accuracy: 0.5314 - val_loss: 3.5264 - val_accuracy: 0.1925 - val_top-5-accuracy: 0.4525\n",
      "Epoch 14/200\n",
      "200/200 [==============================] - 7s 35ms/step - loss: 3.1712 - accuracy: 0.2294 - top-5-accuracy: 0.5071 - val_loss: 3.8233 - val_accuracy: 0.1615 - val_top-5-accuracy: 0.3800\n",
      "Epoch 15/200\n",
      "200/200 [==============================] - 7s 33ms/step - loss: 3.0227 - accuracy: 0.2604 - top-5-accuracy: 0.5465 - val_loss: 3.2133 - val_accuracy: 0.2309 - val_top-5-accuracy: 0.4998\n",
      "Epoch 16/200\n",
      "200/200 [==============================] - 7s 35ms/step - loss: 2.8924 - accuracy: 0.2857 - top-5-accuracy: 0.5784 - val_loss: 3.4117 - val_accuracy: 0.2028 - val_top-5-accuracy: 0.4834\n",
      "Epoch 17/200\n",
      "200/200 [==============================] - 7s 35ms/step - loss: 2.7595 - accuracy: 0.3130 - top-5-accuracy: 0.6097 - val_loss: 3.2893 - val_accuracy: 0.2202 - val_top-5-accuracy: 0.4993\n",
      "Epoch 18/200\n",
      "200/200 [==============================] - 6s 32ms/step - loss: 2.6289 - accuracy: 0.3380 - top-5-accuracy: 0.6372 - val_loss: 2.9908 - val_accuracy: 0.2951 - val_top-5-accuracy: 0.5768\n",
      "Epoch 19/200\n",
      "200/200 [==============================] - 7s 33ms/step - loss: 2.5127 - accuracy: 0.3624 - top-5-accuracy: 0.6675 - val_loss: 2.8364 - val_accuracy: 0.3183 - val_top-5-accuracy: 0.6013\n",
      "Epoch 20/200\n",
      "200/200 [==============================] - 6s 32ms/step - loss: 2.3962 - accuracy: 0.3845 - top-5-accuracy: 0.6918 - val_loss: 2.7357 - val_accuracy: 0.3301 - val_top-5-accuracy: 0.6213\n",
      "Epoch 21/200\n",
      "200/200 [==============================] - 6s 31ms/step - loss: 2.2998 - accuracy: 0.4064 - top-5-accuracy: 0.7104 - val_loss: 2.7282 - val_accuracy: 0.3411 - val_top-5-accuracy: 0.6280\n",
      "Epoch 22/200\n",
      "200/200 [==============================] - 7s 33ms/step - loss: 2.2191 - accuracy: 0.4266 - top-5-accuracy: 0.7268 - val_loss: 2.6538 - val_accuracy: 0.3525 - val_top-5-accuracy: 0.6471\n",
      "Epoch 23/200\n",
      "200/200 [==============================] - 7s 34ms/step - loss: 2.1459 - accuracy: 0.4375 - top-5-accuracy: 0.7418 - val_loss: 2.6375 - val_accuracy: 0.3556 - val_top-5-accuracy: 0.6482\n",
      "Epoch 24/200\n",
      "200/200 [==============================] - 6s 32ms/step - loss: 2.0997 - accuracy: 0.4511 - top-5-accuracy: 0.7508 - val_loss: 2.6277 - val_accuracy: 0.3599 - val_top-5-accuracy: 0.6528\n",
      "Epoch 25/200\n",
      "200/200 [==============================] - 6s 32ms/step - loss: 2.0750 - accuracy: 0.4571 - top-5-accuracy: 0.7549 - val_loss: 2.6251 - val_accuracy: 0.3626 - val_top-5-accuracy: 0.6533\n",
      "Epoch 26/200\n",
      "200/200 [==============================] - 7s 33ms/step - loss: 2.2416 - accuracy: 0.4173 - top-5-accuracy: 0.7243 - val_loss: 3.7257 - val_accuracy: 0.2449 - val_top-5-accuracy: 0.5012\n",
      "Epoch 27/200\n",
      "200/200 [==============================] - 7s 33ms/step - loss: 2.4473 - accuracy: 0.3735 - top-5-accuracy: 0.6849 - val_loss: 3.0758 - val_accuracy: 0.2996 - val_top-5-accuracy: 0.5841\n",
      "Epoch 28/200\n",
      "200/200 [==============================] - 7s 34ms/step - loss: 2.3780 - accuracy: 0.3859 - top-5-accuracy: 0.6995 - val_loss: 2.9972 - val_accuracy: 0.2990 - val_top-5-accuracy: 0.5833\n",
      "Epoch 29/200\n",
      "200/200 [==============================] - 7s 33ms/step - loss: 2.3102 - accuracy: 0.4023 - top-5-accuracy: 0.7128 - val_loss: 3.2704 - val_accuracy: 0.2830 - val_top-5-accuracy: 0.5583\n",
      "Epoch 30/200\n",
      "200/200 [==============================] - 6s 32ms/step - loss: 2.2280 - accuracy: 0.4196 - top-5-accuracy: 0.7297 - val_loss: 2.8424 - val_accuracy: 0.3304 - val_top-5-accuracy: 0.6213\n",
      "Epoch 31/200\n",
      "200/200 [==============================] - 7s 33ms/step - loss: 2.1570 - accuracy: 0.4336 - top-5-accuracy: 0.7440 - val_loss: 2.8841 - val_accuracy: 0.3343 - val_top-5-accuracy: 0.6259\n",
      "Epoch 32/200\n",
      "200/200 [==============================] - 6s 32ms/step - loss: 2.0905 - accuracy: 0.4495 - top-5-accuracy: 0.7572 - val_loss: 2.8049 - val_accuracy: 0.3338 - val_top-5-accuracy: 0.6204\n",
      "Epoch 33/200\n",
      "200/200 [==============================] - 6s 32ms/step - loss: 2.0114 - accuracy: 0.4647 - top-5-accuracy: 0.7725 - val_loss: 2.8718 - val_accuracy: 0.3214 - val_top-5-accuracy: 0.6127\n",
      "Epoch 34/200\n",
      "200/200 [==============================] - 7s 33ms/step - loss: 1.9370 - accuracy: 0.4814 - top-5-accuracy: 0.7869 - val_loss: 2.7928 - val_accuracy: 0.3479 - val_top-5-accuracy: 0.6361\n",
      "Epoch 35/200\n",
      "200/200 [==============================] - 7s 33ms/step - loss: 1.8601 - accuracy: 0.5002 - top-5-accuracy: 0.8022 - val_loss: 2.9906 - val_accuracy: 0.3194 - val_top-5-accuracy: 0.6104\n",
      "Epoch 36/200\n",
      "200/200 [==============================] - 6s 32ms/step - loss: 1.7778 - accuracy: 0.5167 - top-5-accuracy: 0.8177 - val_loss: 2.9318 - val_accuracy: 0.3275 - val_top-5-accuracy: 0.6203\n",
      "Epoch 37/200\n",
      "200/200 [==============================] - 7s 33ms/step - loss: 1.7053 - accuracy: 0.5315 - top-5-accuracy: 0.8291 - val_loss: 2.8372 - val_accuracy: 0.3513 - val_top-5-accuracy: 0.6426\n",
      "Epoch 38/200\n",
      "200/200 [==============================] - 6s 32ms/step - loss: 1.6403 - accuracy: 0.5453 - top-5-accuracy: 0.8397 - val_loss: 2.7519 - val_accuracy: 0.3716 - val_top-5-accuracy: 0.6576\n",
      "Epoch 39/200\n",
      "200/200 [==============================] - 7s 34ms/step - loss: 1.5640 - accuracy: 0.5658 - top-5-accuracy: 0.8535 - val_loss: 2.7875 - val_accuracy: 0.3672 - val_top-5-accuracy: 0.6572\n",
      "Epoch 40/200\n",
      "200/200 [==============================] - 7s 33ms/step - loss: 1.5044 - accuracy: 0.5809 - top-5-accuracy: 0.8599 - val_loss: 2.7771 - val_accuracy: 0.3714 - val_top-5-accuracy: 0.6547\n",
      "Epoch 41/200\n",
      "200/200 [==============================] - 7s 33ms/step - loss: 1.4302 - accuracy: 0.5992 - top-5-accuracy: 0.8717 - val_loss: 2.8480 - val_accuracy: 0.3658 - val_top-5-accuracy: 0.6551\n",
      "Epoch 42/200\n",
      "200/200 [==============================] - 8s 38ms/step - loss: 1.3712 - accuracy: 0.6106 - top-5-accuracy: 0.8821 - val_loss: 2.8072 - val_accuracy: 0.3761 - val_top-5-accuracy: 0.6594\n",
      "Epoch 43/200\n",
      "200/200 [==============================] - 7s 36ms/step - loss: 1.3189 - accuracy: 0.6261 - top-5-accuracy: 0.8881 - val_loss: 2.8676 - val_accuracy: 0.3743 - val_top-5-accuracy: 0.6564\n",
      "Epoch 44/200\n",
      "200/200 [==============================] - 7s 35ms/step - loss: 1.2650 - accuracy: 0.6378 - top-5-accuracy: 0.8964 - val_loss: 2.8733 - val_accuracy: 0.3782 - val_top-5-accuracy: 0.6593\n",
      "Epoch 45/200\n",
      "200/200 [==============================] - 7s 34ms/step - loss: 1.2303 - accuracy: 0.6480 - top-5-accuracy: 0.9026 - val_loss: 2.8485 - val_accuracy: 0.3816 - val_top-5-accuracy: 0.6683\n",
      "Epoch 46/200\n",
      "200/200 [==============================] - 7s 34ms/step - loss: 1.1888 - accuracy: 0.6568 - top-5-accuracy: 0.9071 - val_loss: 2.8846 - val_accuracy: 0.3813 - val_top-5-accuracy: 0.6675\n",
      "Epoch 47/200\n",
      "200/200 [==============================] - 7s 35ms/step - loss: 1.1548 - accuracy: 0.6680 - top-5-accuracy: 0.9126 - val_loss: 2.8619 - val_accuracy: 0.3818 - val_top-5-accuracy: 0.6696\n",
      "Epoch 48/200\n",
      "200/200 [==============================] - 7s 37ms/step - loss: 1.1297 - accuracy: 0.6740 - top-5-accuracy: 0.9147 - val_loss: 2.8731 - val_accuracy: 0.3855 - val_top-5-accuracy: 0.6724\n",
      "Epoch 49/200\n",
      "200/200 [==============================] - 7s 34ms/step - loss: 1.1129 - accuracy: 0.6769 - top-5-accuracy: 0.9176 - val_loss: 2.8950 - val_accuracy: 0.3837 - val_top-5-accuracy: 0.6722\n",
      "Epoch 50/200\n",
      "200/200 [==============================] - 6s 32ms/step - loss: 1.0993 - accuracy: 0.6817 - top-5-accuracy: 0.9180 - val_loss: 2.8980 - val_accuracy: 0.3853 - val_top-5-accuracy: 0.6711\n",
      "Epoch 51/200\n",
      "200/200 [==============================] - 6s 32ms/step - loss: 1.0959 - accuracy: 0.6814 - top-5-accuracy: 0.9207 - val_loss: 2.8940 - val_accuracy: 0.3867 - val_top-5-accuracy: 0.6708\n",
      "Epoch 52/200\n",
      "200/200 [==============================] - 7s 35ms/step - loss: 1.6129 - accuracy: 0.5519 - top-5-accuracy: 0.8524 - val_loss: 3.3317 - val_accuracy: 0.3274 - val_top-5-accuracy: 0.6226\n",
      "Epoch 53/200\n",
      "200/200 [==============================] - 7s 35ms/step - loss: 1.6675 - accuracy: 0.5352 - top-5-accuracy: 0.8433 - val_loss: 3.3973 - val_accuracy: 0.3143 - val_top-5-accuracy: 0.5865\n",
      "Epoch 54/200\n",
      "200/200 [==============================] - 7s 33ms/step - loss: 1.6378 - accuracy: 0.5439 - top-5-accuracy: 0.8463 - val_loss: 3.1180 - val_accuracy: 0.3361 - val_top-5-accuracy: 0.6180\n",
      "Epoch 55/200\n",
      "200/200 [==============================] - 7s 35ms/step - loss: 1.5937 - accuracy: 0.5554 - top-5-accuracy: 0.8541 - val_loss: 3.0281 - val_accuracy: 0.3554 - val_top-5-accuracy: 0.6362\n",
      "Epoch 56/200\n",
      "200/200 [==============================] - 6s 32ms/step - loss: 1.5541 - accuracy: 0.5632 - top-5-accuracy: 0.8606 - val_loss: 3.0167 - val_accuracy: 0.3391 - val_top-5-accuracy: 0.6288\n",
      "Epoch 57/200\n",
      "200/200 [==============================] - 7s 33ms/step - loss: 1.5017 - accuracy: 0.5775 - top-5-accuracy: 0.8676 - val_loss: 3.4158 - val_accuracy: 0.3269 - val_top-5-accuracy: 0.5974\n",
      "Epoch 58/200\n",
      "200/200 [==============================] - 7s 33ms/step - loss: 1.4615 - accuracy: 0.5825 - top-5-accuracy: 0.8755 - val_loss: 3.5845 - val_accuracy: 0.3144 - val_top-5-accuracy: 0.5932\n",
      "Epoch 59/200\n",
      "200/200 [==============================] - 6s 32ms/step - loss: 1.4202 - accuracy: 0.5971 - top-5-accuracy: 0.8817 - val_loss: 4.3409 - val_accuracy: 0.2821 - val_top-5-accuracy: 0.5535\n",
      "Epoch 60/200\n",
      "200/200 [==============================] - 7s 36ms/step - loss: 1.3808 - accuracy: 0.6052 - top-5-accuracy: 0.8866 - val_loss: 3.4213 - val_accuracy: 0.3472 - val_top-5-accuracy: 0.6257\n",
      "Epoch 61/200\n",
      "200/200 [==============================] - 7s 35ms/step - loss: 1.3415 - accuracy: 0.6152 - top-5-accuracy: 0.8948 - val_loss: 3.5390 - val_accuracy: 0.3315 - val_top-5-accuracy: 0.6107\n",
      "Epoch 62/200\n",
      "200/200 [==============================] - 7s 35ms/step - loss: 1.3009 - accuracy: 0.6250 - top-5-accuracy: 0.8991 - val_loss: 3.2770 - val_accuracy: 0.3531 - val_top-5-accuracy: 0.6350\n",
      "Epoch 63/200\n",
      "200/200 [==============================] - 7s 36ms/step - loss: 1.2471 - accuracy: 0.6377 - top-5-accuracy: 0.9090 - val_loss: 3.3448 - val_accuracy: 0.3454 - val_top-5-accuracy: 0.6361\n",
      "Epoch 64/200\n",
      "200/200 [==============================] - 6s 32ms/step - loss: 1.2178 - accuracy: 0.6472 - top-5-accuracy: 0.9114 - val_loss: 3.5452 - val_accuracy: 0.3398 - val_top-5-accuracy: 0.6151\n",
      "Epoch 65/200\n",
      "200/200 [==============================] - 6s 32ms/step - loss: 1.1801 - accuracy: 0.6561 - top-5-accuracy: 0.9158 - val_loss: 3.3985 - val_accuracy: 0.3380 - val_top-5-accuracy: 0.6197\n",
      "Epoch 66/200\n",
      "200/200 [==============================] - 6s 32ms/step - loss: 1.1289 - accuracy: 0.6678 - top-5-accuracy: 0.9233 - val_loss: 3.3536 - val_accuracy: 0.3334 - val_top-5-accuracy: 0.6189\n",
      "Epoch 67/200\n",
      "200/200 [==============================] - 6s 32ms/step - loss: 1.0918 - accuracy: 0.6775 - top-5-accuracy: 0.9289 - val_loss: 3.4384 - val_accuracy: 0.3412 - val_top-5-accuracy: 0.6304\n",
      "Epoch 68/200\n",
      "200/200 [==============================] - 7s 33ms/step - loss: 1.0560 - accuracy: 0.6862 - top-5-accuracy: 0.9328 - val_loss: 3.5384 - val_accuracy: 0.3412 - val_top-5-accuracy: 0.6258\n",
      "Epoch 69/200\n",
      "200/200 [==============================] - 7s 34ms/step - loss: 1.0205 - accuracy: 0.6954 - top-5-accuracy: 0.9377 - val_loss: 3.6355 - val_accuracy: 0.3498 - val_top-5-accuracy: 0.6335\n",
      "Epoch 70/200\n",
      "200/200 [==============================] - 6s 32ms/step - loss: 0.9740 - accuracy: 0.7077 - top-5-accuracy: 0.9418 - val_loss: 3.3985 - val_accuracy: 0.3511 - val_top-5-accuracy: 0.6363\n",
      "Epoch 71/200\n",
      "200/200 [==============================] - 6s 32ms/step - loss: 0.9488 - accuracy: 0.7139 - top-5-accuracy: 0.9448 - val_loss: 3.7275 - val_accuracy: 0.3459 - val_top-5-accuracy: 0.6294\n",
      "Epoch 72/200\n",
      "200/200 [==============================] - 6s 31ms/step - loss: 0.9029 - accuracy: 0.7284 - top-5-accuracy: 0.9510 - val_loss: 3.7267 - val_accuracy: 0.3304 - val_top-5-accuracy: 0.6165\n",
      "Epoch 73/200\n",
      "200/200 [==============================] - 6s 32ms/step - loss: 0.8677 - accuracy: 0.7366 - top-5-accuracy: 0.9544 - val_loss: 3.5484 - val_accuracy: 0.3470 - val_top-5-accuracy: 0.6396\n",
      "Epoch 74/200\n",
      "200/200 [==============================] - 6s 32ms/step - loss: 0.8368 - accuracy: 0.7454 - top-5-accuracy: 0.9580 - val_loss: 3.6818 - val_accuracy: 0.3615 - val_top-5-accuracy: 0.6416\n",
      "Epoch 75/200\n",
      "200/200 [==============================] - 6s 32ms/step - loss: 0.7994 - accuracy: 0.7523 - top-5-accuracy: 0.9635 - val_loss: 3.5883 - val_accuracy: 0.3652 - val_top-5-accuracy: 0.6430\n",
      "Epoch 76/200\n",
      "200/200 [==============================] - 7s 33ms/step - loss: 0.7697 - accuracy: 0.7650 - top-5-accuracy: 0.9624 - val_loss: 3.8992 - val_accuracy: 0.3587 - val_top-5-accuracy: 0.6341\n",
      "Epoch 77/200\n",
      "200/200 [==============================] - 7s 35ms/step - loss: 0.7313 - accuracy: 0.7749 - top-5-accuracy: 0.9673 - val_loss: 3.8519 - val_accuracy: 0.3547 - val_top-5-accuracy: 0.6388\n",
      "Epoch 78/200\n",
      "200/200 [==============================] - 7s 33ms/step - loss: 0.7106 - accuracy: 0.7794 - top-5-accuracy: 0.9683 - val_loss: 3.6951 - val_accuracy: 0.3613 - val_top-5-accuracy: 0.6474\n",
      "Epoch 79/200\n",
      "200/200 [==============================] - 7s 34ms/step - loss: 0.6747 - accuracy: 0.7881 - top-5-accuracy: 0.9726 - val_loss: 4.0470 - val_accuracy: 0.3579 - val_top-5-accuracy: 0.6395\n",
      "Epoch 80/200\n",
      "200/200 [==============================] - 7s 33ms/step - loss: 0.6501 - accuracy: 0.7969 - top-5-accuracy: 0.9743 - val_loss: 4.0425 - val_accuracy: 0.3519 - val_top-5-accuracy: 0.6299\n",
      "Epoch 81/200\n",
      "200/200 [==============================] - 7s 34ms/step - loss: 0.6210 - accuracy: 0.8047 - top-5-accuracy: 0.9766 - val_loss: 3.9860 - val_accuracy: 0.3615 - val_top-5-accuracy: 0.6459\n",
      "Epoch 82/200\n",
      "200/200 [==============================] - 7s 34ms/step - loss: 0.5986 - accuracy: 0.8137 - top-5-accuracy: 0.9771 - val_loss: 3.8471 - val_accuracy: 0.3626 - val_top-5-accuracy: 0.6419\n",
      "Epoch 83/200\n",
      "200/200 [==============================] - 7s 33ms/step - loss: 0.5730 - accuracy: 0.8201 - top-5-accuracy: 0.9794 - val_loss: 3.9558 - val_accuracy: 0.3684 - val_top-5-accuracy: 0.6502\n",
      "Epoch 84/200\n",
      "200/200 [==============================] - 7s 33ms/step - loss: 0.5390 - accuracy: 0.8296 - top-5-accuracy: 0.9813 - val_loss: 3.8899 - val_accuracy: 0.3602 - val_top-5-accuracy: 0.6357\n",
      "Epoch 85/200\n",
      "200/200 [==============================] - 6s 32ms/step - loss: 0.5177 - accuracy: 0.8354 - top-5-accuracy: 0.9827 - val_loss: 4.0857 - val_accuracy: 0.3500 - val_top-5-accuracy: 0.6324\n",
      "Epoch 86/200\n",
      "200/200 [==============================] - 7s 34ms/step - loss: 0.5031 - accuracy: 0.8402 - top-5-accuracy: 0.9844 - val_loss: 4.0220 - val_accuracy: 0.3693 - val_top-5-accuracy: 0.6468\n",
      "Epoch 87/200\n",
      "200/200 [==============================] - 7s 33ms/step - loss: 0.4854 - accuracy: 0.8460 - top-5-accuracy: 0.9857 - val_loss: 4.0657 - val_accuracy: 0.3813 - val_top-5-accuracy: 0.6560\n",
      "Epoch 88/200\n",
      "200/200 [==============================] - 7s 34ms/step - loss: 0.4645 - accuracy: 0.8516 - top-5-accuracy: 0.9864 - val_loss: 4.0017 - val_accuracy: 0.3733 - val_top-5-accuracy: 0.6540\n",
      "Epoch 89/200\n",
      "200/200 [==============================] - 7s 33ms/step - loss: 0.4492 - accuracy: 0.8571 - top-5-accuracy: 0.9874 - val_loss: 4.1342 - val_accuracy: 0.3736 - val_top-5-accuracy: 0.6497\n",
      "Epoch 90/200\n",
      "200/200 [==============================] - 6s 32ms/step - loss: 0.4329 - accuracy: 0.8596 - top-5-accuracy: 0.9891 - val_loss: 4.0735 - val_accuracy: 0.3763 - val_top-5-accuracy: 0.6536\n",
      "Epoch 91/200\n",
      "200/200 [==============================] - 6s 32ms/step - loss: 0.4071 - accuracy: 0.8678 - top-5-accuracy: 0.9898 - val_loss: 4.1024 - val_accuracy: 0.3779 - val_top-5-accuracy: 0.6568\n",
      "Epoch 92/200\n",
      "200/200 [==============================] - 7s 34ms/step - loss: 0.4034 - accuracy: 0.8704 - top-5-accuracy: 0.9899 - val_loss: 4.1653 - val_accuracy: 0.3797 - val_top-5-accuracy: 0.6551\n",
      "Epoch 93/200\n",
      "200/200 [==============================] - 7s 35ms/step - loss: 0.3906 - accuracy: 0.8754 - top-5-accuracy: 0.9910 - val_loss: 4.1656 - val_accuracy: 0.3843 - val_top-5-accuracy: 0.6587\n",
      "Epoch 94/200\n",
      "200/200 [==============================] - 6s 32ms/step - loss: 0.3828 - accuracy: 0.8767 - top-5-accuracy: 0.9908 - val_loss: 4.2175 - val_accuracy: 0.3823 - val_top-5-accuracy: 0.6585\n",
      "Epoch 95/200\n",
      "200/200 [==============================] - 7s 34ms/step - loss: 0.3666 - accuracy: 0.8823 - top-5-accuracy: 0.9916 - val_loss: 4.1788 - val_accuracy: 0.3838 - val_top-5-accuracy: 0.6571\n",
      "Epoch 96/200\n",
      "200/200 [==============================] - 6s 32ms/step - loss: 0.3627 - accuracy: 0.8831 - top-5-accuracy: 0.9918 - val_loss: 4.2022 - val_accuracy: 0.3851 - val_top-5-accuracy: 0.6599\n",
      "Epoch 97/200\n",
      "200/200 [==============================] - 6s 31ms/step - loss: 0.3584 - accuracy: 0.8831 - top-5-accuracy: 0.9924 - val_loss: 4.2107 - val_accuracy: 0.3851 - val_top-5-accuracy: 0.6607\n",
      "Epoch 98/200\n",
      "200/200 [==============================] - 6s 31ms/step - loss: 0.3503 - accuracy: 0.8868 - top-5-accuracy: 0.9926 - val_loss: 4.2196 - val_accuracy: 0.3842 - val_top-5-accuracy: 0.6610\n",
      "Epoch 99/200\n",
      "200/200 [==============================] - 7s 34ms/step - loss: 0.3427 - accuracy: 0.8901 - top-5-accuracy: 0.9930 - val_loss: 4.2119 - val_accuracy: 0.3846 - val_top-5-accuracy: 0.6615\n",
      "Epoch 100/200\n",
      "200/200 [==============================] - 7s 33ms/step - loss: 0.3452 - accuracy: 0.8874 - top-5-accuracy: 0.9929 - val_loss: 4.2294 - val_accuracy: 0.3853 - val_top-5-accuracy: 0.6623\n",
      "Epoch 101/200\n",
      "200/200 [==============================] - 7s 33ms/step - loss: 0.3395 - accuracy: 0.8894 - top-5-accuracy: 0.9926 - val_loss: 4.2325 - val_accuracy: 0.3839 - val_top-5-accuracy: 0.6626\n",
      "Epoch 102/200\n",
      "200/200 [==============================] - 6s 32ms/step - loss: 0.3368 - accuracy: 0.8909 - top-5-accuracy: 0.9930 - val_loss: 4.2318 - val_accuracy: 0.3847 - val_top-5-accuracy: 0.6629\n",
      "Epoch 103/200\n",
      "200/200 [==============================] - 7s 36ms/step - loss: 0.7243 - accuracy: 0.7831 - top-5-accuracy: 0.9702 - val_loss: 5.7291 - val_accuracy: 0.2949 - val_top-5-accuracy: 0.5752\n",
      "Epoch 104/200\n",
      "200/200 [==============================] - 7s 37ms/step - loss: 0.9493 - accuracy: 0.7141 - top-5-accuracy: 0.9521 - val_loss: 5.0754 - val_accuracy: 0.3071 - val_top-5-accuracy: 0.5817\n",
      "Epoch 105/200\n",
      "200/200 [==============================] - 7s 34ms/step - loss: 0.9309 - accuracy: 0.7175 - top-5-accuracy: 0.9527 - val_loss: 4.8552 - val_accuracy: 0.3183 - val_top-5-accuracy: 0.5963\n",
      "Epoch 106/200\n",
      "200/200 [==============================] - 7s 33ms/step - loss: 0.9262 - accuracy: 0.7194 - top-5-accuracy: 0.9537 - val_loss: 4.7641 - val_accuracy: 0.3189 - val_top-5-accuracy: 0.5910\n",
      "Epoch 107/200\n",
      "200/200 [==============================] - 7s 33ms/step - loss: 0.9118 - accuracy: 0.7220 - top-5-accuracy: 0.9547 - val_loss: 5.1918 - val_accuracy: 0.2719 - val_top-5-accuracy: 0.5348\n",
      "Epoch 108/200\n",
      "200/200 [==============================] - 7s 34ms/step - loss: 0.9019 - accuracy: 0.7255 - top-5-accuracy: 0.9551 - val_loss: 4.4147 - val_accuracy: 0.3294 - val_top-5-accuracy: 0.6195\n",
      "Epoch 109/200\n",
      "200/200 [==============================] - 7s 35ms/step - loss: 0.8857 - accuracy: 0.7318 - top-5-accuracy: 0.9571 - val_loss: 4.2594 - val_accuracy: 0.3370 - val_top-5-accuracy: 0.6173\n",
      "Epoch 110/200\n",
      "200/200 [==============================] - 7s 35ms/step - loss: 0.8654 - accuracy: 0.7382 - top-5-accuracy: 0.9577 - val_loss: 4.9042 - val_accuracy: 0.3138 - val_top-5-accuracy: 0.5888\n",
      "Epoch 111/200\n",
      "200/200 [==============================] - 7s 33ms/step - loss: 0.8468 - accuracy: 0.7416 - top-5-accuracy: 0.9615 - val_loss: 4.1608 - val_accuracy: 0.3550 - val_top-5-accuracy: 0.6356\n",
      "Epoch 112/200\n",
      "200/200 [==============================] - 7s 35ms/step - loss: 0.8428 - accuracy: 0.7426 - top-5-accuracy: 0.9621 - val_loss: 4.3014 - val_accuracy: 0.3293 - val_top-5-accuracy: 0.6070\n",
      "Epoch 113/200\n",
      "200/200 [==============================] - 7s 33ms/step - loss: 0.8191 - accuracy: 0.7508 - top-5-accuracy: 0.9649 - val_loss: 4.4727 - val_accuracy: 0.3260 - val_top-5-accuracy: 0.6093\n",
      "Epoch 114/200\n",
      "200/200 [==============================] - 7s 34ms/step - loss: 0.8038 - accuracy: 0.7539 - top-5-accuracy: 0.9644 - val_loss: 4.7661 - val_accuracy: 0.3089 - val_top-5-accuracy: 0.5835\n",
      "Epoch 115/200\n",
      "200/200 [==============================] - 7s 33ms/step - loss: 0.7917 - accuracy: 0.7556 - top-5-accuracy: 0.9667 - val_loss: 4.9485 - val_accuracy: 0.3085 - val_top-5-accuracy: 0.5910\n",
      "Epoch 116/200\n",
      "200/200 [==============================] - 7s 36ms/step - loss: 0.7844 - accuracy: 0.7581 - top-5-accuracy: 0.9671 - val_loss: 4.5721 - val_accuracy: 0.3273 - val_top-5-accuracy: 0.6075\n",
      "Epoch 117/200\n",
      "200/200 [==============================] - 7s 33ms/step - loss: 0.7660 - accuracy: 0.7654 - top-5-accuracy: 0.9682 - val_loss: 5.0705 - val_accuracy: 0.3065 - val_top-5-accuracy: 0.5781\n",
      "Epoch 118/200\n",
      "200/200 [==============================] - 7s 34ms/step - loss: 0.7504 - accuracy: 0.7689 - top-5-accuracy: 0.9701 - val_loss: 4.6252 - val_accuracy: 0.3303 - val_top-5-accuracy: 0.5998\n",
      "Epoch 119/200\n",
      "200/200 [==============================] - 7s 34ms/step - loss: 0.7299 - accuracy: 0.7751 - top-5-accuracy: 0.9713 - val_loss: 5.4632 - val_accuracy: 0.3115 - val_top-5-accuracy: 0.5890\n",
      "Epoch 120/200\n",
      "200/200 [==============================] - 7s 33ms/step - loss: 0.7245 - accuracy: 0.7771 - top-5-accuracy: 0.9708 - val_loss: 4.5985 - val_accuracy: 0.3356 - val_top-5-accuracy: 0.6123\n",
      "Epoch 121/200\n",
      "200/200 [==============================] - 7s 34ms/step - loss: 0.7043 - accuracy: 0.7823 - top-5-accuracy: 0.9738 - val_loss: 4.5211 - val_accuracy: 0.3395 - val_top-5-accuracy: 0.6128\n",
      "Epoch 122/200\n",
      "200/200 [==============================] - 7s 34ms/step - loss: 0.6926 - accuracy: 0.7839 - top-5-accuracy: 0.9740 - val_loss: 4.7329 - val_accuracy: 0.3272 - val_top-5-accuracy: 0.6082\n",
      "Epoch 123/200\n",
      "200/200 [==============================] - 7s 34ms/step - loss: 0.6782 - accuracy: 0.7913 - top-5-accuracy: 0.9750 - val_loss: 5.4227 - val_accuracy: 0.2532 - val_top-5-accuracy: 0.5156\n",
      "Epoch 124/200\n",
      "200/200 [==============================] - 7s 33ms/step - loss: 0.6653 - accuracy: 0.7932 - top-5-accuracy: 0.9768 - val_loss: 5.1951 - val_accuracy: 0.3008 - val_top-5-accuracy: 0.5730\n",
      "Epoch 125/200\n",
      "200/200 [==============================] - 7s 35ms/step - loss: 0.6475 - accuracy: 0.7971 - top-5-accuracy: 0.9787 - val_loss: 5.1888 - val_accuracy: 0.3202 - val_top-5-accuracy: 0.6020\n",
      "Epoch 126/200\n",
      "200/200 [==============================] - 7s 35ms/step - loss: 0.6248 - accuracy: 0.8050 - top-5-accuracy: 0.9787 - val_loss: 4.6259 - val_accuracy: 0.3300 - val_top-5-accuracy: 0.6088\n",
      "Epoch 127/200\n",
      "200/200 [==============================] - 7s 34ms/step - loss: 0.6207 - accuracy: 0.8048 - top-5-accuracy: 0.9794 - val_loss: 5.0062 - val_accuracy: 0.3289 - val_top-5-accuracy: 0.6099\n",
      "Epoch 128/200\n",
      "200/200 [==============================] - 7s 33ms/step - loss: 0.6190 - accuracy: 0.8055 - top-5-accuracy: 0.9810 - val_loss: 4.7459 - val_accuracy: 0.3217 - val_top-5-accuracy: 0.6061\n",
      "Epoch 129/200\n",
      "200/200 [==============================] - 6s 33ms/step - loss: 0.5980 - accuracy: 0.8135 - top-5-accuracy: 0.9811 - val_loss: 4.7762 - val_accuracy: 0.3388 - val_top-5-accuracy: 0.6219\n",
      "Epoch 130/200\n",
      "200/200 [==============================] - 7s 34ms/step - loss: 0.5838 - accuracy: 0.8165 - top-5-accuracy: 0.9821 - val_loss: 4.7722 - val_accuracy: 0.3274 - val_top-5-accuracy: 0.6170\n",
      "Epoch 131/200\n",
      "200/200 [==============================] - 7s 35ms/step - loss: 0.5697 - accuracy: 0.8213 - top-5-accuracy: 0.9831 - val_loss: 5.0148 - val_accuracy: 0.3370 - val_top-5-accuracy: 0.6118\n",
      "Epoch 132/200\n",
      "200/200 [==============================] - 7s 35ms/step - loss: 0.5701 - accuracy: 0.8216 - top-5-accuracy: 0.9829 - val_loss: 4.9105 - val_accuracy: 0.3341 - val_top-5-accuracy: 0.6194\n",
      "Epoch 133/200\n",
      "200/200 [==============================] - 7s 33ms/step - loss: 0.5397 - accuracy: 0.8299 - top-5-accuracy: 0.9854 - val_loss: 5.0704 - val_accuracy: 0.3164 - val_top-5-accuracy: 0.5958\n",
      "Epoch 134/200\n",
      "200/200 [==============================] - 7s 33ms/step - loss: 0.5332 - accuracy: 0.8312 - top-5-accuracy: 0.9852 - val_loss: 4.9374 - val_accuracy: 0.3382 - val_top-5-accuracy: 0.6208\n",
      "Epoch 135/200\n",
      "200/200 [==============================] - 6s 32ms/step - loss: 0.5179 - accuracy: 0.8371 - top-5-accuracy: 0.9866 - val_loss: 5.7538 - val_accuracy: 0.3038 - val_top-5-accuracy: 0.5703\n",
      "Epoch 136/200\n",
      "200/200 [==============================] - 7s 34ms/step - loss: 0.5115 - accuracy: 0.8394 - top-5-accuracy: 0.9866 - val_loss: 5.7047 - val_accuracy: 0.3271 - val_top-5-accuracy: 0.5964\n",
      "Epoch 137/200\n",
      "200/200 [==============================] - 7s 34ms/step - loss: 0.5058 - accuracy: 0.8395 - top-5-accuracy: 0.9869 - val_loss: 5.1434 - val_accuracy: 0.3363 - val_top-5-accuracy: 0.6135\n",
      "Epoch 138/200\n",
      "200/200 [==============================] - 7s 33ms/step - loss: 0.4882 - accuracy: 0.8456 - top-5-accuracy: 0.9872 - val_loss: 4.9281 - val_accuracy: 0.3220 - val_top-5-accuracy: 0.6052\n",
      "Epoch 139/200\n",
      "200/200 [==============================] - 7s 34ms/step - loss: 0.4778 - accuracy: 0.8474 - top-5-accuracy: 0.9892 - val_loss: 6.0203 - val_accuracy: 0.2918 - val_top-5-accuracy: 0.5629\n",
      "Epoch 140/200\n",
      "200/200 [==============================] - 7s 35ms/step - loss: 0.4623 - accuracy: 0.8540 - top-5-accuracy: 0.9888 - val_loss: 4.8763 - val_accuracy: 0.3492 - val_top-5-accuracy: 0.6182\n",
      "Epoch 141/200\n",
      "200/200 [==============================] - 7s 36ms/step - loss: 0.4472 - accuracy: 0.8577 - top-5-accuracy: 0.9899 - val_loss: 6.8530 - val_accuracy: 0.2968 - val_top-5-accuracy: 0.5526\n",
      "Epoch 142/200\n",
      "200/200 [==============================] - 7s 34ms/step - loss: 0.4401 - accuracy: 0.8613 - top-5-accuracy: 0.9907 - val_loss: 5.5091 - val_accuracy: 0.3325 - val_top-5-accuracy: 0.6079\n",
      "Epoch 143/200\n",
      "200/200 [==============================] - 7s 34ms/step - loss: 0.4280 - accuracy: 0.8644 - top-5-accuracy: 0.9908 - val_loss: 5.2380 - val_accuracy: 0.3551 - val_top-5-accuracy: 0.6324\n",
      "Epoch 144/200\n",
      "200/200 [==============================] - 7s 34ms/step - loss: 0.4212 - accuracy: 0.8657 - top-5-accuracy: 0.9909 - val_loss: 5.0348 - val_accuracy: 0.3442 - val_top-5-accuracy: 0.6271\n",
      "Epoch 145/200\n",
      "200/200 [==============================] - 7s 35ms/step - loss: 0.4085 - accuracy: 0.8711 - top-5-accuracy: 0.9909 - val_loss: 6.1297 - val_accuracy: 0.3315 - val_top-5-accuracy: 0.6018\n",
      "Epoch 146/200\n",
      "200/200 [==============================] - 7s 36ms/step - loss: 0.3955 - accuracy: 0.8725 - top-5-accuracy: 0.9925 - val_loss: 5.2442 - val_accuracy: 0.3437 - val_top-5-accuracy: 0.6154\n",
      "Epoch 147/200\n",
      "200/200 [==============================] - 7s 33ms/step - loss: 0.3812 - accuracy: 0.8776 - top-5-accuracy: 0.9924 - val_loss: 5.5053 - val_accuracy: 0.3131 - val_top-5-accuracy: 0.5864\n",
      "Epoch 148/200\n",
      "200/200 [==============================] - 6s 32ms/step - loss: 0.3748 - accuracy: 0.8794 - top-5-accuracy: 0.9928 - val_loss: 5.7589 - val_accuracy: 0.3412 - val_top-5-accuracy: 0.6094\n",
      "Epoch 149/200\n",
      "200/200 [==============================] - 6s 32ms/step - loss: 0.3636 - accuracy: 0.8837 - top-5-accuracy: 0.9931 - val_loss: 5.2001 - val_accuracy: 0.3404 - val_top-5-accuracy: 0.6163\n",
      "Epoch 150/200\n",
      "200/200 [==============================] - 7s 35ms/step - loss: 0.3590 - accuracy: 0.8851 - top-5-accuracy: 0.9936 - val_loss: 5.1336 - val_accuracy: 0.3459 - val_top-5-accuracy: 0.6272\n",
      "Epoch 151/200\n",
      "200/200 [==============================] - 7s 34ms/step - loss: 0.3407 - accuracy: 0.8900 - top-5-accuracy: 0.9938 - val_loss: 6.3739 - val_accuracy: 0.3299 - val_top-5-accuracy: 0.6008\n",
      "Epoch 152/200\n",
      "199/200 [============================>.] - ETA: 0s - loss: 0.3389 - accuracy: 0.8899 - top-5-accuracy: 0.9944"
     ]
    }
   ],
   "source": [
    "model = Model(inputs = input_net, outputs = output_net)\n",
    "\n",
    "initial_learning_rate =  0.01\n",
    "\n",
    "lr_schedule = tf.keras.optimizers.schedules.CosineDecayRestarts(\n",
    "    initial_learning_rate,\n",
    "    alpha = 0.000001,\n",
    "    m_mul=1.0,\n",
    "    first_decay_steps = 20)\n",
    "\n",
    "optimizer = tf.keras.optimizers.RMSprop(learning_rate=lr_schedule)\n",
    "\n",
    "log_dir = \"logs/fit/\" + datetime.datetime.now().strftime(\"%Y%m%d-%H%M%S\")\n",
    "tensorboard_callback = tf.keras.callbacks.TensorBoard(log_dir=log_dir, histogram_freq=1)\n",
    "\n",
    "model.compile(\n",
    "        optimizer=optimizer,\n",
    "        loss=keras.losses.SparseCategoricalCrossentropy(from_logits=False),\n",
    "        metrics=[\n",
    "            keras.metrics.SparseCategoricalAccuracy(name=\"accuracy\"),\n",
    "            keras.metrics.SparseTopKCategoricalAccuracy(5, name=\"top-5-accuracy\"),\n",
    "        ],\n",
    ")\n",
    "\n",
    "\n",
    "checkpoint_filepath = \"/tmp/checkpoint\"\n",
    "checkpoint_callback = keras.callbacks.ModelCheckpoint(\n",
    "    checkpoint_filepath,\n",
    "    monitor=\"val_accuracy\",\n",
    "    save_best_only=True,\n",
    "    save_weights_only=True,\n",
    ")\n",
    "\n",
    "batch_size = 250\n",
    "epochs = 200\n",
    "model.fit(x_train, y_train, batch_size=batch_size, epochs=epochs, validation_data=(x_test, y_test), callbacks=[tensorboard_callback])"
   ]
  },
  {
   "cell_type": "code",
   "execution_count": null,
   "metadata": {},
   "outputs": [
    {
     "name": "stderr",
     "output_type": "stream",
     "text": [
      "UsageError: Line magic function `%tensorboard` not found.\n"
     ]
    }
   ],
   "source": [
    "%tensorboard --logdir logs/fit"
   ]
  },
  {
   "cell_type": "code",
   "execution_count": null,
   "metadata": {},
   "outputs": [
    {
     "name": "stdout",
     "output_type": "stream",
     "text": [
      "1/1 [==============================] - 0s 427ms/step\n",
      "[59] 59\n",
      "(1, 32, 32, 16)\n",
      "[[-0.06578093 -0.1114758  -0.11587614 ... -0.11831496 -0.11790259\n",
      "  -0.11467656]\n",
      " [-0.07727243 -0.1401683  -0.14751461 ... -0.15115549 -0.15064691\n",
      "  -0.15116261]\n",
      " [-0.076365   -0.13981278 -0.14789467 ... -0.15152532 -0.1510273\n",
      "  -0.15159613]\n",
      " ...\n",
      " [-0.02742337 -0.02957763 -0.03000837 ... -0.03383321 -0.03367658\n",
      "  -0.03423476]\n",
      " [-0.02739969 -0.02938975 -0.02970945 ... -0.03344719 -0.03352816\n",
      "  -0.03433771]\n",
      " [-0.02750487 -0.02884061 -0.02905375 ... -0.0320023  -0.03230614\n",
      "  -0.03265512]]\n"
     ]
    },
    {
     "data": {
      "text/plain": [
       "<matplotlib.image.AxesImage at 0x1d4f4572d08>"
      ]
     },
     "execution_count": 7,
     "metadata": {},
     "output_type": "execute_result"
    },
    {
     "data": {
      "image/png": "[encoded data removed]",
      "text/plain": [
       "<Figure size 432x288 with 16 Axes>"
      ]
     },
     "metadata": {
      "needs_background": "light"
     },
     "output_type": "display_data"
    },
    {
     "data": {
      "image/png": "[encoded data removed]",
      "text/plain": [
       "<Figure size 432x288 with 1 Axes>"
      ]
     },
     "metadata": {
      "needs_background": "light"
     },
     "output_type": "display_data"
    }
   ],
   "source": [
    "get_layer_output = K.function([model.input], model.layers[1].output)\n",
    "\n",
    "n = 109\n",
    "\n",
    "X = np.expand_dims(x_test[n], axis=0)\n",
    "print(y_test[n], np.argmax(model.predict(X)))\n",
    "\n",
    "\n",
    "layer_out = np.array(get_layer_output([X]))\n",
    "print(layer_out.shape)\n",
    "\n",
    "print(layer_out[0, :,:, 0])\n",
    "fig, ax = plt.subplots(16)\n",
    "for i in range(16):\n",
    "    ax[i].imshow(layer_out[0, :,:, i],  cmap='gray')   \n",
    "\n",
    "plt.figure(2)  \n",
    "plt.imshow(x_test[n],  cmap='gray')   \n",
    "\n",
    " "
   ]
  },
  {
   "cell_type": "code",
   "execution_count": null,
   "metadata": {},
   "outputs": [
    {
     "data": {
      "text/plain": [
       "'sorted_conv2d_1/Variable:0'"
      ]
     },
     "execution_count": 8,
     "metadata": {},
     "output_type": "execute_result"
    }
   ],
   "source": [
    "model.layers[4].trainable_variables[3].name"
   ]
  },
  {
   "cell_type": "markdown",
   "metadata": {},
   "source": []
  },
  {
   "cell_type": "code",
   "execution_count": null,
   "metadata": {},
   "outputs": [
    {
     "data": {
      "text/plain": [
       "<tf.Variable 'sorted_conv2d/scale_sym:0' shape=() dtype=float32, numpy=-0.0684901>"
      ]
     },
     "execution_count": 9,
     "metadata": {},
     "output_type": "execute_result"
    }
   ],
   "source": [
    "model.layers[1].scale_s"
   ]
  },
  {
   "cell_type": "code",
   "execution_count": null,
   "metadata": {},
   "outputs": [
    {
     "data": {
      "text/plain": [
       "<tf.Tensor: shape=(3, 3), dtype=float32, numpy=\n",
       "array([[ 1.057311  , -0.15671223,  1.057311  ],\n",
       "       [-0.15671223, -0.23184319, -0.15671223],\n",
       "       [ 1.057311  , -0.15671223,  1.057311  ]], dtype=float32)>"
      ]
     },
     "execution_count": 10,
     "metadata": {},
     "output_type": "execute_result"
    }
   ],
   "source": [
    "model.layers[1].get_sym_filter(0,3) "
   ]
  },
  {
   "cell_type": "code",
   "execution_count": null,
   "metadata": {},
   "outputs": [],
   "source": []
  }
 ],
 "metadata": {
  "kernelspec": {
   "display_name": "Python 3.7.13 ('masters')",
   "language": "python",
   "name": "python3"
  },
  "language_info": {
   "codemirror_mode": {
    "name": "ipython",
    "version": 3
   },
   "file_extension": ".py",
   "mimetype": "text/x-python",
   "name": "python",
   "nbconvert_exporter": "python",
   "pygments_lexer": "ipython3",
   "version": "3.7.13"
  },
  "orig_nbformat": 4,
  "vscode": {
   "interpreter": {
    "hash": "4f2ff97d05f7ea74f9ad893ce0ef62de10b7e20c3f21fc0f5866920ae6ae88e7"
   }
  }
 },
 "nbformat": 4,
 "nbformat_minor": 2
}
