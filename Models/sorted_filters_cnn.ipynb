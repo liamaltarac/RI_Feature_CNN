{
 "cells": [
  {
   "cell_type": "code",
   "execution_count": 1,
   "metadata": {},
   "outputs": [],
   "source": [
    "import numpy as np\n",
    "import tensorflow as tf\n",
    "from tensorflow import keras\n",
    "\n",
    "from tensorflow.keras import layers\n",
    "\n",
    "from tensorflow.keras import backend as K\n",
    "from tensorflow.keras.layers import Input, Concatenate , Add, Dot, Activation, Lambda, BatchNormalization, LeakyReLU, Softmax\n",
    "from tensorflow.keras.models import Model\n",
    "\n",
    "from tensorflow.image import flip_up_down, flip_left_right, rot90\n",
    "from tensorflow.linalg import normalize\n",
    "\n",
    "from tensorflow.keras.preprocessing.image import ImageDataGenerator\n",
    "\n",
    "import math\n",
    "\n",
    "import matplotlib.pyplot as plt\n",
    "import sys \n",
    "sys.path.append('..')\n",
    "from layers.sorted_filters import SortedConv2D\n",
    "\n",
    "import datetime\n"
   ]
  },
  {
   "cell_type": "code",
   "execution_count": 2,
   "metadata": {},
   "outputs": [
    {
     "name": "stdout",
     "output_type": "stream",
     "text": [
      "Num GPUs Available:  1\n",
      "2.9.1\n"
     ]
    }
   ],
   "source": [
    "from tensorflow.python.client import device_lib\n",
    "#tf.disable_v2_behavior()\n",
    "\n",
    "#print(device_lib.list_local_devices())\n",
    "print(\"Num GPUs Available: \", len(tf.config.list_physical_devices('GPU')))\n",
    "\n",
    "print(tf.__version__ )"
   ]
  },
  {
   "cell_type": "code",
   "execution_count": 3,
   "metadata": {},
   "outputs": [
    {
     "name": "stdout",
     "output_type": "stream",
     "text": [
      "Model: \"model\"\n",
      "_________________________________________________________________\n",
      " Layer (type)                Output Shape              Param #   \n",
      "=================================================================\n",
      " input_1 (InputLayer)        [(None, 32, 32, 3)]       0         \n",
      "                                                                 \n",
      " sorted_conv2d (SortedConv2D  (None, 32, 32, 16)       162       \n",
      " )                                                               \n",
      "                                                                 \n",
      " max_pooling2d (MaxPooling2D  (None, 16, 16, 16)       0         \n",
      " )                                                               \n",
      "                                                                 \n",
      " batch_normalization (BatchN  (None, 16, 16, 16)       64        \n",
      " ormalization)                                                   \n",
      "                                                                 \n",
      " dropout (Dropout)           (None, 16, 16, 16)        0         \n",
      "                                                                 \n",
      " sorted_conv2d_1 (SortedConv  (None, 16, 16, 32)       1570      \n",
      " 2D)                                                             \n",
      "                                                                 \n",
      " sorted_conv2d_2 (SortedConv  (None, 16, 16, 32)       3106      \n",
      " 2D)                                                             \n",
      "                                                                 \n",
      " max_pooling2d_1 (MaxPooling  (None, 8, 8, 32)         0         \n",
      " 2D)                                                             \n",
      "                                                                 \n",
      " batch_normalization_1 (Batc  (None, 8, 8, 32)         128       \n",
      " hNormalization)                                                 \n",
      "                                                                 \n",
      " dropout_1 (Dropout)         (None, 8, 8, 32)          0         \n",
      "                                                                 \n",
      " sorted_conv2d_3 (SortedConv  (None, 8, 8, 64)         6210      \n",
      " 2D)                                                             \n",
      "                                                                 \n",
      " sorted_conv2d_4 (SortedConv  (None, 8, 8, 64)         12354     \n",
      " 2D)                                                             \n",
      "                                                                 \n",
      " sorted_conv2d_5 (SortedConv  (None, 8, 8, 64)         12354     \n",
      " 2D)                                                             \n",
      "                                                                 \n",
      " max_pooling2d_2 (MaxPooling  (None, 4, 4, 64)         0         \n",
      " 2D)                                                             \n",
      "                                                                 \n",
      " batch_normalization_2 (Batc  (None, 4, 4, 64)         256       \n",
      " hNormalization)                                                 \n",
      "                                                                 \n",
      " dropout_2 (Dropout)         (None, 4, 4, 64)          0         \n",
      "                                                                 \n",
      " flatten (Flatten)           (None, 1024)              0         \n",
      "                                                                 \n",
      " batch_normalization_3 (Batc  (None, 1024)             4096      \n",
      " hNormalization)                                                 \n",
      "                                                                 \n",
      " dense (Dense)               (None, 512)               524800    \n",
      "                                                                 \n",
      " batch_normalization_4 (Batc  (None, 512)              2048      \n",
      " hNormalization)                                                 \n",
      "                                                                 \n",
      " dropout_3 (Dropout)         (None, 512)               0         \n",
      "                                                                 \n",
      " dense_1 (Dense)             (None, 100)               51300     \n",
      "                                                                 \n",
      "=================================================================\n",
      "Total params: 618,448\n",
      "Trainable params: 615,152\n",
      "Non-trainable params: 3,296\n",
      "_________________________________________________________________\n"
     ]
    }
   ],
   "source": [
    "input_net = Input((32, 32, 3))\n",
    "\n",
    "y = SortedConv2D(filters=16,activation=LeakyReLU(alpha=0.1), padding='SAME')(input_net)\n",
    "y = layers.MaxPooling2D(pool_size=(2, 2))(y) \n",
    "y = layers.BatchNormalization(axis=-1)(y)\n",
    "y = layers.Dropout(0.)(y)\n",
    "\n",
    "\n",
    "y = SortedConv2D(filters=32,activation=LeakyReLU(alpha=0.1), padding='SAME')(y)\n",
    "y = SortedConv2D(filters=32,activation=LeakyReLU(alpha=0.1), padding='SAME')(y)\n",
    "y = layers.MaxPooling2D(pool_size=(2, 2))(y) \n",
    "y = layers.BatchNormalization(axis=-1)(y)\n",
    "y = layers.Dropout(0.5)(y)\n",
    "\n",
    "y = SortedConv2D(filters=64, activation=LeakyReLU(alpha=0.1), padding='SAME')(y)\n",
    "y = SortedConv2D(filters=64, activation=LeakyReLU(alpha=0.1), padding='SAME')(y)\n",
    "y = SortedConv2D(filters=64, activation=LeakyReLU(alpha=0.1), padding='SAME')(y)\n",
    "y = layers.MaxPooling2D(pool_size=(2, 2))(y)\n",
    "y = layers.BatchNormalization(axis=-1)(y)\n",
    "y = layers.Dropout(0.5)(y)\n",
    "\n",
    "y = layers.Flatten()(y)\n",
    "y = layers.BatchNormalization()(y)\n",
    "y = layers.Dense(512, activation=LeakyReLU(alpha=0.1))(y)\n",
    "y = layers.BatchNormalization(axis=-1)(y)\n",
    "y = layers.Dropout(0.2)(y)\n",
    "output_net  = layers.Dense(100, activation=Softmax())(y)\n",
    "\n",
    "model = Model(inputs = input_net, outputs = output_net)\n",
    "model.summary()"
   ]
  },
  {
   "cell_type": "code",
   "execution_count": 4,
   "metadata": {},
   "outputs": [
    {
     "name": "stdout",
     "output_type": "stream",
     "text": [
      "x_train shape: (50000, 32, 32, 3)\n",
      "50000 train samples\n",
      "10000 test samples\n"
     ]
    },
    {
     "data": {
      "text/plain": [
       "<matplotlib.image.AxesImage at 0x26724dc99c8>"
      ]
     },
     "execution_count": 4,
     "metadata": {},
     "output_type": "execute_result"
    },
    {
     "data": {
      "image/png": "[encoded data removed]",
      "text/plain": [
       "<Figure size 432x288 with 1 Axes>"
      ]
     },
     "metadata": {
      "needs_background": "light"
     },
     "output_type": "display_data"
    }
   ],
   "source": [
    "num_classes = 100\n",
    "input_shape = (32, 32, 3)\n",
    "\n",
    "# Load the data and split it between train and test sets\n",
    "(x_train, y_train), (x_test, y_test) = keras.datasets.cifar100.load_data()\n",
    "\n",
    "\n",
    "\n",
    "# Scale images to the [0, 1] range\n",
    "x_train = x_train.astype(\"float32\") / 255\n",
    "x_test = x_test.astype(\"float32\") / 255\n",
    "# Make sure images have shape (28, 28, 1)\n",
    "#x_train = np.expand_dims(x_train, -1)\n",
    "#x_test = np.expand_dims(x_test, -1)\n",
    "print(\"x_train shape:\", x_train.shape)\n",
    "print(x_train.shape[0], \"train samples\")\n",
    "print(x_test.shape[0], \"test samples\")\n",
    "\n",
    "# convert class vectors to binary class matrices\n",
    "#y_train = keras.utils.to_categorical(y_train, num_classes)\n",
    "#y_test = keras.utils.to_categorical(y_test, num_classes)\n",
    "\n",
    "plt.imshow(x_train[0,:,:,:])"
   ]
  },
  {
   "cell_type": "code",
   "execution_count": 5,
   "metadata": {},
   "outputs": [
    {
     "name": "stdout",
     "output_type": "stream",
     "text": [
      "Epoch 1/200\n",
      "196/196 [==============================] - 23s 58ms/step - loss: 4.9764 - accuracy: 0.0461 - top-5-accuracy: 0.1596 - val_loss: 4.7133 - val_accuracy: 0.0197 - val_top-5-accuracy: 0.0818\n",
      "Epoch 2/200\n",
      "196/196 [==============================] - 9s 47ms/step - loss: 4.0953 - accuracy: 0.0827 - top-5-accuracy: 0.2551 - val_loss: 4.1733 - val_accuracy: 0.0652 - val_top-5-accuracy: 0.2134\n",
      "Epoch 3/200\n",
      "196/196 [==============================] - 9s 47ms/step - loss: 3.8920 - accuracy: 0.1096 - top-5-accuracy: 0.3075 - val_loss: 3.8459 - val_accuracy: 0.1257 - val_top-5-accuracy: 0.3351\n",
      "Epoch 4/200\n",
      "196/196 [==============================] - 10s 53ms/step - loss: 3.8508 - accuracy: 0.1106 - top-5-accuracy: 0.3165 - val_loss: 3.9178 - val_accuracy: 0.1039 - val_top-5-accuracy: 0.3070\n",
      "Epoch 5/200\n",
      "196/196 [==============================] - 9s 48ms/step - loss: 3.7157 - accuracy: 0.1338 - top-5-accuracy: 0.3571 - val_loss: 3.6730 - val_accuracy: 0.1476 - val_top-5-accuracy: 0.3713\n",
      "Epoch 6/200\n",
      "196/196 [==============================] - 9s 46ms/step - loss: 3.5879 - accuracy: 0.1571 - top-5-accuracy: 0.3905 - val_loss: 3.5380 - val_accuracy: 0.1702 - val_top-5-accuracy: 0.4126\n",
      "Epoch 7/200\n",
      "196/196 [==============================] - 9s 44ms/step - loss: 3.6010 - accuracy: 0.1524 - top-5-accuracy: 0.3879 - val_loss: 3.7406 - val_accuracy: 0.1366 - val_top-5-accuracy: 0.3686\n",
      "Epoch 8/200\n",
      "196/196 [==============================] - 9s 46ms/step - loss: 3.6126 - accuracy: 0.1511 - top-5-accuracy: 0.3843 - val_loss: 3.6975 - val_accuracy: 0.1579 - val_top-5-accuracy: 0.3921\n",
      "Epoch 9/200\n",
      "196/196 [==============================] - 9s 45ms/step - loss: 3.5188 - accuracy: 0.1658 - top-5-accuracy: 0.4093 - val_loss: 3.6618 - val_accuracy: 0.1622 - val_top-5-accuracy: 0.4006\n",
      "Epoch 10/200\n",
      "196/196 [==============================] - 9s 45ms/step - loss: 3.4324 - accuracy: 0.1836 - top-5-accuracy: 0.4320 - val_loss: 3.4055 - val_accuracy: 0.1936 - val_top-5-accuracy: 0.4466\n",
      "Epoch 11/200\n",
      "196/196 [==============================] - 8s 43ms/step - loss: 3.3541 - accuracy: 0.1963 - top-5-accuracy: 0.4545 - val_loss: 3.3390 - val_accuracy: 0.2102 - val_top-5-accuracy: 0.4599\n",
      "Epoch 12/200\n",
      "196/196 [==============================] - 9s 44ms/step - loss: 3.2865 - accuracy: 0.2094 - top-5-accuracy: 0.4729 - val_loss: 3.3233 - val_accuracy: 0.2129 - val_top-5-accuracy: 0.4692\n",
      "Epoch 13/200\n",
      "196/196 [==============================] - 9s 44ms/step - loss: 3.2623 - accuracy: 0.2130 - top-5-accuracy: 0.4786 - val_loss: 3.6552 - val_accuracy: 0.1394 - val_top-5-accuracy: 0.3693\n",
      "Epoch 14/200\n",
      "196/196 [==============================] - 9s 44ms/step - loss: 3.4276 - accuracy: 0.1807 - top-5-accuracy: 0.4365 - val_loss: 3.5792 - val_accuracy: 0.1730 - val_top-5-accuracy: 0.4333\n",
      "Epoch 15/200\n",
      "196/196 [==============================] - 9s 45ms/step - loss: 3.3621 - accuracy: 0.1935 - top-5-accuracy: 0.4551 - val_loss: 3.4266 - val_accuracy: 0.1884 - val_top-5-accuracy: 0.4478\n",
      "Epoch 16/200\n",
      "196/196 [==============================] - 9s 45ms/step - loss: 3.2816 - accuracy: 0.2111 - top-5-accuracy: 0.4768 - val_loss: 3.3442 - val_accuracy: 0.1981 - val_top-5-accuracy: 0.4659\n",
      "Epoch 17/200\n",
      "196/196 [==============================] - 9s 44ms/step - loss: 3.2086 - accuracy: 0.2251 - top-5-accuracy: 0.4966 - val_loss: 3.2403 - val_accuracy: 0.2291 - val_top-5-accuracy: 0.5016\n",
      "Epoch 18/200\n",
      "196/196 [==============================] - 9s 44ms/step - loss: 3.1275 - accuracy: 0.2395 - top-5-accuracy: 0.5185 - val_loss: 3.1975 - val_accuracy: 0.2324 - val_top-5-accuracy: 0.5012\n",
      "Epoch 19/200\n",
      "196/196 [==============================] - 9s 44ms/step - loss: 3.0584 - accuracy: 0.2523 - top-5-accuracy: 0.5355 - val_loss: 3.1021 - val_accuracy: 0.2523 - val_top-5-accuracy: 0.5258\n",
      "Epoch 20/200\n",
      "196/196 [==============================] - 9s 45ms/step - loss: 2.9851 - accuracy: 0.2671 - top-5-accuracy: 0.5539 - val_loss: 3.0696 - val_accuracy: 0.2564 - val_top-5-accuracy: 0.5364\n",
      "Epoch 21/200\n",
      "196/196 [==============================] - 9s 44ms/step - loss: 2.9271 - accuracy: 0.2777 - top-5-accuracy: 0.5691 - val_loss: 2.9959 - val_accuracy: 0.2744 - val_top-5-accuracy: 0.5513\n",
      "Epoch 22/200\n",
      "196/196 [==============================] - 9s 43ms/step - loss: 2.8783 - accuracy: 0.2887 - top-5-accuracy: 0.5797 - val_loss: 2.9923 - val_accuracy: 0.2774 - val_top-5-accuracy: 0.5544\n",
      "Epoch 23/200\n",
      "196/196 [==============================] - 8s 42ms/step - loss: 2.8342 - accuracy: 0.2965 - top-5-accuracy: 0.5904 - val_loss: 2.9513 - val_accuracy: 0.2879 - val_top-5-accuracy: 0.5655\n",
      "Epoch 24/200\n",
      "196/196 [==============================] - 9s 44ms/step - loss: 2.7977 - accuracy: 0.3042 - top-5-accuracy: 0.5980 - val_loss: 2.9411 - val_accuracy: 0.2896 - val_top-5-accuracy: 0.5646\n",
      "Epoch 25/200\n",
      "196/196 [==============================] - 9s 44ms/step - loss: 2.7776 - accuracy: 0.3081 - top-5-accuracy: 0.6018 - val_loss: 2.9350 - val_accuracy: 0.2912 - val_top-5-accuracy: 0.5686\n",
      "Epoch 26/200\n",
      "196/196 [==============================] - 9s 44ms/step - loss: 2.7702 - accuracy: 0.3092 - top-5-accuracy: 0.6062 - val_loss: 2.9333 - val_accuracy: 0.2921 - val_top-5-accuracy: 0.5685\n",
      "Epoch 27/200\n",
      "196/196 [==============================] - 9s 44ms/step - loss: 2.9924 - accuracy: 0.2631 - top-5-accuracy: 0.5542 - val_loss: 3.1599 - val_accuracy: 0.2430 - val_top-5-accuracy: 0.5235\n",
      "Epoch 28/200\n",
      "196/196 [==============================] - 8s 43ms/step - loss: 2.9564 - accuracy: 0.2691 - top-5-accuracy: 0.5633 - val_loss: 3.1865 - val_accuracy: 0.2483 - val_top-5-accuracy: 0.5245\n",
      "Epoch 29/200\n",
      "196/196 [==============================] - 9s 44ms/step - loss: 2.9125 - accuracy: 0.2784 - top-5-accuracy: 0.5750 - val_loss: 3.2515 - val_accuracy: 0.2385 - val_top-5-accuracy: 0.5282\n",
      "Epoch 30/200\n",
      "196/196 [==============================] - 9s 44ms/step - loss: 2.8609 - accuracy: 0.2872 - top-5-accuracy: 0.5882 - val_loss: 3.1064 - val_accuracy: 0.2528 - val_top-5-accuracy: 0.5381\n",
      "Epoch 31/200\n",
      "196/196 [==============================] - 9s 46ms/step - loss: 2.8143 - accuracy: 0.2987 - top-5-accuracy: 0.5997 - val_loss: 3.1171 - val_accuracy: 0.2576 - val_top-5-accuracy: 0.5297\n",
      "Epoch 32/200\n",
      "196/196 [==============================] - 10s 51ms/step - loss: 2.7758 - accuracy: 0.3046 - top-5-accuracy: 0.6086 - val_loss: 2.9244 - val_accuracy: 0.2872 - val_top-5-accuracy: 0.5739\n",
      "Epoch 33/200\n",
      "196/196 [==============================] - 9s 45ms/step - loss: 2.7318 - accuracy: 0.3109 - top-5-accuracy: 0.6182 - val_loss: 2.9243 - val_accuracy: 0.2977 - val_top-5-accuracy: 0.5782\n",
      "Epoch 34/200\n",
      "196/196 [==============================] - 9s 45ms/step - loss: 2.6880 - accuracy: 0.3226 - top-5-accuracy: 0.6297 - val_loss: 3.0724 - val_accuracy: 0.2736 - val_top-5-accuracy: 0.5566\n",
      "Epoch 35/200\n",
      "196/196 [==============================] - 9s 44ms/step - loss: 2.6429 - accuracy: 0.3315 - top-5-accuracy: 0.6376 - val_loss: 2.8259 - val_accuracy: 0.3029 - val_top-5-accuracy: 0.5930\n",
      "Epoch 36/200\n",
      "196/196 [==============================] - 9s 44ms/step - loss: 2.5989 - accuracy: 0.3362 - top-5-accuracy: 0.6505 - val_loss: 2.8588 - val_accuracy: 0.3126 - val_top-5-accuracy: 0.5959\n",
      "Epoch 37/200\n",
      "196/196 [==============================] - 9s 44ms/step - loss: 2.5548 - accuracy: 0.3471 - top-5-accuracy: 0.6589 - val_loss: 3.0578 - val_accuracy: 0.2745 - val_top-5-accuracy: 0.5500\n",
      "Epoch 38/200\n",
      "196/196 [==============================] - 9s 46ms/step - loss: 2.5135 - accuracy: 0.3544 - top-5-accuracy: 0.6693 - val_loss: 2.7578 - val_accuracy: 0.3226 - val_top-5-accuracy: 0.6088\n",
      "Epoch 39/200\n",
      "196/196 [==============================] - 9s 45ms/step - loss: 2.4770 - accuracy: 0.3630 - top-5-accuracy: 0.6763 - val_loss: 2.7520 - val_accuracy: 0.3239 - val_top-5-accuracy: 0.6119\n",
      "Epoch 40/200\n",
      "196/196 [==============================] - 8s 43ms/step - loss: 2.4452 - accuracy: 0.3675 - top-5-accuracy: 0.6839 - val_loss: 2.7027 - val_accuracy: 0.3385 - val_top-5-accuracy: 0.6270\n",
      "Epoch 41/200\n",
      "196/196 [==============================] - 8s 43ms/step - loss: 2.3983 - accuracy: 0.3788 - top-5-accuracy: 0.6918 - val_loss: 2.6823 - val_accuracy: 0.3359 - val_top-5-accuracy: 0.6289\n",
      "Epoch 42/200\n",
      "196/196 [==============================] - 9s 44ms/step - loss: 2.3666 - accuracy: 0.3856 - top-5-accuracy: 0.7008 - val_loss: 2.6501 - val_accuracy: 0.3452 - val_top-5-accuracy: 0.6354\n",
      "Epoch 43/200\n",
      "196/196 [==============================] - 8s 43ms/step - loss: 2.3329 - accuracy: 0.3921 - top-5-accuracy: 0.7061 - val_loss: 2.6203 - val_accuracy: 0.3503 - val_top-5-accuracy: 0.6411\n",
      "Epoch 44/200\n",
      "196/196 [==============================] - 8s 43ms/step - loss: 2.3078 - accuracy: 0.3989 - top-5-accuracy: 0.7097 - val_loss: 2.6285 - val_accuracy: 0.3510 - val_top-5-accuracy: 0.6400\n",
      "Epoch 45/200\n",
      "196/196 [==============================] - 8s 43ms/step - loss: 2.2810 - accuracy: 0.4041 - top-5-accuracy: 0.7175 - val_loss: 2.6019 - val_accuracy: 0.3544 - val_top-5-accuracy: 0.6447\n",
      "Epoch 46/200\n",
      "196/196 [==============================] - 9s 47ms/step - loss: 2.2585 - accuracy: 0.4097 - top-5-accuracy: 0.7230 - val_loss: 2.6116 - val_accuracy: 0.3561 - val_top-5-accuracy: 0.6450\n",
      "Epoch 47/200\n",
      "196/196 [==============================] - 9s 44ms/step - loss: 2.2371 - accuracy: 0.4119 - top-5-accuracy: 0.7269 - val_loss: 2.6036 - val_accuracy: 0.3574 - val_top-5-accuracy: 0.6494\n",
      "Epoch 48/200\n",
      "196/196 [==============================] - 9s 44ms/step - loss: 2.2173 - accuracy: 0.4171 - top-5-accuracy: 0.7307 - val_loss: 2.5862 - val_accuracy: 0.3615 - val_top-5-accuracy: 0.6484\n",
      "Epoch 49/200\n",
      "196/196 [==============================] - 9s 43ms/step - loss: 2.2058 - accuracy: 0.4204 - top-5-accuracy: 0.7314 - val_loss: 2.5772 - val_accuracy: 0.3603 - val_top-5-accuracy: 0.6497\n",
      "Epoch 50/200\n",
      "196/196 [==============================] - 9s 44ms/step - loss: 2.1969 - accuracy: 0.4245 - top-5-accuracy: 0.7348 - val_loss: 2.5756 - val_accuracy: 0.3618 - val_top-5-accuracy: 0.6508\n",
      "Epoch 51/200\n",
      "196/196 [==============================] - 9s 45ms/step - loss: 2.1910 - accuracy: 0.4234 - top-5-accuracy: 0.7352 - val_loss: 2.5742 - val_accuracy: 0.3619 - val_top-5-accuracy: 0.6512\n",
      "Epoch 52/200\n",
      "196/196 [==============================] - 9s 45ms/step - loss: 2.1874 - accuracy: 0.4252 - top-5-accuracy: 0.7385 - val_loss: 2.5744 - val_accuracy: 0.3608 - val_top-5-accuracy: 0.6512\n",
      "Epoch 53/200\n",
      "196/196 [==============================] - 9s 44ms/step - loss: 2.4393 - accuracy: 0.3703 - top-5-accuracy: 0.6862 - val_loss: 3.0830 - val_accuracy: 0.2801 - val_top-5-accuracy: 0.5573\n",
      "Epoch 54/200\n",
      "196/196 [==============================] - 9s 45ms/step - loss: 2.4934 - accuracy: 0.3579 - top-5-accuracy: 0.6754 - val_loss: 3.3549 - val_accuracy: 0.2654 - val_top-5-accuracy: 0.5270\n",
      "Epoch 55/200\n",
      "196/196 [==============================] - 9s 45ms/step - loss: 2.4714 - accuracy: 0.3617 - top-5-accuracy: 0.6779 - val_loss: 2.9032 - val_accuracy: 0.3073 - val_top-5-accuracy: 0.5970\n",
      "Epoch 56/200\n",
      "196/196 [==============================] - 9s 45ms/step - loss: 2.4453 - accuracy: 0.3691 - top-5-accuracy: 0.6860 - val_loss: 3.0956 - val_accuracy: 0.3037 - val_top-5-accuracy: 0.5828\n",
      "Epoch 57/200\n",
      "196/196 [==============================] - 9s 46ms/step - loss: 2.4126 - accuracy: 0.3727 - top-5-accuracy: 0.6944 - val_loss: 3.6885 - val_accuracy: 0.2311 - val_top-5-accuracy: 0.4893\n",
      "Epoch 58/200\n",
      "196/196 [==============================] - 9s 44ms/step - loss: 2.3907 - accuracy: 0.3790 - top-5-accuracy: 0.6995 - val_loss: 3.3314 - val_accuracy: 0.2668 - val_top-5-accuracy: 0.5479\n",
      "Epoch 59/200\n",
      "196/196 [==============================] - 8s 43ms/step - loss: 2.3525 - accuracy: 0.3874 - top-5-accuracy: 0.7061 - val_loss: 2.9639 - val_accuracy: 0.2903 - val_top-5-accuracy: 0.5902\n",
      "Epoch 60/200\n",
      " 47/196 [======>.......................] - ETA: 5s - loss: 2.2999 - accuracy: 0.4003 - top-5-accuracy: 0.7171"
     ]
    },
    {
     "ename": "KeyboardInterrupt",
     "evalue": "",
     "output_type": "error",
     "traceback": [
      "\u001b[1;31m---------------------------------------------------------------------------\u001b[0m",
      "\u001b[1;31mKeyboardInterrupt\u001b[0m                         Traceback (most recent call last)",
      "\u001b[1;32m~\\AppData\\Local\\Temp\\ipykernel_18724\\2397169467.py\u001b[0m in \u001b[0;36m<module>\u001b[1;34m\u001b[0m\n\u001b[0;32m     34\u001b[0m \u001b[0mbatch_size\u001b[0m \u001b[1;33m=\u001b[0m \u001b[1;36m256\u001b[0m\u001b[1;33m\u001b[0m\u001b[1;33m\u001b[0m\u001b[0m\n\u001b[0;32m     35\u001b[0m \u001b[0mepochs\u001b[0m \u001b[1;33m=\u001b[0m \u001b[1;36m200\u001b[0m\u001b[1;33m\u001b[0m\u001b[1;33m\u001b[0m\u001b[0m\n\u001b[1;32m---> 36\u001b[1;33m \u001b[0mmodel\u001b[0m\u001b[1;33m.\u001b[0m\u001b[0mfit\u001b[0m\u001b[1;33m(\u001b[0m\u001b[0mx_train\u001b[0m\u001b[1;33m,\u001b[0m \u001b[0my_train\u001b[0m\u001b[1;33m,\u001b[0m \u001b[0mbatch_size\u001b[0m\u001b[1;33m=\u001b[0m\u001b[0mbatch_size\u001b[0m\u001b[1;33m,\u001b[0m \u001b[0mepochs\u001b[0m\u001b[1;33m=\u001b[0m\u001b[0mepochs\u001b[0m\u001b[1;33m,\u001b[0m \u001b[0mvalidation_data\u001b[0m\u001b[1;33m=\u001b[0m\u001b[1;33m(\u001b[0m\u001b[0mx_test\u001b[0m\u001b[1;33m,\u001b[0m \u001b[0my_test\u001b[0m\u001b[1;33m)\u001b[0m\u001b[1;33m,\u001b[0m \u001b[0mcallbacks\u001b[0m\u001b[1;33m=\u001b[0m\u001b[1;33m[\u001b[0m\u001b[0mtensorboard_callback\u001b[0m\u001b[1;33m]\u001b[0m\u001b[1;33m)\u001b[0m\u001b[1;33m\u001b[0m\u001b[1;33m\u001b[0m\u001b[0m\n\u001b[0m",
      "\u001b[1;32mc:\\Users\\AN46710\\Anaconda3\\envs\\masters\\lib\\site-packages\\keras\\utils\\traceback_utils.py\u001b[0m in \u001b[0;36merror_handler\u001b[1;34m(*args, **kwargs)\u001b[0m\n\u001b[0;32m     62\u001b[0m     \u001b[0mfiltered_tb\u001b[0m \u001b[1;33m=\u001b[0m \u001b[1;32mNone\u001b[0m\u001b[1;33m\u001b[0m\u001b[1;33m\u001b[0m\u001b[0m\n\u001b[0;32m     63\u001b[0m     \u001b[1;32mtry\u001b[0m\u001b[1;33m:\u001b[0m\u001b[1;33m\u001b[0m\u001b[1;33m\u001b[0m\u001b[0m\n\u001b[1;32m---> 64\u001b[1;33m       \u001b[1;32mreturn\u001b[0m \u001b[0mfn\u001b[0m\u001b[1;33m(\u001b[0m\u001b[1;33m*\u001b[0m\u001b[0margs\u001b[0m\u001b[1;33m,\u001b[0m \u001b[1;33m**\u001b[0m\u001b[0mkwargs\u001b[0m\u001b[1;33m)\u001b[0m\u001b[1;33m\u001b[0m\u001b[1;33m\u001b[0m\u001b[0m\n\u001b[0m\u001b[0;32m     65\u001b[0m     \u001b[1;32mexcept\u001b[0m \u001b[0mException\u001b[0m \u001b[1;32mas\u001b[0m \u001b[0me\u001b[0m\u001b[1;33m:\u001b[0m  \u001b[1;31m# pylint: disable=broad-except\u001b[0m\u001b[1;33m\u001b[0m\u001b[1;33m\u001b[0m\u001b[0m\n\u001b[0;32m     66\u001b[0m       \u001b[0mfiltered_tb\u001b[0m \u001b[1;33m=\u001b[0m \u001b[0m_process_traceback_frames\u001b[0m\u001b[1;33m(\u001b[0m\u001b[0me\u001b[0m\u001b[1;33m.\u001b[0m\u001b[0m__traceback__\u001b[0m\u001b[1;33m)\u001b[0m\u001b[1;33m\u001b[0m\u001b[1;33m\u001b[0m\u001b[0m\n",
      "\u001b[1;32mc:\\Users\\AN46710\\Anaconda3\\envs\\masters\\lib\\site-packages\\keras\\engine\\training.py\u001b[0m in \u001b[0;36mfit\u001b[1;34m(self, x, y, batch_size, epochs, verbose, callbacks, validation_split, validation_data, shuffle, class_weight, sample_weight, initial_epoch, steps_per_epoch, validation_steps, validation_batch_size, validation_freq, max_queue_size, workers, use_multiprocessing)\u001b[0m\n\u001b[0;32m   1407\u001b[0m                 _r=1):\n\u001b[0;32m   1408\u001b[0m               \u001b[0mcallbacks\u001b[0m\u001b[1;33m.\u001b[0m\u001b[0mon_train_batch_begin\u001b[0m\u001b[1;33m(\u001b[0m\u001b[0mstep\u001b[0m\u001b[1;33m)\u001b[0m\u001b[1;33m\u001b[0m\u001b[1;33m\u001b[0m\u001b[0m\n\u001b[1;32m-> 1409\u001b[1;33m               \u001b[0mtmp_logs\u001b[0m \u001b[1;33m=\u001b[0m \u001b[0mself\u001b[0m\u001b[1;33m.\u001b[0m\u001b[0mtrain_function\u001b[0m\u001b[1;33m(\u001b[0m\u001b[0miterator\u001b[0m\u001b[1;33m)\u001b[0m\u001b[1;33m\u001b[0m\u001b[1;33m\u001b[0m\u001b[0m\n\u001b[0m\u001b[0;32m   1410\u001b[0m               \u001b[1;32mif\u001b[0m \u001b[0mdata_handler\u001b[0m\u001b[1;33m.\u001b[0m\u001b[0mshould_sync\u001b[0m\u001b[1;33m:\u001b[0m\u001b[1;33m\u001b[0m\u001b[1;33m\u001b[0m\u001b[0m\n\u001b[0;32m   1411\u001b[0m                 \u001b[0mcontext\u001b[0m\u001b[1;33m.\u001b[0m\u001b[0masync_wait\u001b[0m\u001b[1;33m(\u001b[0m\u001b[1;33m)\u001b[0m\u001b[1;33m\u001b[0m\u001b[1;33m\u001b[0m\u001b[0m\n",
      "\u001b[1;32mc:\\Users\\AN46710\\Anaconda3\\envs\\masters\\lib\\site-packages\\tensorflow\\python\\util\\traceback_utils.py\u001b[0m in \u001b[0;36merror_handler\u001b[1;34m(*args, **kwargs)\u001b[0m\n\u001b[0;32m    148\u001b[0m     \u001b[0mfiltered_tb\u001b[0m \u001b[1;33m=\u001b[0m \u001b[1;32mNone\u001b[0m\u001b[1;33m\u001b[0m\u001b[1;33m\u001b[0m\u001b[0m\n\u001b[0;32m    149\u001b[0m     \u001b[1;32mtry\u001b[0m\u001b[1;33m:\u001b[0m\u001b[1;33m\u001b[0m\u001b[1;33m\u001b[0m\u001b[0m\n\u001b[1;32m--> 150\u001b[1;33m       \u001b[1;32mreturn\u001b[0m \u001b[0mfn\u001b[0m\u001b[1;33m(\u001b[0m\u001b[1;33m*\u001b[0m\u001b[0margs\u001b[0m\u001b[1;33m,\u001b[0m \u001b[1;33m**\u001b[0m\u001b[0mkwargs\u001b[0m\u001b[1;33m)\u001b[0m\u001b[1;33m\u001b[0m\u001b[1;33m\u001b[0m\u001b[0m\n\u001b[0m\u001b[0;32m    151\u001b[0m     \u001b[1;32mexcept\u001b[0m \u001b[0mException\u001b[0m \u001b[1;32mas\u001b[0m \u001b[0me\u001b[0m\u001b[1;33m:\u001b[0m\u001b[1;33m\u001b[0m\u001b[1;33m\u001b[0m\u001b[0m\n\u001b[0;32m    152\u001b[0m       \u001b[0mfiltered_tb\u001b[0m \u001b[1;33m=\u001b[0m \u001b[0m_process_traceback_frames\u001b[0m\u001b[1;33m(\u001b[0m\u001b[0me\u001b[0m\u001b[1;33m.\u001b[0m\u001b[0m__traceback__\u001b[0m\u001b[1;33m)\u001b[0m\u001b[1;33m\u001b[0m\u001b[1;33m\u001b[0m\u001b[0m\n",
      "\u001b[1;32mc:\\Users\\AN46710\\Anaconda3\\envs\\masters\\lib\\site-packages\\tensorflow\\python\\eager\\def_function.py\u001b[0m in \u001b[0;36m__call__\u001b[1;34m(self, *args, **kwds)\u001b[0m\n\u001b[0;32m    913\u001b[0m \u001b[1;33m\u001b[0m\u001b[0m\n\u001b[0;32m    914\u001b[0m       \u001b[1;32mwith\u001b[0m \u001b[0mOptionalXlaContext\u001b[0m\u001b[1;33m(\u001b[0m\u001b[0mself\u001b[0m\u001b[1;33m.\u001b[0m\u001b[0m_jit_compile\u001b[0m\u001b[1;33m)\u001b[0m\u001b[1;33m:\u001b[0m\u001b[1;33m\u001b[0m\u001b[1;33m\u001b[0m\u001b[0m\n\u001b[1;32m--> 915\u001b[1;33m         \u001b[0mresult\u001b[0m \u001b[1;33m=\u001b[0m \u001b[0mself\u001b[0m\u001b[1;33m.\u001b[0m\u001b[0m_call\u001b[0m\u001b[1;33m(\u001b[0m\u001b[1;33m*\u001b[0m\u001b[0margs\u001b[0m\u001b[1;33m,\u001b[0m \u001b[1;33m**\u001b[0m\u001b[0mkwds\u001b[0m\u001b[1;33m)\u001b[0m\u001b[1;33m\u001b[0m\u001b[1;33m\u001b[0m\u001b[0m\n\u001b[0m\u001b[0;32m    916\u001b[0m \u001b[1;33m\u001b[0m\u001b[0m\n\u001b[0;32m    917\u001b[0m       \u001b[0mnew_tracing_count\u001b[0m \u001b[1;33m=\u001b[0m \u001b[0mself\u001b[0m\u001b[1;33m.\u001b[0m\u001b[0mexperimental_get_tracing_count\u001b[0m\u001b[1;33m(\u001b[0m\u001b[1;33m)\u001b[0m\u001b[1;33m\u001b[0m\u001b[1;33m\u001b[0m\u001b[0m\n",
      "\u001b[1;32mc:\\Users\\AN46710\\Anaconda3\\envs\\masters\\lib\\site-packages\\tensorflow\\python\\eager\\def_function.py\u001b[0m in \u001b[0;36m_call\u001b[1;34m(self, *args, **kwds)\u001b[0m\n\u001b[0;32m    945\u001b[0m       \u001b[1;31m# In this case we have created variables on the first call, so we run the\u001b[0m\u001b[1;33m\u001b[0m\u001b[1;33m\u001b[0m\u001b[1;33m\u001b[0m\u001b[0m\n\u001b[0;32m    946\u001b[0m       \u001b[1;31m# defunned version which is guaranteed to never create variables.\u001b[0m\u001b[1;33m\u001b[0m\u001b[1;33m\u001b[0m\u001b[1;33m\u001b[0m\u001b[0m\n\u001b[1;32m--> 947\u001b[1;33m       \u001b[1;32mreturn\u001b[0m \u001b[0mself\u001b[0m\u001b[1;33m.\u001b[0m\u001b[0m_stateless_fn\u001b[0m\u001b[1;33m(\u001b[0m\u001b[1;33m*\u001b[0m\u001b[0margs\u001b[0m\u001b[1;33m,\u001b[0m \u001b[1;33m**\u001b[0m\u001b[0mkwds\u001b[0m\u001b[1;33m)\u001b[0m  \u001b[1;31m# pylint: disable=not-callable\u001b[0m\u001b[1;33m\u001b[0m\u001b[1;33m\u001b[0m\u001b[0m\n\u001b[0m\u001b[0;32m    948\u001b[0m     \u001b[1;32melif\u001b[0m \u001b[0mself\u001b[0m\u001b[1;33m.\u001b[0m\u001b[0m_stateful_fn\u001b[0m \u001b[1;32mis\u001b[0m \u001b[1;32mnot\u001b[0m \u001b[1;32mNone\u001b[0m\u001b[1;33m:\u001b[0m\u001b[1;33m\u001b[0m\u001b[1;33m\u001b[0m\u001b[0m\n\u001b[0;32m    949\u001b[0m       \u001b[1;31m# Release the lock early so that multiple threads can perform the call\u001b[0m\u001b[1;33m\u001b[0m\u001b[1;33m\u001b[0m\u001b[1;33m\u001b[0m\u001b[0m\n",
      "\u001b[1;32mc:\\Users\\AN46710\\Anaconda3\\envs\\masters\\lib\\site-packages\\tensorflow\\python\\eager\\function.py\u001b[0m in \u001b[0;36m__call__\u001b[1;34m(self, *args, **kwargs)\u001b[0m\n\u001b[0;32m   2452\u001b[0m        filtered_flat_args) = self._maybe_define_function(args, kwargs)\n\u001b[0;32m   2453\u001b[0m     return graph_function._call_flat(\n\u001b[1;32m-> 2454\u001b[1;33m         filtered_flat_args, captured_inputs=graph_function.captured_inputs)  # pylint: disable=protected-access\n\u001b[0m\u001b[0;32m   2455\u001b[0m \u001b[1;33m\u001b[0m\u001b[0m\n\u001b[0;32m   2456\u001b[0m   \u001b[1;33m@\u001b[0m\u001b[0mproperty\u001b[0m\u001b[1;33m\u001b[0m\u001b[1;33m\u001b[0m\u001b[0m\n",
      "\u001b[1;32mc:\\Users\\AN46710\\Anaconda3\\envs\\masters\\lib\\site-packages\\tensorflow\\python\\eager\\function.py\u001b[0m in \u001b[0;36m_call_flat\u001b[1;34m(self, args, captured_inputs, cancellation_manager)\u001b[0m\n\u001b[0;32m   1859\u001b[0m       \u001b[1;31m# No tape is watching; skip to running the function.\u001b[0m\u001b[1;33m\u001b[0m\u001b[1;33m\u001b[0m\u001b[1;33m\u001b[0m\u001b[0m\n\u001b[0;32m   1860\u001b[0m       return self._build_call_outputs(self._inference_function.call(\n\u001b[1;32m-> 1861\u001b[1;33m           ctx, args, cancellation_manager=cancellation_manager))\n\u001b[0m\u001b[0;32m   1862\u001b[0m     forward_backward = self._select_forward_and_backward_functions(\n\u001b[0;32m   1863\u001b[0m         \u001b[0margs\u001b[0m\u001b[1;33m,\u001b[0m\u001b[1;33m\u001b[0m\u001b[1;33m\u001b[0m\u001b[0m\n",
      "\u001b[1;32mc:\\Users\\AN46710\\Anaconda3\\envs\\masters\\lib\\site-packages\\tensorflow\\python\\eager\\function.py\u001b[0m in \u001b[0;36mcall\u001b[1;34m(self, ctx, args, cancellation_manager)\u001b[0m\n\u001b[0;32m    500\u001b[0m               \u001b[0minputs\u001b[0m\u001b[1;33m=\u001b[0m\u001b[0margs\u001b[0m\u001b[1;33m,\u001b[0m\u001b[1;33m\u001b[0m\u001b[1;33m\u001b[0m\u001b[0m\n\u001b[0;32m    501\u001b[0m               \u001b[0mattrs\u001b[0m\u001b[1;33m=\u001b[0m\u001b[0mattrs\u001b[0m\u001b[1;33m,\u001b[0m\u001b[1;33m\u001b[0m\u001b[1;33m\u001b[0m\u001b[0m\n\u001b[1;32m--> 502\u001b[1;33m               ctx=ctx)\n\u001b[0m\u001b[0;32m    503\u001b[0m         \u001b[1;32melse\u001b[0m\u001b[1;33m:\u001b[0m\u001b[1;33m\u001b[0m\u001b[1;33m\u001b[0m\u001b[0m\n\u001b[0;32m    504\u001b[0m           outputs = execute.execute_with_cancellation(\n",
      "\u001b[1;32mc:\\Users\\AN46710\\Anaconda3\\envs\\masters\\lib\\site-packages\\tensorflow\\python\\eager\\execute.py\u001b[0m in \u001b[0;36mquick_execute\u001b[1;34m(op_name, num_outputs, inputs, attrs, ctx, name)\u001b[0m\n\u001b[0;32m     53\u001b[0m     \u001b[0mctx\u001b[0m\u001b[1;33m.\u001b[0m\u001b[0mensure_initialized\u001b[0m\u001b[1;33m(\u001b[0m\u001b[1;33m)\u001b[0m\u001b[1;33m\u001b[0m\u001b[1;33m\u001b[0m\u001b[0m\n\u001b[0;32m     54\u001b[0m     tensors = pywrap_tfe.TFE_Py_Execute(ctx._handle, device_name, op_name,\n\u001b[1;32m---> 55\u001b[1;33m                                         inputs, attrs, num_outputs)\n\u001b[0m\u001b[0;32m     56\u001b[0m   \u001b[1;32mexcept\u001b[0m \u001b[0mcore\u001b[0m\u001b[1;33m.\u001b[0m\u001b[0m_NotOkStatusException\u001b[0m \u001b[1;32mas\u001b[0m \u001b[0me\u001b[0m\u001b[1;33m:\u001b[0m\u001b[1;33m\u001b[0m\u001b[1;33m\u001b[0m\u001b[0m\n\u001b[0;32m     57\u001b[0m     \u001b[1;32mif\u001b[0m \u001b[0mname\u001b[0m \u001b[1;32mis\u001b[0m \u001b[1;32mnot\u001b[0m \u001b[1;32mNone\u001b[0m\u001b[1;33m:\u001b[0m\u001b[1;33m\u001b[0m\u001b[1;33m\u001b[0m\u001b[0m\n",
      "\u001b[1;31mKeyboardInterrupt\u001b[0m: "
     ]
    }
   ],
   "source": [
    "model = Model(inputs = input_net, outputs = output_net)\n",
    "\n",
    "initial_learning_rate =  0.01\n",
    "\n",
    "lr_schedule = tf.keras.optimizers.schedules.CosineDecayRestarts(\n",
    "    initial_learning_rate,\n",
    "    alpha = 0.000001,\n",
    "    m_mul=1.0,\n",
    "    first_decay_steps = 20)\n",
    "\n",
    "optimizer = tf.keras.optimizers.RMSprop(learning_rate=lr_schedule)\n",
    "\n",
    "log_dir = \"logs/fit/\" + datetime.datetime.now().strftime(\"%Y%m%d-%H%M%S\")\n",
    "tensorboard_callback = tf.keras.callbacks.TensorBoard(log_dir=log_dir, histogram_freq=1)\n",
    "\n",
    "model.compile(\n",
    "        optimizer=optimizer,\n",
    "        loss=keras.losses.SparseCategoricalCrossentropy(from_logits=False),\n",
    "        metrics=[\n",
    "            keras.metrics.SparseCategoricalAccuracy(name=\"accuracy\"),\n",
    "            keras.metrics.SparseTopKCategoricalAccuracy(5, name=\"top-5-accuracy\"),\n",
    "        ],\n",
    ")\n",
    "\n",
    "\n",
    "checkpoint_filepath = \"/tmp/checkpoint\"\n",
    "checkpoint_callback = keras.callbacks.ModelCheckpoint(\n",
    "    checkpoint_filepath,\n",
    "    monitor=\"val_accuracy\",\n",
    "    save_best_only=True,\n",
    "    save_weights_only=True,\n",
    ")\n",
    "\n",
    "batch_size = 256\n",
    "epochs = 200\n",
    "model.fit(x_train, y_train, batch_size=batch_size, epochs=epochs, validation_data=(x_test, y_test), callbacks=[tensorboard_callback])"
   ]
  },
  {
   "cell_type": "code",
   "execution_count": null,
   "metadata": {},
   "outputs": [
    {
     "name": "stderr",
     "output_type": "stream",
     "text": [
      "UsageError: Line magic function `%tensorboard` not found.\n"
     ]
    }
   ],
   "source": [
    "%tensorboard --logdir logs/fit"
   ]
  },
  {
   "cell_type": "code",
   "execution_count": null,
   "metadata": {},
   "outputs": [
    {
     "name": "stdout",
     "output_type": "stream",
     "text": [
      "1/1 [==============================] - 0s 490ms/step\n",
      "[59] 59\n",
      "(1, 32, 32, 16)\n",
      "[[-1.0555872  -1.0600044  -1.0584435  ... -1.0556914  -1.0551684\n",
      "  -1.0366008 ]\n",
      " [-1.0701905  -1.0555416  -1.0499995  ... -1.050111   -1.050959\n",
      "  -1.0412382 ]\n",
      " [-1.0687417  -1.0555279  -1.0523694  ... -1.0458878  -1.0475477\n",
      "  -1.0391608 ]\n",
      " ...\n",
      " [-0.88622683 -0.88193285 -0.8825614  ... -0.88899916 -0.89078826\n",
      "  -0.8950862 ]\n",
      " [-0.88863844 -0.883193   -0.8839291  ... -0.91899437 -0.92582685\n",
      "  -0.92752075]\n",
      " [-0.8975326  -0.89199173 -0.8912822  ... -0.9214062  -0.93508977\n",
      "  -0.9390587 ]]\n"
     ]
    },
    {
     "data": {
      "text/plain": [
       "<matplotlib.image.AxesImage at 0x256f2ffdc48>"
      ]
     },
     "execution_count": 7,
     "metadata": {},
     "output_type": "execute_result"
    },
    {
     "data": {
      "image/png": "[encoded data removed]",
      "text/plain": [
       "<Figure size 432x288 with 16 Axes>"
      ]
     },
     "metadata": {
      "needs_background": "light"
     },
     "output_type": "display_data"
    },
    {
     "data": {
      "image/png": "[encoded data removed]",
      "text/plain": [
       "<Figure size 432x288 with 1 Axes>"
      ]
     },
     "metadata": {
      "needs_background": "light"
     },
     "output_type": "display_data"
    }
   ],
   "source": [
    "get_layer_output = K.function([model.input], model.layers[1].output)\n",
    "\n",
    "n = 109\n",
    "\n",
    "X = np.expand_dims(x_test[n], axis=0)\n",
    "print(y_test[n], np.argmax(model.predict(X)))\n",
    "\n",
    "\n",
    "layer_out = np.array(get_layer_output([X]))\n",
    "print(layer_out.shape)\n",
    "\n",
    "print(layer_out[0, :,:, 0])\n",
    "fig, ax = plt.subplots(16)\n",
    "for i in range(16):\n",
    "    ax[i].imshow(layer_out[0, :,:, i],  cmap='gray')   \n",
    "\n",
    "plt.figure(2)  \n",
    "plt.imshow(x_test[n],  cmap='gray')   \n",
    "\n",
    " "
   ]
  },
  {
   "cell_type": "code",
   "execution_count": null,
   "metadata": {},
   "outputs": [
    {
     "ename": "NameError",
     "evalue": "name 'model' is not defined",
     "output_type": "error",
     "traceback": [
      "\u001b[1;31m---------------------------------------------------------------------------\u001b[0m",
      "\u001b[1;31mNameError\u001b[0m                                 Traceback (most recent call last)",
      "\u001b[1;32m~\\AppData\\Local\\Temp\\ipykernel_12884\\3066593953.py\u001b[0m in \u001b[0;36m<module>\u001b[1;34m\u001b[0m\n\u001b[1;32m----> 1\u001b[1;33m \u001b[0mmodel\u001b[0m\u001b[1;33m.\u001b[0m\u001b[0mlayers\u001b[0m\u001b[1;33m[\u001b[0m\u001b[1;36m4\u001b[0m\u001b[1;33m]\u001b[0m\u001b[1;33m.\u001b[0m\u001b[0mtrainable_variables\u001b[0m\u001b[1;33m[\u001b[0m\u001b[1;36m3\u001b[0m\u001b[1;33m]\u001b[0m\u001b[1;33m.\u001b[0m\u001b[0mname\u001b[0m\u001b[1;33m\u001b[0m\u001b[1;33m\u001b[0m\u001b[0m\n\u001b[0m",
      "\u001b[1;31mNameError\u001b[0m: name 'model' is not defined"
     ]
    }
   ],
   "source": [
    "model.layers[4].trainable_variables[3].name"
   ]
  },
  {
   "cell_type": "markdown",
   "metadata": {},
   "source": []
  },
  {
   "cell_type": "code",
   "execution_count": null,
   "metadata": {},
   "outputs": [
    {
     "data": {
      "text/plain": [
       "<tf.Variable 'sorted_conv2d/scale_sym:0' shape=() dtype=float32, numpy=-0.0684901>"
      ]
     },
     "execution_count": 9,
     "metadata": {},
     "output_type": "execute_result"
    }
   ],
   "source": [
    "model.layers[1].scale_s"
   ]
  },
  {
   "cell_type": "code",
   "execution_count": null,
   "metadata": {},
   "outputs": [
    {
     "data": {
      "text/plain": [
       "<tf.Tensor: shape=(3, 3), dtype=float32, numpy=\n",
       "array([[ 1.057311  , -0.15671223,  1.057311  ],\n",
       "       [-0.15671223, -0.23184319, -0.15671223],\n",
       "       [ 1.057311  , -0.15671223,  1.057311  ]], dtype=float32)>"
      ]
     },
     "execution_count": 10,
     "metadata": {},
     "output_type": "execute_result"
    }
   ],
   "source": [
    "model.layers[1].get_sym_filter(0,3) "
   ]
  },
  {
   "cell_type": "code",
   "execution_count": null,
   "metadata": {},
   "outputs": [],
   "source": []
  }
 ],
 "metadata": {
  "kernelspec": {
   "display_name": "Python 3.7.13 ('masters')",
   "language": "python",
   "name": "python3"
  },
  "language_info": {
   "codemirror_mode": {
    "name": "ipython",
    "version": 3
   },
   "file_extension": ".py",
   "mimetype": "text/x-python",
   "name": "python",
   "nbconvert_exporter": "python",
   "pygments_lexer": "ipython3",
   "version": "3.7.13"
  },
  "orig_nbformat": 4,
  "vscode": {
   "interpreter": {
    "hash": "4f2ff97d05f7ea74f9ad893ce0ef62de10b7e20c3f21fc0f5866920ae6ae88e7"
   }
  }
 },
 "nbformat": 4,
 "nbformat_minor": 2
}
