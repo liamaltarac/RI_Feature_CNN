{
 "cells": [
  {
   "cell_type": "code",
   "execution_count": 1,
   "metadata": {},
   "outputs": [],
   "source": [
    "import numpy as np\n",
    "import tensorflow as tf\n",
    "from tensorflow import keras\n",
    "\n",
    "from tensorflow.keras import layers\n",
    "\n",
    "from tensorflow.keras import backend as K\n",
    "from tensorflow.keras.layers import Input, Concatenate , Add, Dot, Activation, Lambda, BatchNormalization, LeakyReLU, Softmax, ReLU\n",
    "from tensorflow.keras.models import Model\n",
    "\n",
    "from tensorflow.image import flip_up_down, flip_left_right, rot90\n",
    "from tensorflow.linalg import normalize\n",
    "\n",
    "from tensorflow.keras.preprocessing.image import ImageDataGenerator\n",
    "\n",
    "import math\n",
    "\n",
    "import matplotlib.pyplot as plt\n",
    "import sys \n",
    "sys.path.append('..')\n",
    "from layers.sorted_filters import SortedConv2D\n",
    "\n",
    "import datetime\n"
   ]
  },
  {
   "cell_type": "code",
   "execution_count": 2,
   "metadata": {},
   "outputs": [
    {
     "name": "stdout",
     "output_type": "stream",
     "text": [
      "Num GPUs Available:  1\n",
      "2.9.1\n"
     ]
    }
   ],
   "source": [
    "from tensorflow.python.client import device_lib\n",
    "#tf.disable_v2_behavior()\n",
    "\n",
    "#print(device_lib.list_local_devices())\n",
    "print(\"Num GPUs Available: \", len(tf.config.list_physical_devices('GPU')))\n",
    "\n",
    "print(tf.__version__ )"
   ]
  },
  {
   "cell_type": "code",
   "execution_count": 3,
   "metadata": {},
   "outputs": [
    {
     "name": "stdout",
     "output_type": "stream",
     "text": [
      "Model: \"model\"\n",
      "_________________________________________________________________\n",
      " Layer (type)                Output Shape              Param #   \n",
      "=================================================================\n",
      " input_1 (InputLayer)        [(None, 32, 32, 3)]       0         \n",
      "                                                                 \n",
      " sorted_conv2d (SortedConv2D  (None, 32, 32, 32)       322       \n",
      " )                                                               \n",
      "                                                                 \n",
      " max_pooling2d (MaxPooling2D  (None, 16, 16, 32)       0         \n",
      " )                                                               \n",
      "                                                                 \n",
      " sorted_conv2d_1 (SortedConv  (None, 16, 16, 64)       6210      \n",
      " 2D)                                                             \n",
      "                                                                 \n",
      " max_pooling2d_1 (MaxPooling  (None, 8, 8, 64)         0         \n",
      " 2D)                                                             \n",
      "                                                                 \n",
      " sorted_conv2d_2 (SortedConv  (None, 8, 8, 128)        24706     \n",
      " 2D)                                                             \n",
      "                                                                 \n",
      " max_pooling2d_2 (MaxPooling  (None, 4, 4, 128)        0         \n",
      " 2D)                                                             \n",
      "                                                                 \n",
      " dropout (Dropout)           (None, 4, 4, 128)         0         \n",
      "                                                                 \n",
      " batch_normalization (BatchN  (None, 4, 4, 128)        512       \n",
      " ormalization)                                                   \n",
      "                                                                 \n",
      " flatten (Flatten)           (None, 2048)              0         \n",
      "                                                                 \n",
      " dense (Dense)               (None, 1000)              2049000   \n",
      "                                                                 \n",
      " batch_normalization_1 (Batc  (None, 1000)             4000      \n",
      " hNormalization)                                                 \n",
      "                                                                 \n",
      " dropout_1 (Dropout)         (None, 1000)              0         \n",
      "                                                                 \n",
      " dense_1 (Dense)             (None, 100)               100100    \n",
      "                                                                 \n",
      "=================================================================\n",
      "Total params: 2,184,850\n",
      "Trainable params: 2,182,594\n",
      "Non-trainable params: 2,256\n",
      "_________________________________________________________________\n"
     ]
    }
   ],
   "source": [
    "input_net = Input((32, 32, 3))\n",
    "\n",
    "y = SortedConv2D(filters=32,activation=LeakyReLU(alpha=0.1), padding='SAME')(input_net)\n",
    "y = layers.MaxPooling2D(pool_size=(2, 2))(y) \n",
    "#y = layers.Dropout(0.2)(y)\n",
    "#y = layers.BatchNormalization(axis=-1)(y)\n",
    "\n",
    "\n",
    "y = SortedConv2D(filters=64,activation=LeakyReLU(alpha=0.1), padding='SAME')(y)\n",
    "#y = SortedConv2D(filters=32,activation=LeakyReLU(alpha=0.1), padding='SAME')(y)\n",
    "y = layers.MaxPooling2D(pool_size=(2, 2))(y) \n",
    "#y = layers.Dropout(0.2)(y)\n",
    "#y = layers.BatchNormalization(axis=-1)(y)\n",
    "\n",
    "y = SortedConv2D(filters=128, activation=LeakyReLU(alpha=0.1), padding='SAME')(y)\n",
    "#y = SortedConv2D(filters=64, activation=LeakyReLU(alpha=0.1), padding='SAME')(y)\n",
    "#y = SortedConv2D(filters=64, activation=LeakyReLU(alpha=0.1), padding='SAME')(y)\n",
    "y = layers.MaxPooling2D(pool_size=(2, 2))(y) \n",
    "y = layers.Dropout(0.5)(y)\n",
    "y = layers.BatchNormalization(axis=-1)(y)\n",
    "\n",
    "y = layers.Flatten()(y)\n",
    "y = layers.Dense(1000, activation=ReLU())(y)\n",
    "y = layers.BatchNormalization(axis=-1)(y)\n",
    "y = layers.Dropout(0.5)(y)\n",
    "output_net  = layers.Dense(100, activation=Softmax())(y)\n",
    "\n",
    "model = Model(inputs = input_net, outputs = output_net)\n",
    "model.summary()"
   ]
  },
  {
   "cell_type": "code",
   "execution_count": 4,
   "metadata": {},
   "outputs": [
    {
     "name": "stdout",
     "output_type": "stream",
     "text": [
      "x_train shape: (50000, 32, 32, 3)\n",
      "50000 train samples\n",
      "10000 test samples\n"
     ]
    },
    {
     "data": {
      "text/plain": [
       "<matplotlib.image.AxesImage at 0x1a4db226588>"
      ]
     },
     "execution_count": 4,
     "metadata": {},
     "output_type": "execute_result"
    },
    {
     "data": {
      "image/png": "[encoded data removed]",
      "text/plain": [
       "<Figure size 432x288 with 1 Axes>"
      ]
     },
     "metadata": {
      "needs_background": "light"
     },
     "output_type": "display_data"
    }
   ],
   "source": [
    "num_classes = 100\n",
    "input_shape = (32, 32, 3)\n",
    "\n",
    "# Load the data and split it between train and test sets\n",
    "(x_train, y_train), (x_test, y_test) = keras.datasets.cifar100.load_data()\n",
    "\n",
    "\n",
    "\n",
    "# Scale images to the [0, 1] range\n",
    "x_train = x_train.astype(\"float32\") / 255\n",
    "x_test = x_test.astype(\"float32\") / 255\n",
    "# Make sure images have shape (28, 28, 1)\n",
    "#x_train = np.expand_dims(x_train, -1)\n",
    "#x_test = np.expand_dims(x_test, -1)\n",
    "print(\"x_train shape:\", x_train.shape)\n",
    "print(x_train.shape[0], \"train samples\")\n",
    "print(x_test.shape[0], \"test samples\")\n",
    "\n",
    "# convert class vectors to binary class matrices\n",
    "#y_train = keras.utils.to_categorical(y_train, num_classes)\n",
    "#y_test = keras.utils.to_categorical(y_test, num_classes)\n",
    "\n",
    "plt.imshow(x_train[0,:,:,:])"
   ]
  },
  {
   "cell_type": "code",
   "execution_count": 5,
   "metadata": {},
   "outputs": [
    {
     "name": "stdout",
     "output_type": "stream",
     "text": [
      "Epoch 1/100\n",
      "196/196 [==============================] - 14s 43ms/step - loss: 4.8989 - accuracy: 0.0457 - top-5-accuracy: 0.1592 - val_loss: 5.0951 - val_accuracy: 0.0499 - val_top-5-accuracy: 0.1736\n",
      "Epoch 2/100\n",
      "196/196 [==============================] - 7s 36ms/step - loss: 4.1489 - accuracy: 0.0772 - top-5-accuracy: 0.2401 - val_loss: 5.2840 - val_accuracy: 0.0509 - val_top-5-accuracy: 0.1630\n",
      "Epoch 3/100\n",
      "196/196 [==============================] - 7s 36ms/step - loss: 4.0093 - accuracy: 0.0939 - top-5-accuracy: 0.2745 - val_loss: 3.9100 - val_accuracy: 0.1109 - val_top-5-accuracy: 0.3131\n",
      "Epoch 4/100\n",
      "196/196 [==============================] - 8s 40ms/step - loss: 4.0274 - accuracy: 0.0873 - top-5-accuracy: 0.2682 - val_loss: 4.0650 - val_accuracy: 0.0893 - val_top-5-accuracy: 0.2593\n",
      "Epoch 5/100\n",
      "196/196 [==============================] - 8s 39ms/step - loss: 3.9767 - accuracy: 0.0944 - top-5-accuracy: 0.2872 - val_loss: 4.0941 - val_accuracy: 0.0889 - val_top-5-accuracy: 0.2753\n",
      "Epoch 6/100\n",
      "196/196 [==============================] - 8s 39ms/step - loss: 3.8869 - accuracy: 0.1084 - top-5-accuracy: 0.3108 - val_loss: 3.8040 - val_accuracy: 0.1341 - val_top-5-accuracy: 0.3494\n",
      "Epoch 7/100\n",
      "196/196 [==============================] - 7s 37ms/step - loss: 3.9313 - accuracy: 0.1044 - top-5-accuracy: 0.2967 - val_loss: 4.2982 - val_accuracy: 0.0921 - val_top-5-accuracy: 0.2556\n",
      "Epoch 8/100\n",
      "196/196 [==============================] - 7s 37ms/step - loss: 3.9616 - accuracy: 0.0988 - top-5-accuracy: 0.2881 - val_loss: 3.9587 - val_accuracy: 0.0959 - val_top-5-accuracy: 0.2859\n",
      "Epoch 9/100\n",
      "196/196 [==============================] - 7s 38ms/step - loss: 3.9185 - accuracy: 0.1016 - top-5-accuracy: 0.2985 - val_loss: 3.8485 - val_accuracy: 0.1076 - val_top-5-accuracy: 0.3116\n",
      "Epoch 10/100\n",
      "196/196 [==============================] - 7s 38ms/step - loss: 3.8679 - accuracy: 0.1113 - top-5-accuracy: 0.3154 - val_loss: 3.7747 - val_accuracy: 0.1256 - val_top-5-accuracy: 0.3401\n",
      "Epoch 11/100\n",
      "196/196 [==============================] - 7s 37ms/step - loss: 3.8155 - accuracy: 0.1198 - top-5-accuracy: 0.3288 - val_loss: 3.7491 - val_accuracy: 0.1438 - val_top-5-accuracy: 0.3647\n",
      "Epoch 12/100\n",
      "196/196 [==============================] - 7s 37ms/step - loss: 3.7746 - accuracy: 0.1270 - top-5-accuracy: 0.3419 - val_loss: 3.7063 - val_accuracy: 0.1521 - val_top-5-accuracy: 0.3769\n",
      "Epoch 13/100\n",
      "196/196 [==============================] - 8s 43ms/step - loss: 3.7566 - accuracy: 0.1291 - top-5-accuracy: 0.3470 - val_loss: 4.0821 - val_accuracy: 0.1011 - val_top-5-accuracy: 0.3027\n",
      "Epoch 14/100\n",
      "196/196 [==============================] - 8s 38ms/step - loss: 3.8971 - accuracy: 0.1058 - top-5-accuracy: 0.3043 - val_loss: 4.0686 - val_accuracy: 0.0895 - val_top-5-accuracy: 0.2634\n",
      "Epoch 15/100\n",
      "196/196 [==============================] - 7s 37ms/step - loss: 3.8730 - accuracy: 0.1085 - top-5-accuracy: 0.3128 - val_loss: 3.8572 - val_accuracy: 0.1068 - val_top-5-accuracy: 0.3210\n",
      "Epoch 16/100\n",
      "196/196 [==============================] - 7s 36ms/step - loss: 3.8491 - accuracy: 0.1122 - top-5-accuracy: 0.3200 - val_loss: 11.3400 - val_accuracy: 0.0339 - val_top-5-accuracy: 0.1464\n",
      "Epoch 17/100\n",
      "196/196 [==============================] - 8s 41ms/step - loss: 3.8149 - accuracy: 0.1186 - top-5-accuracy: 0.3296 - val_loss: 3.9712 - val_accuracy: 0.1039 - val_top-5-accuracy: 0.2804\n",
      "Epoch 18/100\n",
      "196/196 [==============================] - 7s 37ms/step - loss: 3.7254 - accuracy: 0.1316 - top-5-accuracy: 0.3532 - val_loss: 3.9116 - val_accuracy: 0.0954 - val_top-5-accuracy: 0.2851\n",
      "Epoch 19/100\n",
      "196/196 [==============================] - 7s 37ms/step - loss: 3.6138 - accuracy: 0.1509 - top-5-accuracy: 0.3911 - val_loss: 3.4917 - val_accuracy: 0.1710 - val_top-5-accuracy: 0.4170\n",
      "Epoch 20/100\n",
      "196/196 [==============================] - 7s 36ms/step - loss: 3.5298 - accuracy: 0.1676 - top-5-accuracy: 0.4166 - val_loss: 3.4963 - val_accuracy: 0.1810 - val_top-5-accuracy: 0.4324\n",
      "Epoch 21/100\n",
      "196/196 [==============================] - 7s 37ms/step - loss: 3.4656 - accuracy: 0.1782 - top-5-accuracy: 0.4339 - val_loss: 3.3502 - val_accuracy: 0.2062 - val_top-5-accuracy: 0.4708\n",
      "Epoch 22/100\n",
      "196/196 [==============================] - 7s 38ms/step - loss: 3.4114 - accuracy: 0.1893 - top-5-accuracy: 0.4492 - val_loss: 3.2677 - val_accuracy: 0.2227 - val_top-5-accuracy: 0.4940\n",
      "Epoch 23/100\n",
      "196/196 [==============================] - 7s 36ms/step - loss: 3.3693 - accuracy: 0.1949 - top-5-accuracy: 0.4606 - val_loss: 3.2293 - val_accuracy: 0.2315 - val_top-5-accuracy: 0.5100\n",
      "Epoch 24/100\n",
      "196/196 [==============================] - 7s 36ms/step - loss: 3.3424 - accuracy: 0.2053 - top-5-accuracy: 0.4665 - val_loss: 3.1964 - val_accuracy: 0.2341 - val_top-5-accuracy: 0.5165\n",
      "Epoch 25/100\n",
      "196/196 [==============================] - 7s 37ms/step - loss: 3.3263 - accuracy: 0.2070 - top-5-accuracy: 0.4710 - val_loss: 3.1835 - val_accuracy: 0.2369 - val_top-5-accuracy: 0.5205\n",
      "Epoch 26/100\n",
      "196/196 [==============================] - 8s 39ms/step - loss: 3.3191 - accuracy: 0.2067 - top-5-accuracy: 0.4744 - val_loss: 3.1788 - val_accuracy: 0.2376 - val_top-5-accuracy: 0.5203\n",
      "Epoch 27/100\n",
      "196/196 [==============================] - 7s 38ms/step - loss: 3.4503 - accuracy: 0.1819 - top-5-accuracy: 0.4400 - val_loss: 3.4023 - val_accuracy: 0.1915 - val_top-5-accuracy: 0.4552\n",
      "Epoch 28/100\n",
      "196/196 [==============================] - 7s 37ms/step - loss: 3.3912 - accuracy: 0.1919 - top-5-accuracy: 0.4576 - val_loss: 3.4721 - val_accuracy: 0.1870 - val_top-5-accuracy: 0.4518\n",
      "Epoch 29/100\n",
      "196/196 [==============================] - 7s 37ms/step - loss: 3.3523 - accuracy: 0.2016 - top-5-accuracy: 0.4750 - val_loss: 3.5085 - val_accuracy: 0.1934 - val_top-5-accuracy: 0.4401\n",
      "Epoch 30/100\n",
      "196/196 [==============================] - 7s 38ms/step - loss: 3.2646 - accuracy: 0.2133 - top-5-accuracy: 0.4902 - val_loss: 3.2429 - val_accuracy: 0.2167 - val_top-5-accuracy: 0.5063\n",
      "Epoch 31/100\n",
      "196/196 [==============================] - 7s 37ms/step - loss: 3.1747 - accuracy: 0.2291 - top-5-accuracy: 0.5146 - val_loss: 3.1755 - val_accuracy: 0.2385 - val_top-5-accuracy: 0.5252\n",
      "Epoch 32/100\n",
      "196/196 [==============================] - 8s 40ms/step - loss: 3.1347 - accuracy: 0.2388 - top-5-accuracy: 0.5279 - val_loss: 3.2358 - val_accuracy: 0.2522 - val_top-5-accuracy: 0.5410\n",
      "Epoch 33/100\n",
      "196/196 [==============================] - 7s 38ms/step - loss: 3.0697 - accuracy: 0.2473 - top-5-accuracy: 0.5401 - val_loss: 3.0017 - val_accuracy: 0.2545 - val_top-5-accuracy: 0.5452\n",
      "Epoch 34/100\n",
      "196/196 [==============================] - 7s 36ms/step - loss: 3.0065 - accuracy: 0.2604 - top-5-accuracy: 0.5541 - val_loss: 3.0054 - val_accuracy: 0.2613 - val_top-5-accuracy: 0.5490\n",
      "Epoch 35/100\n",
      "196/196 [==============================] - 7s 36ms/step - loss: 2.9616 - accuracy: 0.2699 - top-5-accuracy: 0.5666 - val_loss: 2.8803 - val_accuracy: 0.2916 - val_top-5-accuracy: 0.5837\n",
      "Epoch 36/100\n",
      "196/196 [==============================] - 7s 35ms/step - loss: 2.9137 - accuracy: 0.2788 - top-5-accuracy: 0.5791 - val_loss: 2.8164 - val_accuracy: 0.3033 - val_top-5-accuracy: 0.5965\n",
      "Epoch 37/100\n",
      "196/196 [==============================] - 7s 37ms/step - loss: 2.8704 - accuracy: 0.2871 - top-5-accuracy: 0.5888 - val_loss: 2.7643 - val_accuracy: 0.3102 - val_top-5-accuracy: 0.6105\n",
      "Epoch 38/100\n",
      "196/196 [==============================] - 7s 36ms/step - loss: 2.8169 - accuracy: 0.2981 - top-5-accuracy: 0.5988 - val_loss: 2.7189 - val_accuracy: 0.3251 - val_top-5-accuracy: 0.6155\n",
      "Epoch 39/100\n",
      "196/196 [==============================] - 7s 37ms/step - loss: 2.7810 - accuracy: 0.3051 - top-5-accuracy: 0.6086 - val_loss: 2.6592 - val_accuracy: 0.3404 - val_top-5-accuracy: 0.6323\n",
      "Epoch 40/100\n",
      "196/196 [==============================] - 7s 34ms/step - loss: 2.7430 - accuracy: 0.3103 - top-5-accuracy: 0.6177 - val_loss: 2.5941 - val_accuracy: 0.3561 - val_top-5-accuracy: 0.6559\n",
      "Epoch 41/100\n",
      "196/196 [==============================] - 7s 36ms/step - loss: 2.7115 - accuracy: 0.3181 - top-5-accuracy: 0.6250 - val_loss: 2.5777 - val_accuracy: 0.3622 - val_top-5-accuracy: 0.6551\n",
      "Epoch 42/100\n",
      "196/196 [==============================] - 7s 35ms/step - loss: 2.6841 - accuracy: 0.3246 - top-5-accuracy: 0.6299 - val_loss: 2.5781 - val_accuracy: 0.3619 - val_top-5-accuracy: 0.6549\n",
      "Epoch 43/100\n",
      "196/196 [==============================] - 7s 35ms/step - loss: 2.6451 - accuracy: 0.3332 - top-5-accuracy: 0.6392 - val_loss: 2.5726 - val_accuracy: 0.3566 - val_top-5-accuracy: 0.6555\n",
      "Epoch 44/100\n",
      "196/196 [==============================] - 7s 38ms/step - loss: 2.6196 - accuracy: 0.3368 - top-5-accuracy: 0.6469 - val_loss: 2.5204 - val_accuracy: 0.3691 - val_top-5-accuracy: 0.6659\n",
      "Epoch 45/100\n",
      "196/196 [==============================] - 7s 36ms/step - loss: 2.6003 - accuracy: 0.3430 - top-5-accuracy: 0.6484 - val_loss: 2.4540 - val_accuracy: 0.3879 - val_top-5-accuracy: 0.6817\n",
      "Epoch 46/100\n",
      "196/196 [==============================] - 7s 34ms/step - loss: 2.5796 - accuracy: 0.3432 - top-5-accuracy: 0.6518 - val_loss: 2.4652 - val_accuracy: 0.3855 - val_top-5-accuracy: 0.6784\n",
      "Epoch 47/100\n",
      "196/196 [==============================] - 7s 34ms/step - loss: 2.5685 - accuracy: 0.3495 - top-5-accuracy: 0.6574 - val_loss: 2.4484 - val_accuracy: 0.3861 - val_top-5-accuracy: 0.6837\n",
      "Epoch 48/100\n",
      "196/196 [==============================] - 7s 35ms/step - loss: 2.5509 - accuracy: 0.3536 - top-5-accuracy: 0.6594 - val_loss: 2.4263 - val_accuracy: 0.3920 - val_top-5-accuracy: 0.6894\n",
      "Epoch 49/100\n",
      "196/196 [==============================] - 7s 34ms/step - loss: 2.5397 - accuracy: 0.3556 - top-5-accuracy: 0.6611 - val_loss: 2.4172 - val_accuracy: 0.3962 - val_top-5-accuracy: 0.6917\n",
      "Epoch 50/100\n",
      "196/196 [==============================] - 7s 34ms/step - loss: 2.5387 - accuracy: 0.3530 - top-5-accuracy: 0.6614 - val_loss: 2.4073 - val_accuracy: 0.3952 - val_top-5-accuracy: 0.6934\n",
      "Epoch 51/100\n",
      "196/196 [==============================] - 7s 34ms/step - loss: 2.5314 - accuracy: 0.3556 - top-5-accuracy: 0.6641 - val_loss: 2.4098 - val_accuracy: 0.3938 - val_top-5-accuracy: 0.6929\n",
      "Epoch 52/100\n",
      "196/196 [==============================] - 7s 34ms/step - loss: 2.5327 - accuracy: 0.3562 - top-5-accuracy: 0.6644 - val_loss: 2.4132 - val_accuracy: 0.3946 - val_top-5-accuracy: 0.6936\n",
      "Epoch 53/100\n",
      "196/196 [==============================] - 7s 34ms/step - loss: 2.7111 - accuracy: 0.3182 - top-5-accuracy: 0.6249 - val_loss: 2.7806 - val_accuracy: 0.3110 - val_top-5-accuracy: 0.6051\n",
      "Epoch 54/100\n",
      "196/196 [==============================] - 7s 36ms/step - loss: 2.7457 - accuracy: 0.3121 - top-5-accuracy: 0.6190 - val_loss: 3.0989 - val_accuracy: 0.2816 - val_top-5-accuracy: 0.5707\n",
      "Epoch 55/100\n",
      "196/196 [==============================] - 7s 36ms/step - loss: 2.7264 - accuracy: 0.3143 - top-5-accuracy: 0.6220 - val_loss: 2.6456 - val_accuracy: 0.3384 - val_top-5-accuracy: 0.6419\n",
      "Epoch 56/100\n",
      "196/196 [==============================] - 7s 38ms/step - loss: 2.6994 - accuracy: 0.3184 - top-5-accuracy: 0.6281 - val_loss: 2.5934 - val_accuracy: 0.3524 - val_top-5-accuracy: 0.6467\n",
      "Epoch 57/100\n",
      "196/196 [==============================] - 7s 38ms/step - loss: 2.6745 - accuracy: 0.3242 - top-5-accuracy: 0.6357 - val_loss: 2.7301 - val_accuracy: 0.3278 - val_top-5-accuracy: 0.6189\n",
      "Epoch 58/100\n",
      "196/196 [==============================] - 7s 37ms/step - loss: 2.6330 - accuracy: 0.3300 - top-5-accuracy: 0.6449 - val_loss: 3.3159 - val_accuracy: 0.2573 - val_top-5-accuracy: 0.4976\n",
      "Epoch 59/100\n",
      "196/196 [==============================] - 7s 37ms/step - loss: 2.6061 - accuracy: 0.3371 - top-5-accuracy: 0.6489 - val_loss: 2.8245 - val_accuracy: 0.3156 - val_top-5-accuracy: 0.6081\n",
      "Epoch 60/100\n",
      "196/196 [==============================] - 7s 38ms/step - loss: 2.6017 - accuracy: 0.3402 - top-5-accuracy: 0.6535 - val_loss: 3.0759 - val_accuracy: 0.2612 - val_top-5-accuracy: 0.5497\n",
      "Epoch 61/100\n",
      "196/196 [==============================] - 7s 38ms/step - loss: 2.6038 - accuracy: 0.3426 - top-5-accuracy: 0.6540 - val_loss: 2.5703 - val_accuracy: 0.3536 - val_top-5-accuracy: 0.6524\n",
      "Epoch 62/100\n",
      "196/196 [==============================] - 7s 36ms/step - loss: 2.5610 - accuracy: 0.3496 - top-5-accuracy: 0.6604 - val_loss: 3.0832 - val_accuracy: 0.3025 - val_top-5-accuracy: 0.5956\n",
      "Epoch 63/100\n",
      "196/196 [==============================] - 7s 38ms/step - loss: 2.5329 - accuracy: 0.3503 - top-5-accuracy: 0.6671 - val_loss: 2.5309 - val_accuracy: 0.3673 - val_top-5-accuracy: 0.6661\n",
      "Epoch 64/100\n",
      "196/196 [==============================] - 7s 36ms/step - loss: 2.5058 - accuracy: 0.3581 - top-5-accuracy: 0.6708 - val_loss: 3.9257 - val_accuracy: 0.2429 - val_top-5-accuracy: 0.5187\n",
      "Epoch 65/100\n",
      "196/196 [==============================] - 7s 36ms/step - loss: 2.4943 - accuracy: 0.3607 - top-5-accuracy: 0.6759 - val_loss: 2.4392 - val_accuracy: 0.3781 - val_top-5-accuracy: 0.6833\n",
      "Epoch 66/100\n",
      "196/196 [==============================] - 7s 37ms/step - loss: 2.4573 - accuracy: 0.3701 - top-5-accuracy: 0.6807 - val_loss: 2.5408 - val_accuracy: 0.3543 - val_top-5-accuracy: 0.6537\n",
      "Epoch 67/100\n",
      "196/196 [==============================] - 7s 36ms/step - loss: 2.4400 - accuracy: 0.3717 - top-5-accuracy: 0.6868 - val_loss: 2.5782 - val_accuracy: 0.3522 - val_top-5-accuracy: 0.6563\n",
      "Epoch 68/100\n",
      "196/196 [==============================] - 7s 36ms/step - loss: 2.4116 - accuracy: 0.3762 - top-5-accuracy: 0.6891 - val_loss: 2.4019 - val_accuracy: 0.3902 - val_top-5-accuracy: 0.6916\n",
      "Epoch 69/100\n",
      "196/196 [==============================] - 7s 36ms/step - loss: 2.3982 - accuracy: 0.3842 - top-5-accuracy: 0.6945 - val_loss: 2.6305 - val_accuracy: 0.3745 - val_top-5-accuracy: 0.6611\n",
      "Epoch 70/100\n",
      "196/196 [==============================] - 7s 36ms/step - loss: 2.3797 - accuracy: 0.3838 - top-5-accuracy: 0.6971 - val_loss: 2.5603 - val_accuracy: 0.3614 - val_top-5-accuracy: 0.6479\n",
      "Epoch 71/100\n",
      "196/196 [==============================] - 7s 36ms/step - loss: 2.3584 - accuracy: 0.3875 - top-5-accuracy: 0.7016 - val_loss: 2.4177 - val_accuracy: 0.3906 - val_top-5-accuracy: 0.6973\n",
      "Epoch 72/100\n",
      "196/196 [==============================] - 7s 38ms/step - loss: 2.3404 - accuracy: 0.3919 - top-5-accuracy: 0.7074 - val_loss: 2.5462 - val_accuracy: 0.3633 - val_top-5-accuracy: 0.6510\n",
      "Epoch 73/100\n",
      "196/196 [==============================] - 8s 39ms/step - loss: 2.3212 - accuracy: 0.3987 - top-5-accuracy: 0.7094 - val_loss: 2.5858 - val_accuracy: 0.3619 - val_top-5-accuracy: 0.6557\n",
      "Epoch 74/100\n",
      "196/196 [==============================] - 7s 37ms/step - loss: 2.2943 - accuracy: 0.4021 - top-5-accuracy: 0.7149 - val_loss: 2.2983 - val_accuracy: 0.4095 - val_top-5-accuracy: 0.7091\n",
      "Epoch 75/100\n",
      "196/196 [==============================] - 8s 39ms/step - loss: 2.2839 - accuracy: 0.4045 - top-5-accuracy: 0.7191 - val_loss: 2.3862 - val_accuracy: 0.4010 - val_top-5-accuracy: 0.6862\n",
      "Epoch 76/100\n",
      "196/196 [==============================] - 7s 36ms/step - loss: 2.2612 - accuracy: 0.4122 - top-5-accuracy: 0.7207 - val_loss: 2.3225 - val_accuracy: 0.4056 - val_top-5-accuracy: 0.7086\n",
      "Epoch 77/100\n",
      "196/196 [==============================] - 7s 37ms/step - loss: 2.2503 - accuracy: 0.4124 - top-5-accuracy: 0.7246 - val_loss: 2.2631 - val_accuracy: 0.4204 - val_top-5-accuracy: 0.7197\n",
      "Epoch 78/100\n",
      "196/196 [==============================] - 7s 37ms/step - loss: 2.2243 - accuracy: 0.4174 - top-5-accuracy: 0.7287 - val_loss: 2.1858 - val_accuracy: 0.4326 - val_top-5-accuracy: 0.7322\n",
      "Epoch 79/100\n",
      "196/196 [==============================] - 8s 41ms/step - loss: 2.2091 - accuracy: 0.4218 - top-5-accuracy: 0.7321 - val_loss: 2.2459 - val_accuracy: 0.4239 - val_top-5-accuracy: 0.7267\n",
      "Epoch 80/100\n",
      "196/196 [==============================] - 8s 40ms/step - loss: 2.1949 - accuracy: 0.4251 - top-5-accuracy: 0.7364 - val_loss: 2.2468 - val_accuracy: 0.4237 - val_top-5-accuracy: 0.7236\n",
      "Epoch 81/100\n",
      "196/196 [==============================] - 7s 37ms/step - loss: 2.1828 - accuracy: 0.4269 - top-5-accuracy: 0.7374 - val_loss: 2.2566 - val_accuracy: 0.4192 - val_top-5-accuracy: 0.7160\n",
      "Epoch 82/100\n",
      "196/196 [==============================] - 7s 38ms/step - loss: 2.1691 - accuracy: 0.4288 - top-5-accuracy: 0.7399 - val_loss: 2.1668 - val_accuracy: 0.4409 - val_top-5-accuracy: 0.7387\n",
      "Epoch 83/100\n",
      "196/196 [==============================] - 7s 38ms/step - loss: 2.1505 - accuracy: 0.4339 - top-5-accuracy: 0.7432 - val_loss: 2.3144 - val_accuracy: 0.4184 - val_top-5-accuracy: 0.7128\n",
      "Epoch 84/100\n",
      "196/196 [==============================] - 7s 38ms/step - loss: 2.1445 - accuracy: 0.4342 - top-5-accuracy: 0.7439 - val_loss: 2.1568 - val_accuracy: 0.4392 - val_top-5-accuracy: 0.7382\n",
      "Epoch 85/100\n",
      "196/196 [==============================] - 8s 39ms/step - loss: 2.1223 - accuracy: 0.4409 - top-5-accuracy: 0.7487 - val_loss: 2.2107 - val_accuracy: 0.4319 - val_top-5-accuracy: 0.7304\n",
      "Epoch 86/100\n",
      "196/196 [==============================] - 7s 38ms/step - loss: 2.1151 - accuracy: 0.4450 - top-5-accuracy: 0.7514 - val_loss: 2.1270 - val_accuracy: 0.4469 - val_top-5-accuracy: 0.7459\n",
      "Epoch 87/100\n",
      "196/196 [==============================] - 7s 38ms/step - loss: 2.0852 - accuracy: 0.4487 - top-5-accuracy: 0.7580 - val_loss: 2.1458 - val_accuracy: 0.4434 - val_top-5-accuracy: 0.7428\n",
      "Epoch 88/100\n",
      "196/196 [==============================] - 8s 39ms/step - loss: 2.0852 - accuracy: 0.4522 - top-5-accuracy: 0.7570 - val_loss: 2.1120 - val_accuracy: 0.4502 - val_top-5-accuracy: 0.7494\n",
      "Epoch 89/100\n",
      "196/196 [==============================] - 8s 40ms/step - loss: 2.0794 - accuracy: 0.4501 - top-5-accuracy: 0.7602 - val_loss: 2.1763 - val_accuracy: 0.4410 - val_top-5-accuracy: 0.7396\n",
      "Epoch 90/100\n",
      "196/196 [==============================] - 8s 39ms/step - loss: 2.0594 - accuracy: 0.4551 - top-5-accuracy: 0.7612 - val_loss: 2.1000 - val_accuracy: 0.4534 - val_top-5-accuracy: 0.7512\n",
      "Epoch 91/100\n",
      "196/196 [==============================] - 8s 40ms/step - loss: 2.0555 - accuracy: 0.4559 - top-5-accuracy: 0.7638 - val_loss: 2.1015 - val_accuracy: 0.4578 - val_top-5-accuracy: 0.7546\n",
      "Epoch 92/100\n",
      "196/196 [==============================] - 8s 40ms/step - loss: 2.0415 - accuracy: 0.4570 - top-5-accuracy: 0.7677 - val_loss: 2.0840 - val_accuracy: 0.4607 - val_top-5-accuracy: 0.7525\n",
      "Epoch 93/100\n",
      "196/196 [==============================] - 8s 40ms/step - loss: 2.0411 - accuracy: 0.4574 - top-5-accuracy: 0.7641 - val_loss: 2.0669 - val_accuracy: 0.4569 - val_top-5-accuracy: 0.7564\n",
      "Epoch 94/100\n",
      "196/196 [==============================] - 7s 38ms/step - loss: 2.0308 - accuracy: 0.4614 - top-5-accuracy: 0.7674 - val_loss: 2.0682 - val_accuracy: 0.4595 - val_top-5-accuracy: 0.7578\n",
      "Epoch 95/100\n",
      "196/196 [==============================] - 7s 36ms/step - loss: 2.0313 - accuracy: 0.4589 - top-5-accuracy: 0.7668 - val_loss: 2.0635 - val_accuracy: 0.4611 - val_top-5-accuracy: 0.7578\n",
      "Epoch 96/100\n",
      "196/196 [==============================] - 7s 36ms/step - loss: 2.0195 - accuracy: 0.4610 - top-5-accuracy: 0.7700 - val_loss: 2.0605 - val_accuracy: 0.4608 - val_top-5-accuracy: 0.7603\n",
      "Epoch 97/100\n",
      "196/196 [==============================] - 7s 36ms/step - loss: 2.0192 - accuracy: 0.4631 - top-5-accuracy: 0.7682 - val_loss: 2.0641 - val_accuracy: 0.4648 - val_top-5-accuracy: 0.7595\n",
      "Epoch 98/100\n",
      "196/196 [==============================] - 7s 36ms/step - loss: 2.0073 - accuracy: 0.4660 - top-5-accuracy: 0.7718 - val_loss: 2.0562 - val_accuracy: 0.4645 - val_top-5-accuracy: 0.7592\n",
      "Epoch 99/100\n",
      "196/196 [==============================] - 7s 36ms/step - loss: 2.0051 - accuracy: 0.4661 - top-5-accuracy: 0.7710 - val_loss: 2.0588 - val_accuracy: 0.4646 - val_top-5-accuracy: 0.7608\n",
      "Epoch 100/100\n",
      "196/196 [==============================] - 7s 36ms/step - loss: 2.0037 - accuracy: 0.4671 - top-5-accuracy: 0.7724 - val_loss: 2.0542 - val_accuracy: 0.4641 - val_top-5-accuracy: 0.7599\n"
     ]
    },
    {
     "data": {
      "text/plain": [
       "<keras.callbacks.History at 0x1a4ec0a9188>"
      ]
     },
     "execution_count": 5,
     "metadata": {},
     "output_type": "execute_result"
    }
   ],
   "source": [
    "model = Model(inputs = input_net, outputs = output_net)\n",
    "\n",
    "initial_learning_rate =  0.01\n",
    "\n",
    "lr_schedule = tf.keras.optimizers.schedules.CosineDecayRestarts(\n",
    "    initial_learning_rate,\n",
    "    alpha = 1e-6,\n",
    "    m_mul=0.999,\n",
    "    first_decay_steps = 20)\n",
    "\n",
    "optimizer = tf.keras.optimizers.RMSprop(learning_rate=lr_schedule)\n",
    "\n",
    "log_dir = \"logs/fit/\" + datetime.datetime.now().strftime(\"%Y%m%d-%H%M%S\")\n",
    "tensorboard_callback = tf.keras.callbacks.TensorBoard(log_dir=log_dir, histogram_freq=1)\n",
    "\n",
    "model.compile(\n",
    "        optimizer=optimizer,\n",
    "        loss=keras.losses.SparseCategoricalCrossentropy(from_logits=False),\n",
    "        metrics=[\n",
    "            keras.metrics.SparseCategoricalAccuracy(name=\"accuracy\"),\n",
    "            keras.metrics.SparseTopKCategoricalAccuracy(5, name=\"top-5-accuracy\"),\n",
    "        ],\n",
    ")\n",
    "\n",
    "\n",
    "checkpoint_filepath = \"/tmp/checkpoint\"\n",
    "checkpoint_callback = keras.callbacks.ModelCheckpoint(\n",
    "    checkpoint_filepath,\n",
    "    monitor=\"val_accuracy\",\n",
    "    save_best_only=True,\n",
    "    save_weights_only=True,\n",
    ")\n",
    "\n",
    "batch_size = 200\n",
    "epochs = 100\n",
    "model.fit(x_train, y_train, batch_size=batch_size, epochs=epochs, validation_data=(x_test, y_test), callbacks=[tensorboard_callback])"
   ]
  },
  {
   "cell_type": "code",
   "execution_count": 6,
   "metadata": {},
   "outputs": [
    {
     "name": "stderr",
     "output_type": "stream",
     "text": [
      "UsageError: Line magic function `%tensorboard` not found.\n"
     ]
    }
   ],
   "source": [
    "%tensorboard --logdir logs/fit"
   ]
  },
  {
   "cell_type": "code",
   "execution_count": 7,
   "metadata": {},
   "outputs": [
    {
     "name": "stdout",
     "output_type": "stream",
     "text": [
      "1/1 [==============================] - 0s 393ms/step\n",
      "[59] 59\n",
      "(1, 32, 32, 32)\n",
      "[[-1.3794416e+00 -8.2113139e-02  1.4841726e-01 ...  1.1873990e+00\n",
      "   1.3608999e+00  1.5951307e+01]\n",
      " [-2.0763617e+00 -1.4845617e-01  1.5779504e-01 ...  1.7994130e+00\n",
      "   2.0685401e+00  2.3921431e+01]\n",
      " [-2.1044247e+00 -1.7797734e-01  3.6411235e-01 ...  1.8074435e+00\n",
      "   2.1119223e+00  2.4060289e+01]\n",
      " ...\n",
      " [-1.1623683e-01 -2.5079792e-02 -1.2935462e-02 ...  1.5926211e-01\n",
      "   2.7487326e-01  1.7619323e+00]\n",
      " [-1.0491550e-01 -2.0203495e-02 -8.1812060e-03 ...  1.5879744e-01\n",
      "   1.3716942e-01  1.6274978e+00]\n",
      " [-6.4651750e-02 -1.1729865e-02 -1.8704087e-03 ...  1.1182850e-01\n",
      "   5.2640572e-02  1.1241606e+00]]\n"
     ]
    },
    {
     "data": {
      "text/plain": [
       "<matplotlib.image.AxesImage at 0x1a6723e2fc8>"
      ]
     },
     "execution_count": 7,
     "metadata": {},
     "output_type": "execute_result"
    },
    {
     "data": {
      "image/png": "[encoded data removed]",
      "text/plain": [
       "<Figure size 432x288 with 16 Axes>"
      ]
     },
     "metadata": {
      "needs_background": "light"
     },
     "output_type": "display_data"
    },
    {
     "data": {
      "image/png": "[encoded data removed]",
      "text/plain": [
       "<Figure size 432x288 with 1 Axes>"
      ]
     },
     "metadata": {
      "needs_background": "light"
     },
     "output_type": "display_data"
    }
   ],
   "source": [
    "get_layer_output = K.function([model.input], model.layers[1].output)\n",
    "\n",
    "n = 109\n",
    "\n",
    "X = np.expand_dims(x_test[n], axis=0)\n",
    "print(y_test[n], np.argmax(model.predict(X)))\n",
    "\n",
    "\n",
    "layer_out = np.array(get_layer_output([X]))\n",
    "print(layer_out.shape)\n",
    "\n",
    "print(layer_out[0, :,:, 0])\n",
    "fig, ax = plt.subplots(16)\n",
    "for i in range(16):\n",
    "    ax[i].imshow(layer_out[0, :,:, i],  cmap='gray')   \n",
    "\n",
    "plt.figure(2)  \n",
    "plt.imshow(x_test[n],  cmap='gray')   \n",
    "\n",
    " "
   ]
  },
  {
   "cell_type": "code",
   "execution_count": 8,
   "metadata": {},
   "outputs": [
    {
     "ename": "IndexError",
     "evalue": "list index out of range",
     "output_type": "error",
     "traceback": [
      "\u001b[1;31m---------------------------------------------------------------------------\u001b[0m",
      "\u001b[1;31mIndexError\u001b[0m                                Traceback (most recent call last)",
      "\u001b[1;32m~\\AppData\\Local\\Temp\\ipykernel_1692\\3066593953.py\u001b[0m in \u001b[0;36m<module>\u001b[1;34m\u001b[0m\n\u001b[1;32m----> 1\u001b[1;33m \u001b[0mmodel\u001b[0m\u001b[1;33m.\u001b[0m\u001b[0mlayers\u001b[0m\u001b[1;33m[\u001b[0m\u001b[1;36m4\u001b[0m\u001b[1;33m]\u001b[0m\u001b[1;33m.\u001b[0m\u001b[0mtrainable_variables\u001b[0m\u001b[1;33m[\u001b[0m\u001b[1;36m3\u001b[0m\u001b[1;33m]\u001b[0m\u001b[1;33m.\u001b[0m\u001b[0mname\u001b[0m\u001b[1;33m\u001b[0m\u001b[1;33m\u001b[0m\u001b[0m\n\u001b[0m",
      "\u001b[1;31mIndexError\u001b[0m: list index out of range"
     ]
    }
   ],
   "source": [
    "model.layers[4].trainable_variables[3].name"
   ]
  },
  {
   "cell_type": "markdown",
   "metadata": {},
   "source": []
  },
  {
   "cell_type": "code",
   "execution_count": null,
   "metadata": {},
   "outputs": [
    {
     "data": {
      "text/plain": [
       "<tf.Variable 'sorted_conv2d/gain:0' shape=(16,) dtype=float32, numpy=\n",
       "array([ 0.11939116,  0.05609927, -0.06869635,  0.20617014,  0.4875158 ,\n",
       "        1.3473631 , -0.2961605 ,  0.7719101 ,  1.1405659 ,  0.5420837 ,\n",
       "        1.0014944 ,  0.07880694,  0.03514984,  0.71787316,  0.04205557,\n",
       "        0.33719826], dtype=float32)>"
      ]
     },
     "execution_count": 10,
     "metadata": {},
     "output_type": "execute_result"
    }
   ],
   "source": [
    "model.layers[1].gain"
   ]
  },
  {
   "cell_type": "code",
   "execution_count": null,
   "metadata": {},
   "outputs": [
    {
     "data": {
      "text/plain": [
       "<tf.Variable 'sorted_conv2d_2/scale_asym:0' shape=() dtype=float32, numpy=-0.16710012>"
      ]
     },
     "execution_count": 14,
     "metadata": {},
     "output_type": "execute_result"
    }
   ],
   "source": [
    "model.layers[5].scale_a"
   ]
  },
  {
   "cell_type": "code",
   "execution_count": null,
   "metadata": {},
   "outputs": [],
   "source": []
  }
 ],
 "metadata": {
  "kernelspec": {
   "display_name": "Python 3.7.13 ('masters')",
   "language": "python",
   "name": "python3"
  },
  "language_info": {
   "codemirror_mode": {
    "name": "ipython",
    "version": 3
   },
   "file_extension": ".py",
   "mimetype": "text/x-python",
   "name": "python",
   "nbconvert_exporter": "python",
   "pygments_lexer": "ipython3",
   "version": "3.7.13"
  },
  "orig_nbformat": 4,
  "vscode": {
   "interpreter": {
    "hash": "4f2ff97d05f7ea74f9ad893ce0ef62de10b7e20c3f21fc0f5866920ae6ae88e7"
   }
  }
 },
 "nbformat": 4,
 "nbformat_minor": 2
}
