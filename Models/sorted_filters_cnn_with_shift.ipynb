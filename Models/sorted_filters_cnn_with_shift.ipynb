{
 "cells": [
  {
   "cell_type": "code",
   "execution_count": 1,
   "metadata": {},
   "outputs": [],
   "source": [
    "import numpy as np\n",
    "import os \n",
    "os.environ['TF_CPP_MIN_LOG_LEVEL'] = '0'\n",
    "os.environ['TF_CPP_MIN_VLOG_LEVEL'] = '3'\n",
    "\n",
    "import tensorflow as tf\n",
    "\n",
    "\n",
    "from tensorflow import keras\n",
    "\n",
    "from tensorflow.keras import layers\n",
    "\n",
    "from tensorflow.keras import backend as K\n",
    "from tensorflow.keras.layers import Input, Concatenate , Add, Dot, Activation, Lambda, BatchNormalization, LeakyReLU, Softmax, ReLU\n",
    "from tensorflow.keras.models import Model\n",
    "\n",
    "from tensorflow.image import flip_up_down, flip_left_right, rot90\n",
    "from tensorflow.linalg import normalize\n",
    "\n",
    "from tensorflow.keras.preprocessing.image import ImageDataGenerator\n",
    "\n",
    "import math\n",
    "\n",
    "import matplotlib.pyplot as plt\n",
    "import sys \n",
    "sys.path.append('..')\n",
    "from layers.sorted_filters_with_map import SortedConv2DWithMap\n",
    "from layers.channel_roll import ChannelRoll\n",
    "import datetime\n"
   ]
  },
  {
   "cell_type": "code",
   "execution_count": 2,
   "metadata": {},
   "outputs": [
    {
     "name": "stdout",
     "output_type": "stream",
     "text": [
      "Num GPUs Available:  1\n",
      "2.9.1\n"
     ]
    }
   ],
   "source": [
    "from tensorflow.python.client import device_lib\n",
    "#tf.disable_v2_behavior()\n",
    "#tf.debugging.disable_traceback_filtering()\n",
    "\n",
    "#print(device_lib.list_local_devices())\n",
    "print(\"Num GPUs Available: \", len(tf.config.list_physical_devices('GPU')))\n",
    "\n",
    "print(tf.__version__ )"
   ]
  },
  {
   "cell_type": "code",
   "execution_count": 3,
   "metadata": {},
   "outputs": [
    {
     "name": "stdout",
     "output_type": "stream",
     "text": [
      "4\n",
      "Model: \"model\"\n",
      "__________________________________________________________________________________________________\n",
      " Layer (type)                   Output Shape         Param #     Connected to                     \n",
      "==================================================================================================\n",
      " input_1 (InputLayer)           [(None, 32, 32, 3)]  0           []                               \n",
      "                                                                                                  \n",
      " sorted_conv2d_with_map (Sorted  ((None, 32, 32, 4),  48         ['input_1[0][0]']                \n",
      " Conv2DWithMap)                  (None, 32, 32, 1))                                               \n",
      "                                                                                                  \n",
      " channel_roll (ChannelRoll)     (None, 32, 32, 4)    0           ['sorted_conv2d_with_map[0][0]', \n",
      "                                                                  'sorted_conv2d_with_map[0][1]'] \n",
      "                                                                                                  \n",
      " average_pooling2d (AveragePool  (None, 16, 16, 4)   0           ['channel_roll[0][0]']           \n",
      " ing2D)                                                                                           \n",
      "                                                                                                  \n",
      " batch_normalization (BatchNorm  (None, 16, 16, 4)   16          ['average_pooling2d[0][0]']      \n",
      " alization)                                                                                       \n",
      "                                                                                                  \n",
      " dropout (Dropout)              (None, 16, 16, 4)    0           ['batch_normalization[0][0]']    \n",
      "                                                                                                  \n",
      " flatten (Flatten)              (None, 1024)         0           ['dropout[0][0]']                \n",
      "                                                                                                  \n",
      " dense (Dense)                  (None, 512)          524800      ['flatten[0][0]']                \n",
      "                                                                                                  \n",
      " batch_normalization_1 (BatchNo  (None, 512)         2048        ['dense[0][0]']                  \n",
      " rmalization)                                                                                     \n",
      "                                                                                                  \n",
      " dropout_1 (Dropout)            (None, 512)          0           ['batch_normalization_1[0][0]']  \n",
      "                                                                                                  \n",
      " dense_1 (Dense)                (None, 100)          51300       ['dropout_1[0][0]']              \n",
      "                                                                                                  \n",
      "==================================================================================================\n",
      "Total params: 578,212\n",
      "Trainable params: 577,180\n",
      "Non-trainable params: 1,032\n",
      "__________________________________________________________________________________________________\n"
     ]
    }
   ],
   "source": [
    "input_net = Input((32, 32, 3))\n",
    "\n",
    "#y = layers.Conv2D(filters=32, kernel_size = 3, activation=LeakyReLU(alpha=0.1), padding='SAME')(input_net)\n",
    "y, map1 = SortedConv2DWithMap(filters=4,activation=LeakyReLU(alpha=0.1), padding='SAME')(input_net)\n",
    "\n",
    "y = ChannelRoll()([y, map1])\n",
    "y = layers.AveragePooling2D(pool_size=(2, 2))(y) \n",
    "\n",
    "\n",
    "y = layers.BatchNormalization(axis=-1)(y)\n",
    "y = layers.Dropout(0.5)(y)\n",
    "\n",
    "y = layers.Flatten()(y)\n",
    "y = layers.Dense(512, activation=ReLU())(y)\n",
    "y = layers.BatchNormalization(axis=-1)(y)\n",
    "y = layers.Dropout(0.5)(y)\n",
    "output_net  = layers.Dense(100, activation=Softmax())(y)\n",
    "\n",
    "model = Model(inputs = input_net, outputs = output_net)\n",
    "model.summary()"
   ]
  },
  {
   "cell_type": "code",
   "execution_count": 4,
   "metadata": {},
   "outputs": [
    {
     "name": "stdout",
     "output_type": "stream",
     "text": [
      "x_train shape: (50000, 32, 32, 3)\n",
      "50000 train samples\n",
      "10000 test samples\n"
     ]
    },
    {
     "data": {
      "text/plain": [
       "<matplotlib.image.AxesImage at 0x28b17fca148>"
      ]
     },
     "execution_count": 4,
     "metadata": {},
     "output_type": "execute_result"
    },
    {
     "data": {
      "image/png": "[encoded data removed]",
      "text/plain": [
       "<Figure size 432x288 with 1 Axes>"
      ]
     },
     "metadata": {
      "needs_background": "light"
     },
     "output_type": "display_data"
    }
   ],
   "source": [
    "num_classes = 100\n",
    "input_shape = (32, 32, 3)\n",
    "\n",
    "# Load the data and split it between train and test sets\n",
    "(x_train, y_train), (x_test, y_test) = keras.datasets.cifar100.load_data()\n",
    "\n",
    "\n",
    "\n",
    "# Scale images to the [0, 1] range\n",
    "x_train = x_train.astype(\"float32\") / 255\n",
    "x_test = x_test.astype(\"float32\") / 255\n",
    "# Make sure images have shape (28, 28, 1)\n",
    "#x_train = np.expand_dims(x_train, -1)\n",
    "#x_test = np.expand_dims(x_test, -1)\n",
    "print(\"x_train shape:\", x_train.shape)\n",
    "print(x_train.shape[0], \"train samples\")\n",
    "print(x_test.shape[0], \"test samples\")\n",
    "\n",
    "# convert class vectors to binary class matrices\n",
    "#y_train = keras.utils.to_categorical(y_train, num_classes)\n",
    "#y_test = keras.utils.to_categorical(y_test, num_classes)\n",
    "\n",
    "plt.imshow(x_train[0,:,:,:])\n",
    "\n"
   ]
  },
  {
   "cell_type": "code",
   "execution_count": 5,
   "metadata": {},
   "outputs": [
    {
     "name": "stdout",
     "output_type": "stream",
     "text": [
      "Epoch 1/10\n"
     ]
    },
    {
     "name": "stderr",
     "output_type": "stream",
     "text": [
      "c:\\Users\\AN46710\\Anaconda3\\envs\\masters\\lib\\site-packages\\tensorflow\\python\\framework\\indexed_slices.py:446: UserWarning: Converting sparse IndexedSlices(IndexedSlices(indices=Tensor(\"gradient_tape/model_1/channel_roll/RaggedToTensor/boolean_mask_1/GatherV2:0\", shape=(None,), dtype=int32), values=Tensor(\"gradient_tape/model_1/channel_roll/RaggedToTensor/boolean_mask/GatherV2:0\", shape=(None,), dtype=float32), dense_shape=Tensor(\"gradient_tape/model_1/channel_roll/RaggedToTensor/Shape:0\", shape=(1,), dtype=int32))) to a dense Tensor of unknown shape. This may consume a large amount of memory.\n",
      "  \"shape. This may consume a large amount of memory.\" % value)\n"
     ]
    },
    {
     "name": "stdout",
     "output_type": "stream",
     "text": [
      "196/196 [==============================] - 28s 112ms/step - loss: 4.6925 - accuracy: 0.0648 - top-5-accuracy: 0.2010 - val_loss: 4.2753 - val_accuracy: 0.0982 - val_top-5-accuracy: 0.2751\n",
      "Epoch 2/10\n",
      "196/196 [==============================] - 24s 124ms/step - loss: 4.0014 - accuracy: 0.1043 - top-5-accuracy: 0.2904 - val_loss: 3.8889 - val_accuracy: 0.1147 - val_top-5-accuracy: 0.3133\n",
      "Epoch 3/10\n",
      "196/196 [==============================] - 24s 124ms/step - loss: 3.7317 - accuracy: 0.1422 - top-5-accuracy: 0.3606 - val_loss: 3.6946 - val_accuracy: 0.1562 - val_top-5-accuracy: 0.3775\n",
      "Epoch 4/10\n",
      "196/196 [==============================] - 25s 129ms/step - loss: 3.6823 - accuracy: 0.1463 - top-5-accuracy: 0.3760 - val_loss: 3.6288 - val_accuracy: 0.1567 - val_top-5-accuracy: 0.3930\n",
      "Epoch 5/10\n",
      "196/196 [==============================] - 24s 124ms/step - loss: 3.5711 - accuracy: 0.1639 - top-5-accuracy: 0.4035 - val_loss: 3.4635 - val_accuracy: 0.1913 - val_top-5-accuracy: 0.4355\n",
      "Epoch 6/10\n",
      "196/196 [==============================] - 24s 123ms/step - loss: 3.4439 - accuracy: 0.1875 - top-5-accuracy: 0.4432 - val_loss: 3.3896 - val_accuracy: 0.2100 - val_top-5-accuracy: 0.4568\n",
      "Epoch 7/10\n",
      "196/196 [==============================] - 25s 127ms/step - loss: 3.4709 - accuracy: 0.1833 - top-5-accuracy: 0.4314 - val_loss: 3.4770 - val_accuracy: 0.1824 - val_top-5-accuracy: 0.4267\n",
      "Epoch 8/10\n",
      "196/196 [==============================] - 25s 125ms/step - loss: 3.5271 - accuracy: 0.1686 - top-5-accuracy: 0.4195 - val_loss: 3.4649 - val_accuracy: 0.1883 - val_top-5-accuracy: 0.4312\n",
      "Epoch 9/10\n",
      "196/196 [==============================] - 24s 125ms/step - loss: 3.4626 - accuracy: 0.1809 - top-5-accuracy: 0.4356 - val_loss: 3.3978 - val_accuracy: 0.2037 - val_top-5-accuracy: 0.4562\n",
      "Epoch 10/10\n",
      "196/196 [==============================] - 24s 125ms/step - loss: 3.3847 - accuracy: 0.1969 - top-5-accuracy: 0.4552 - val_loss: 3.3513 - val_accuracy: 0.2164 - val_top-5-accuracy: 0.4618\n"
     ]
    },
    {
     "data": {
      "text/plain": [
       "<keras.callbacks.History at 0x28b18177d08>"
      ]
     },
     "execution_count": 5,
     "metadata": {},
     "output_type": "execute_result"
    }
   ],
   "source": [
    "model = Model(inputs = input_net, outputs = output_net)\n",
    "\n",
    "initial_learning_rate =  0.01\n",
    "\n",
    "lr_schedule = tf.keras.optimizers.schedules.CosineDecayRestarts(\n",
    "    initial_learning_rate,\n",
    "    alpha = 1e-6,\n",
    "    m_mul=0.999,\n",
    "    first_decay_steps = 20)\n",
    "\n",
    "optimizer = tf.keras.optimizers.RMSprop(learning_rate=lr_schedule)\n",
    "\n",
    "log_dir = \"logs_shift_experiments/fit/\" + datetime.datetime.now().strftime(\"%Y%m%d-%H%M%S\")\n",
    "tensorboard_callback = tf.keras.callbacks.TensorBoard(log_dir=log_dir, histogram_freq=1, profile_batch = 2)\n",
    "\n",
    "model.compile(\n",
    "        optimizer=optimizer,\n",
    "        loss=keras.losses.SparseCategoricalCrossentropy(from_logits=False),\n",
    "        metrics=[\n",
    "            keras.metrics.SparseCategoricalAccuracy(name=\"accuracy\"),\n",
    "            keras.metrics.SparseTopKCategoricalAccuracy(5, name=\"top-5-accuracy\"),\n",
    "        ],\n",
    ")\n",
    "\n",
    "\n",
    "checkpoint_filepath = \"/tmp/checkpoint\"\n",
    "checkpoint_callback = keras.callbacks.ModelCheckpoint(\n",
    "    checkpoint_filepath,\n",
    "    monitor=\"val_accuracy\",\n",
    "    save_best_only=True,\n",
    "    save_weights_only=True,\n",
    ")\n",
    "\n",
    "batch_size = 256\n",
    "epochs = 10\n",
    "model.fit(x_train, y_train, batch_size=batch_size, epochs=epochs, validation_data=(x_test, y_test), callbacks=[tensorboard_callback])"
   ]
  },
  {
   "cell_type": "code",
   "execution_count": 6,
   "metadata": {},
   "outputs": [
    {
     "name": "stderr",
     "output_type": "stream",
     "text": [
      "UsageError: Line magic function `%tensorboard` not found.\n"
     ]
    }
   ],
   "source": [
    "%tensorboard --logdir logs_shift_experiments/fit"
   ]
  },
  {
   "cell_type": "code",
   "execution_count": 19,
   "metadata": {},
   "outputs": [
    {
     "name": "stdout",
     "output_type": "stream",
     "text": [
      "(32, 32, 3)\n",
      "o (1, 32, 32, 4)\n",
      "(1, 32, 32, 1)\n",
      "[2.625]\n"
     ]
    },
    {
     "data": {
      "text/plain": [
       "<matplotlib.colorbar.Colorbar at 0x28d5972af88>"
      ]
     },
     "execution_count": 19,
     "metadata": {},
     "output_type": "execute_result"
    },
    {
     "data": {
      "image/png": "[encoded data removed]",
      "text/plain": [
       "<Figure size 432x288 with 1 Axes>"
      ]
     },
     "metadata": {
      "needs_background": "light"
     },
     "output_type": "display_data"
    },
    {
     "data": {
      "image/png": "[encoded data removed]",
      "text/plain": [
       "<Figure size 432x288 with 1 Axes>"
      ]
     },
     "metadata": {
      "needs_background": "light"
     },
     "output_type": "display_data"
    },
    {
     "data": {
      "image/png": "[encoded data removed]",
      "text/plain": [
       "<Figure size 432x288 with 1 Axes>"
      ]
     },
     "metadata": {
      "needs_background": "light"
     },
     "output_type": "display_data"
    },
    {
     "data": {
      "image/png": "[encoded data removed]",
      "text/plain": [
       "<Figure size 432x288 with 2 Axes>"
      ]
     },
     "metadata": {
      "needs_background": "light"
     },
     "output_type": "display_data"
    }
   ],
   "source": [
    "\n",
    "n = 109\n",
    "X = x_test[n]\n",
    "print(X.shape)\n",
    "\n",
    "get_layer_output = K.function([model.input], model.layers[1].output)\n",
    "out = np.array(get_layer_output(np.expand_dims(X, axis=0))[0])\n",
    "map = np.array(get_layer_output(np.expand_dims(X, axis=0))[1])\n",
    "\n",
    "get_layer_output = K.function([model.input], model.layers[2].output)\n",
    "out_shift = np.array(get_layer_output(np.expand_dims(X, axis=0)))\n",
    "\n",
    "\n",
    "\n",
    "\n",
    "\n",
    "plt.figure(1)  \n",
    "print('o', out_shift.shape)\n",
    "im = plt.imshow(out[:, 9, 9, :], cmap='gray')   \n",
    "#plt.colorbar(im, ticks=range(8), orientation=\"horizontal\")\n",
    "\n",
    "plt.figure(2)  \n",
    "im = plt.imshow(out_shift[:, 9, 9, :], cmap='gray')  \n",
    "#plt.colorbar(im, ticks=range(8), orientation=\"horizontal\")\n",
    "\n",
    "print(map.shape)\n",
    "print(map[0, 9, 9])\n",
    "\n",
    "\n",
    "\n",
    "plt.figure(3)  \n",
    "im = plt.imshow(X, cmap='gray')  \n",
    "\n",
    "#plt.colorbar(im, ticks=range(32), orientation=\"horizontal\")\n",
    "        \n",
    "\n",
    "plt.figure(4)  \n",
    "im = plt.imshow(map[0], cmap='gray')  \n",
    "\n",
    "plt.colorbar(im, ticks=range(32), orientation=\"horizontal\")\n",
    "        \n"
   ]
  },
  {
   "cell_type": "code",
   "execution_count": null,
   "metadata": {},
   "outputs": [
    {
     "ename": "NameError",
     "evalue": "name 'index' is not defined",
     "output_type": "error",
     "traceback": [
      "\u001b[1;31m---------------------------------------------------------------------------\u001b[0m",
      "\u001b[1;31mNameError\u001b[0m                                 Traceback (most recent call last)",
      "\u001b[1;32m~\\AppData\\Local\\Temp\\ipykernel_9336\\1075721689.py\u001b[0m in \u001b[0;36m<module>\u001b[1;34m\u001b[0m\n\u001b[1;32m----> 1\u001b[1;33m \u001b[0mprint\u001b[0m\u001b[1;33m(\u001b[0m\u001b[0mindex\u001b[0m\u001b[1;33m[\u001b[0m\u001b[1;36m0\u001b[0m\u001b[1;33m,\u001b[0m \u001b[1;36m0\u001b[0m\u001b[1;33m,\u001b[0m \u001b[1;36m1\u001b[0m\u001b[1;33m,\u001b[0m \u001b[1;33m]\u001b[0m\u001b[1;33m)\u001b[0m\u001b[1;33m\u001b[0m\u001b[1;33m\u001b[0m\u001b[0m\n\u001b[0m\u001b[0;32m      2\u001b[0m \u001b[0mprint\u001b[0m\u001b[1;33m(\u001b[0m\u001b[0mout\u001b[0m\u001b[1;33m[\u001b[0m\u001b[1;36m0\u001b[0m\u001b[1;33m,\u001b[0m \u001b[1;36m0\u001b[0m\u001b[1;33m,\u001b[0m \u001b[1;36m1\u001b[0m\u001b[1;33m,\u001b[0m \u001b[1;33m]\u001b[0m\u001b[1;33m)\u001b[0m\u001b[1;33m\u001b[0m\u001b[1;33m\u001b[0m\u001b[0m\n\u001b[0;32m      3\u001b[0m \u001b[0mprint\u001b[0m\u001b[1;33m(\u001b[0m\u001b[0mout_left\u001b[0m\u001b[1;33m[\u001b[0m\u001b[1;36m0\u001b[0m\u001b[1;33m,\u001b[0m \u001b[1;36m0\u001b[0m\u001b[1;33m,\u001b[0m \u001b[1;36m1\u001b[0m\u001b[1;33m,\u001b[0m \u001b[1;33m]\u001b[0m\u001b[1;33m)\u001b[0m\u001b[1;33m\u001b[0m\u001b[1;33m\u001b[0m\u001b[0m\n\u001b[0;32m      4\u001b[0m \u001b[0mprint\u001b[0m\u001b[1;33m(\u001b[0m\u001b[0mout_right\u001b[0m\u001b[1;33m[\u001b[0m\u001b[1;36m0\u001b[0m\u001b[1;33m,\u001b[0m \u001b[1;36m0\u001b[0m\u001b[1;33m,\u001b[0m \u001b[1;36m1\u001b[0m\u001b[1;33m,\u001b[0m \u001b[1;33m]\u001b[0m\u001b[1;33m)\u001b[0m\u001b[1;33m\u001b[0m\u001b[1;33m\u001b[0m\u001b[0m\n\u001b[0;32m      5\u001b[0m \u001b[1;33m\u001b[0m\u001b[0m\n",
      "\u001b[1;31mNameError\u001b[0m: name 'index' is not defined"
     ]
    }
   ],
   "source": [
    "print(index[0, 0, 1, ])\n",
    "print(out[0, 0, 1, ])\n",
    "print(out_left[0, 0, 1, ])\n",
    "print(out_right[0, 0, 1, ])\n",
    "\n",
    "print(map[0, 0, 1 ])\n",
    "print(out_shifted[0, 0, 1, ])\n",
    "\n"
   ]
  },
  {
   "cell_type": "markdown",
   "metadata": {},
   "source": []
  },
  {
   "cell_type": "code",
   "execution_count": null,
   "metadata": {},
   "outputs": [
    {
     "data": {
      "text/plain": [
       "<tf.RaggedTensor [[[[0.0, 0.7518008, 0.0, 0.07587218, 0.30510306, 2.2470028, 3.6672583,\n",
       "    2.52381, 5.557482, 5.59272]                                       ,\n",
       "   [0.0, 4.088064, 2.1949782, 1.414401, 0.75688887, 2.8039901, 4.155519,\n",
       "    1.7276574, 6.167313, 5.2518997]                                     ,\n",
       "   [0.0, 4.4181137, 2.3985133, 1.5343769, 0.76932454, 2.8721192, 4.250799,\n",
       "    1.7071693, 6.320815, 5.3395777]                                       ,\n",
       "   ..., [], [], []],\n",
       "  [[0.0, 2.1077445, 1.8260822, 2.5864766, 3.3052006, 6.4447064, 8.379952,\n",
       "    6.242959, 10.074447, 8.111772]                                       ,\n",
       "   [0.0, 7.434674, 6.298918, 6.0896688, 5.316704, 9.055386, 10.544804,\n",
       "    6.841101, 11.702086, 7.553796]                                    ,\n",
       "   [0.0, 8.077639, 6.7795377, 6.480469, 5.586491, 9.394007, 10.914227,\n",
       "    6.928129, 12.056224, 7.6800666]                                   ,\n",
       "   ..., [], [], []],\n",
       "  [[0.0, 2.020402, 1.713198, 2.4499805, 3.1396997, 6.3285174, 8.290304,\n",
       "    6.235699, 10.101304, 8.161644]                                     ,\n",
       "   [0.0, 7.383604, 6.188595, 5.9549327, 5.1959105, 8.937209, 10.47835,\n",
       "    6.7654786, 11.742984, 7.6253147]                                  ,\n",
       "   [0.0, 8.143829, 6.815951, 6.4941993, 5.571134, 9.397868, 10.925272,\n",
       "    6.931056, 12.10455, 7.6977735]                                    ,\n",
       "   ..., [], [], []],\n",
       "  ...,\n",
       "  [[0.0, 0.0, 0.0, 0.0, 0.19656108, 0.3156982, 0.46253157, 0.3507504,\n",
       "    0.5384903, 0.41964328]                                           ,\n",
       "   [0.0, 0.0, 0.0, 0.0, 0.3190089, 0.45630997, 0.6029388, 0.38711935,\n",
       "    0.6389743, 0.39193943]                                           ,\n",
       "   [0.0, 0.0, 0.0, 0.0, 0.3491585, 0.49107066, 0.6392579, 0.40267378,\n",
       "    0.66915435, 0.39755028]                                          ,\n",
       "   ..., [0.0, 0.0, 0.0, 0.0, 0.0, 0.0, 0.0, 0.0, 0.98981154, 0.57759714],\n",
       "   [0.0, 0.0, 0.0, 0.0, 0.0, 0.0, 0.0, 0.0, 0.91296685, 0.52560186],\n",
       "   [0.0, 0.0, 0.0, 0.0, 0.0, 0.0, 0.0, 0.0, 0.33292606, 0.111689836]],\n",
       "  [[0.0, 0.0, 0.0, 0.0, 0.1937897, 0.2993222, 0.42936227, 0.32075793,\n",
       "    0.49093407, 0.37593248]                                          ,\n",
       "   [0.0, 0.0, 0.0, 0.0, 0.31253886, 0.4345539, 0.55443513, 0.35766748,\n",
       "    0.5690387, 0.34609282]                                            ,\n",
       "   [0.0, 0.0, 0.0, 0.0, 0.33349064, 0.4619547, 0.5795702, 0.36799407,\n",
       "    0.5891483, 0.34492218]                                           ,\n",
       "   ..., [0.0, 0.0, 0.0, 0.0, 0.0, 0.0, 0.0, 0.0, 0.86501324, 0.526263],\n",
       "   [0.0, 0.0, 0.0, 0.0, 0.0, 0.0, 0.0, 0.0, 0.81694776, 0.51279855],\n",
       "   [0.0, 0.0, 0.0, 0.0, 0.0, 0.0, 0.0, 0.0, 0.28968152, 0.11736269]],\n",
       "  [[0.0, 0.0, 0.0, 0.0, 0.20690525, 0.2724846, 0.33967566, 0.25612497,\n",
       "    0.32249737, 0.23974925]                                           ,\n",
       "   [0.0, 0.0, 0.0, 0.0, 0.33715075, 0.39706618, 0.46147266, 0.29490006,\n",
       "    0.3887229, 0.22200526]                                             ,\n",
       "   [0.0, 0.0, 0.0, 0.0, 0.355703, 0.41612238, 0.4776888, 0.29914063,\n",
       "    0.39739934, 0.21637948]                                         ,\n",
       "   ..., [0.0, 0.0, 0.0, 0.0, 0.0, 0.0, 0.0, 0.0, 0.62756217, 0.36496282],\n",
       "   [0.0, 0.0, 0.0, 0.0, 0.0, 0.0, 0.0, 0.0, 0.60832113, 0.37396097],\n",
       "   [0.0, 0.0, 0.0, 0.0, 0.0, 0.0, 0.0, 0.0, 0.21620972, 0.09632166]]]]>"
      ]
     },
     "execution_count": 84,
     "metadata": {},
     "output_type": "execute_result"
    }
   ],
   "source": [
    "tf.RaggedTensor.from_tensor(out1, padding=0, ragged_rank=3, row_splits_dtype=tf.int32)"
   ]
  },
  {
   "cell_type": "code",
   "execution_count": null,
   "metadata": {},
   "outputs": [],
   "source": [
    "tf.RaggedTensor.from_nested_row_splits(out, padding=-, ragged_rank=3, row_splits_dtype=tf.int32)"
   ]
  },
  {
   "cell_type": "code",
   "execution_count": null,
   "metadata": {},
   "outputs": [],
   "source": [
    "model.layers[5].scale_a"
   ]
  },
  {
   "cell_type": "code",
   "execution_count": null,
   "metadata": {},
   "outputs": [
    {
     "data": {
      "text/plain": [
       "<tf.Tensor: shape=(1, 32, 32, 1), dtype=float32, numpy=\n",
       "array([[[[0.],\n",
       "         [0.],\n",
       "         [0.],\n",
       "         ...,\n",
       "         [0.],\n",
       "         [0.],\n",
       "         [0.]],\n",
       "\n",
       "        [[0.],\n",
       "         [0.],\n",
       "         [0.],\n",
       "         ...,\n",
       "         [0.],\n",
       "         [0.],\n",
       "         [0.]],\n",
       "\n",
       "        [[0.],\n",
       "         [0.],\n",
       "         [0.],\n",
       "         ...,\n",
       "         [0.],\n",
       "         [0.],\n",
       "         [0.]],\n",
       "\n",
       "        ...,\n",
       "\n",
       "        [[0.],\n",
       "         [0.],\n",
       "         [0.],\n",
       "         ...,\n",
       "         [0.],\n",
       "         [0.],\n",
       "         [0.]],\n",
       "\n",
       "        [[0.],\n",
       "         [0.],\n",
       "         [0.],\n",
       "         ...,\n",
       "         [0.],\n",
       "         [0.],\n",
       "         [0.]],\n",
       "\n",
       "        [[0.],\n",
       "         [0.],\n",
       "         [0.],\n",
       "         ...,\n",
       "         [0.],\n",
       "         [0.],\n",
       "         [0.]]]], dtype=float32)>"
      ]
     },
     "execution_count": 106,
     "metadata": {},
     "output_type": "execute_result"
    }
   ],
   "source": [
    "tf.cast(map > 0, tf.float32)"
   ]
  }
 ],
 "metadata": {
  "kernelspec": {
   "display_name": "Python 3.7.13 ('masters')",
   "language": "python",
   "name": "python3"
  },
  "language_info": {
   "codemirror_mode": {
    "name": "ipython",
    "version": 3
   },
   "file_extension": ".py",
   "mimetype": "text/x-python",
   "name": "python",
   "nbconvert_exporter": "python",
   "pygments_lexer": "ipython3",
   "version": "3.7.13"
  },
  "orig_nbformat": 4,
  "vscode": {
   "interpreter": {
    "hash": "4f2ff97d05f7ea74f9ad893ce0ef62de10b7e20c3f21fc0f5866920ae6ae88e7"
   }
  }
 },
 "nbformat": 4,
 "nbformat_minor": 2
}
