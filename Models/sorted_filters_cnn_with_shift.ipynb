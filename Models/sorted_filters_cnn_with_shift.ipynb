{
 "cells": [
  {
   "cell_type": "code",
   "execution_count": 1,
   "metadata": {},
   "outputs": [],
   "source": [
    "import numpy as np\n",
    "import os \n",
    "os.environ['TF_CPP_MIN_LOG_LEVEL'] = '0'\n",
    "os.environ['TF_CPP_MIN_VLOG_LEVEL'] = '3'\n",
    "\n",
    "import tensorflow as tf\n",
    "\n",
    "\n",
    "from tensorflow import keras\n",
    "\n",
    "from tensorflow.keras import layers\n",
    "\n",
    "from tensorflow.keras import backend as K\n",
    "from tensorflow.keras.layers import Input, Concatenate , Add, Dot, Activation, Lambda, BatchNormalization, LeakyReLU, Softmax, ReLU\n",
    "from tensorflow.keras.models import Model\n",
    "\n",
    "from tensorflow.image import flip_up_down, flip_left_right, rot90\n",
    "from tensorflow.linalg import normalize\n",
    "\n",
    "from tensorflow.keras.preprocessing.image import ImageDataGenerator\n",
    "\n",
    "import math\n",
    "\n",
    "import matplotlib.pyplot as plt\n",
    "import sys \n",
    "sys.path.append('..')\n",
    "from layers.sorted_filters_with_shift import SortedConv2DWithShift\n",
    "\n",
    "import datetime\n"
   ]
  },
  {
   "cell_type": "code",
   "execution_count": 2,
   "metadata": {},
   "outputs": [
    {
     "name": "stdout",
     "output_type": "stream",
     "text": [
      "Num GPUs Available:  1\n",
      "2.9.1\n"
     ]
    }
   ],
   "source": [
    "from tensorflow.python.client import device_lib\n",
    "#tf.disable_v2_behavior()\n",
    "#tf.debugging.disable_traceback_filtering()\n",
    "\n",
    "#print(device_lib.list_local_devices())\n",
    "print(\"Num GPUs Available: \", len(tf.config.list_physical_devices('GPU')))\n",
    "\n",
    "print(tf.__version__ )"
   ]
  },
  {
   "cell_type": "code",
   "execution_count": 3,
   "metadata": {},
   "outputs": [
    {
     "name": "stdout",
     "output_type": "stream",
     "text": [
      "Model: \"model\"\n",
      "_________________________________________________________________\n",
      " Layer (type)                Output Shape              Param #   \n",
      "=================================================================\n",
      " input_1 (InputLayer)        [(None, 32, 32, 3)]       0         \n",
      "                                                                 \n",
      " sorted_conv2d_with_shift (S  ((None, 32, 32, 10),     102       \n",
      " ortedConv2DWithShift)        (None, 32, 32))                    \n",
      "                                                                 \n",
      " flatten (Flatten)           (None, 10240)             0         \n",
      "                                                                 \n",
      " dense (Dense)               (None, 200)               2048200   \n",
      "                                                                 \n",
      " batch_normalization (BatchN  (None, 200)              800       \n",
      " ormalization)                                                   \n",
      "                                                                 \n",
      " dense_1 (Dense)             (None, 100)               20100     \n",
      "                                                                 \n",
      "=================================================================\n",
      "Total params: 2,069,202\n",
      "Trainable params: 2,068,802\n",
      "Non-trainable params: 400\n",
      "_________________________________________________________________\n"
     ]
    }
   ],
   "source": [
    "input_net = Input((32, 32, 3))\n",
    "\n",
    "y, map = SortedConv2DWithShift(filters=10 , activation=ReLU(), padding='SAME')(input_net)\n",
    "\n",
    "y = layers.Flatten()(y)\n",
    "y = layers.Dense(200, activation=ReLU())(y)\n",
    "y = layers.BatchNormalization(axis=-1)(y)\n",
    "output_net  = layers.Dense(100, activation=Softmax())(y)\n",
    "\n",
    "model = Model(inputs = input_net, outputs = output_net)\n",
    "model.summary()"
   ]
  },
  {
   "cell_type": "code",
   "execution_count": 4,
   "metadata": {},
   "outputs": [
    {
     "name": "stdout",
     "output_type": "stream",
     "text": [
      "x_train shape: (50000, 32, 32, 3)\n",
      "50000 train samples\n",
      "10000 test samples\n"
     ]
    },
    {
     "data": {
      "text/plain": [
       "<matplotlib.image.AxesImage at 0x127947f55c8>"
      ]
     },
     "execution_count": 4,
     "metadata": {},
     "output_type": "execute_result"
    },
    {
     "data": {
      "image/png": "[encoded data removed]",
      "text/plain": [
       "<Figure size 432x288 with 1 Axes>"
      ]
     },
     "metadata": {
      "needs_background": "light"
     },
     "output_type": "display_data"
    }
   ],
   "source": [
    "num_classes = 100\n",
    "input_shape = (32, 32, 3)\n",
    "\n",
    "# Load the data and split it between train and test sets\n",
    "(x_train, y_train), (x_test, y_test) = keras.datasets.cifar100.load_data()\n",
    "\n",
    "\n",
    "\n",
    "# Scale images to the [0, 1] range\n",
    "x_train = x_train.astype(\"float32\") / 255\n",
    "x_test = x_test.astype(\"float32\") / 255\n",
    "# Make sure images have shape (28, 28, 1)\n",
    "#x_train = np.expand_dims(x_train, -1)\n",
    "#x_test = np.expand_dims(x_test, -1)\n",
    "print(\"x_train shape:\", x_train.shape)\n",
    "print(x_train.shape[0], \"train samples\")\n",
    "print(x_test.shape[0], \"test samples\")\n",
    "\n",
    "# convert class vectors to binary class matrices\n",
    "#y_train = keras.utils.to_categorical(y_train, num_classes)\n",
    "#y_test = keras.utils.to_categorical(y_test, num_classes)\n",
    "\n",
    "plt.imshow(x_train[0,:,:,:])\n",
    "\n"
   ]
  },
  {
   "cell_type": "code",
   "execution_count": 5,
   "metadata": {},
   "outputs": [],
   "source": [
    "model = Model(inputs = input_net, outputs = y)\n",
    "\n",
    "initial_learning_rate =  0.01\n",
    "\n",
    "lr_schedule = tf.keras.optimizers.schedules.CosineDecayRestarts(\n",
    "    initial_learning_rate,\n",
    "    alpha = 1e-6,\n",
    "    m_mul=0.999,\n",
    "    first_decay_steps = 20)\n",
    "\n",
    "optimizer = tf.keras.optimizers.RMSprop(learning_rate=lr_schedule)\n",
    "\n",
    "log_dir = \"logs_shift_experiments/fit/\" + datetime.datetime.now().strftime(\"%Y%m%d-%H%M%S\")\n",
    "tensorboard_callback = tf.keras.callbacks.TensorBoard(log_dir=log_dir, histogram_freq=1)\n",
    "\n",
    "model.compile(\n",
    "        optimizer=optimizer,\n",
    "        loss=keras.losses.SparseCategoricalCrossentropy(from_logits=False),\n",
    "        metrics=[\n",
    "            keras.metrics.SparseCategoricalAccuracy(name=\"accuracy\"),\n",
    "            keras.metrics.SparseTopKCategoricalAccuracy(5, name=\"top-5-accuracy\"),\n",
    "        ],\n",
    ")\n",
    "\n",
    "\n",
    "checkpoint_filepath = \"/tmp/checkpoint\"\n",
    "checkpoint_callback = keras.callbacks.ModelCheckpoint(\n",
    "    checkpoint_filepath,\n",
    "    monitor=\"val_accuracy\",\n",
    "    save_best_only=True,\n",
    "    save_weights_only=True,\n",
    ")\n",
    "\n",
    "batch_size = 2\n",
    "epochs = 1\n",
    "#model.fit(x_train, y_train, batch_size=batch_size, epochs=epochs, validation_data=(x_test, y_test), callbacks=[tensorboard_callback])"
   ]
  },
  {
   "cell_type": "code",
   "execution_count": 6,
   "metadata": {},
   "outputs": [
    {
     "name": "stderr",
     "output_type": "stream",
     "text": [
      "UsageError: Line magic function `%tensorboard` not found.\n"
     ]
    }
   ],
   "source": [
    "%tensorboard --logdir logs_shift_experiments/fit"
   ]
  },
  {
   "cell_type": "code",
   "execution_count": 113,
   "metadata": {},
   "outputs": [
    {
     "name": "stdout",
     "output_type": "stream",
     "text": [
      "(32, 32, 3)\n",
      "avg (1, 8, 8, 1)\n",
      "out 5.2518997\n",
      "map tf.Tensor([9.], shape=(1,), dtype=float32)\n"
     ]
    },
    {
     "ename": "ValueError",
     "evalue": "Shapes (1, 32, 32, 10) and (1, 32, 32, 1, 10) are incompatible",
     "output_type": "error",
     "traceback": [
      "\u001b[1;31m---------------------------------------------------------------------------\u001b[0m",
      "\u001b[1;31mValueError\u001b[0m                                Traceback (most recent call last)",
      "\u001b[1;32m~\\AppData\\Local\\Temp\\ipykernel_19676\\959654268.py\u001b[0m in \u001b[0;36m<module>\u001b[1;34m\u001b[0m\n\u001b[0;32m     70\u001b[0m \u001b[0mindex\u001b[0m \u001b[1;33m=\u001b[0m \u001b[0mtf\u001b[0m\u001b[1;33m.\u001b[0m\u001b[0mequal\u001b[0m\u001b[1;33m(\u001b[0m\u001b[0mstart_index\u001b[0m\u001b[1;33m,\u001b[0m\u001b[0mend_index\u001b[0m\u001b[1;33m)\u001b[0m\u001b[1;33m\u001b[0m\u001b[1;33m\u001b[0m\u001b[0m\n\u001b[0;32m     71\u001b[0m \u001b[1;33m\u001b[0m\u001b[0m\n\u001b[1;32m---> 72\u001b[1;33m \u001b[0mtf\u001b[0m\u001b[1;33m.\u001b[0m\u001b[0mboolean_mask\u001b[0m\u001b[1;33m(\u001b[0m\u001b[0mout\u001b[0m\u001b[1;33m,\u001b[0m\u001b[0mindex\u001b[0m\u001b[1;33m)\u001b[0m\u001b[1;33m,\u001b[0m\u001b[1;33m\u001b[0m\u001b[1;33m\u001b[0m\u001b[0m\n\u001b[0m\u001b[0;32m     73\u001b[0m \u001b[1;33m\u001b[0m\u001b[0m\n\u001b[0;32m     74\u001b[0m \u001b[1;33m\u001b[0m\u001b[0m\n",
      "\u001b[1;32mc:\\Users\\AN46710\\Anaconda3\\envs\\masters\\lib\\site-packages\\tensorflow\\python\\util\\traceback_utils.py\u001b[0m in \u001b[0;36merror_handler\u001b[1;34m(*args, **kwargs)\u001b[0m\n\u001b[0;32m    151\u001b[0m     \u001b[1;32mexcept\u001b[0m \u001b[0mException\u001b[0m \u001b[1;32mas\u001b[0m \u001b[0me\u001b[0m\u001b[1;33m:\u001b[0m\u001b[1;33m\u001b[0m\u001b[1;33m\u001b[0m\u001b[0m\n\u001b[0;32m    152\u001b[0m       \u001b[0mfiltered_tb\u001b[0m \u001b[1;33m=\u001b[0m \u001b[0m_process_traceback_frames\u001b[0m\u001b[1;33m(\u001b[0m\u001b[0me\u001b[0m\u001b[1;33m.\u001b[0m\u001b[0m__traceback__\u001b[0m\u001b[1;33m)\u001b[0m\u001b[1;33m\u001b[0m\u001b[1;33m\u001b[0m\u001b[0m\n\u001b[1;32m--> 153\u001b[1;33m       \u001b[1;32mraise\u001b[0m \u001b[0me\u001b[0m\u001b[1;33m.\u001b[0m\u001b[0mwith_traceback\u001b[0m\u001b[1;33m(\u001b[0m\u001b[0mfiltered_tb\u001b[0m\u001b[1;33m)\u001b[0m \u001b[1;32mfrom\u001b[0m \u001b[1;32mNone\u001b[0m\u001b[1;33m\u001b[0m\u001b[1;33m\u001b[0m\u001b[0m\n\u001b[0m\u001b[0;32m    154\u001b[0m     \u001b[1;32mfinally\u001b[0m\u001b[1;33m:\u001b[0m\u001b[1;33m\u001b[0m\u001b[1;33m\u001b[0m\u001b[0m\n\u001b[0;32m    155\u001b[0m       \u001b[1;32mdel\u001b[0m \u001b[0mfiltered_tb\u001b[0m\u001b[1;33m\u001b[0m\u001b[1;33m\u001b[0m\u001b[0m\n",
      "\u001b[1;32mc:\\Users\\AN46710\\Anaconda3\\envs\\masters\\lib\\site-packages\\tensorflow\\python\\framework\\tensor_shape.py\u001b[0m in \u001b[0;36massert_is_compatible_with\u001b[1;34m(self, other)\u001b[0m\n\u001b[0;32m   1289\u001b[0m     \"\"\"\n\u001b[0;32m   1290\u001b[0m     \u001b[1;32mif\u001b[0m \u001b[1;32mnot\u001b[0m \u001b[0mself\u001b[0m\u001b[1;33m.\u001b[0m\u001b[0mis_compatible_with\u001b[0m\u001b[1;33m(\u001b[0m\u001b[0mother\u001b[0m\u001b[1;33m)\u001b[0m\u001b[1;33m:\u001b[0m\u001b[1;33m\u001b[0m\u001b[1;33m\u001b[0m\u001b[0m\n\u001b[1;32m-> 1291\u001b[1;33m       \u001b[1;32mraise\u001b[0m \u001b[0mValueError\u001b[0m\u001b[1;33m(\u001b[0m\u001b[1;34m\"Shapes %s and %s are incompatible\"\u001b[0m \u001b[1;33m%\u001b[0m \u001b[1;33m(\u001b[0m\u001b[0mself\u001b[0m\u001b[1;33m,\u001b[0m \u001b[0mother\u001b[0m\u001b[1;33m)\u001b[0m\u001b[1;33m)\u001b[0m\u001b[1;33m\u001b[0m\u001b[1;33m\u001b[0m\u001b[0m\n\u001b[0m\u001b[0;32m   1292\u001b[0m \u001b[1;33m\u001b[0m\u001b[0m\n\u001b[0;32m   1293\u001b[0m   \u001b[1;32mdef\u001b[0m \u001b[0mmost_specific_compatible_shape\u001b[0m\u001b[1;33m(\u001b[0m\u001b[0mself\u001b[0m\u001b[1;33m,\u001b[0m \u001b[0mother\u001b[0m\u001b[1;33m)\u001b[0m\u001b[1;33m:\u001b[0m\u001b[1;33m\u001b[0m\u001b[1;33m\u001b[0m\u001b[0m\n",
      "\u001b[1;31mValueError\u001b[0m: Shapes (1, 32, 32, 10) and (1, 32, 32, 1, 10) are incompatible"
     ]
    },
    {
     "data": {
      "image/png": "[encoded data removed]",
      "text/plain": [
       "<Figure size 432x288 with 2 Axes>"
      ]
     },
     "metadata": {
      "needs_background": "light"
     },
     "output_type": "display_data"
    },
    {
     "data": {
      "image/png": "[encoded data removed]",
      "text/plain": [
       "<Figure size 432x288 with 2 Axes>"
      ]
     },
     "metadata": {
      "needs_background": "light"
     },
     "output_type": "display_data"
    },
    {
     "data": {
      "image/png": "[encoded data removed]",
      "text/plain": [
       "<Figure size 432x288 with 2 Axes>"
      ]
     },
     "metadata": {
      "needs_background": "light"
     },
     "output_type": "display_data"
    }
   ],
   "source": [
    "@tf.function\n",
    "def roll(arg):\n",
    "    x, map = arg\n",
    "    print('here', map.shape)\n",
    "    print('here', x.shape)\n",
    "\n",
    "\n",
    "    return tf.gather(x, map)\n",
    "@tf.function\n",
    "def myRoll(arg):\n",
    "    x, map = arg\n",
    "    \n",
    "    shifted = tf.zeros([0, 10]) #tf.TensorArray(tf.float32, size=40, dynamic_size=False)\n",
    "    print('here', map.shape)\n",
    "    print('input shape', x.shape)\n",
    "    for i in range(64):\n",
    "        k = map[i] % 10\n",
    "        shifted = tf.concat([shifted, tf.concat([tf.slice(x, [i*16, 10-k], [16,k]), tf.slice(x, [i*16, 0], [16,10-k])], -1)], 0)\n",
    "\n",
    "    print('out', shifted.shape)\n",
    "    return shifted\n",
    "\n",
    "\n",
    "\n",
    "patches=4\n",
    "\n",
    "\n",
    "get_layer_output = K.function([model.input], model.layers[1].output)\n",
    "\n",
    "n = 109\n",
    "\n",
    "X = x_test[n]\n",
    "print(X.shape)\n",
    "\n",
    "out = np.array(get_layer_output(np.expand_dims(X, axis=0))[0])\n",
    "#shifted = np.array(get_layer_output(np.expand_dims(X, axis=0))[1])\n",
    "map = np.array(get_layer_output(np.expand_dims(X, axis=0))[1])\n",
    "\n",
    "\n",
    "plt.figure(1)  \n",
    "im = plt.imshow(out[:,0,0])   \n",
    "\n",
    "plt.colorbar(im, ticks=range(8), orientation=\"horizontal\")\n",
    "\n",
    "plt.figure(2)  \n",
    "im = plt.imshow(out[0, :, : , 0])  \n",
    "\n",
    "plt.colorbar(im, ticks=range(8), orientation=\"horizontal\")\n",
    "\n",
    "\n",
    "plt.figure(3)  \n",
    "im = plt.imshow(map[0], cmap='gray') \n",
    "plt.colorbar(im, ticks=range(8), orientation=\"horizontal\")\n",
    "\n",
    "patch_size = 4\n",
    "map  = tf.cast(map, tf.float32)\n",
    "map = tf.nn.avg_pool2d((tf.expand_dims(map, axis=-1)), ksize=[patch_size, patch_size] , strides=[patch_size, patch_size], padding='SAME')\n",
    "print('avg', map.shape)\n",
    "\n",
    "map = tf.repeat(map, repeats = patch_size, axis=1)\n",
    "map = tf.repeat(map, repeats = 4, axis=2)\n",
    "\n",
    "print('out', out[0,0,1,9])\n",
    "print('map',map[0,0,1])\n",
    "\n",
    "map  = tf.cast(map, tf.int64)\n",
    "\n",
    "start_index = tf.sequence_mask(10-map,10)\n",
    "end_index = tf.sequence_mask(map-map, 10)\n",
    "index = tf.equal(start_index,end_index)\n",
    "\n",
    "tf.boolean_mask(out,index),\n",
    "                     \n",
    "\n",
    "print('done')\n",
    "#out1 = tf.reshape(out, [-1, 32, 32, 10 ])\n",
    "\n",
    "\n",
    "plt.figure(4)  \n",
    "'''im = plt.imshow(out1[:,0,0])  \n",
    "\n",
    "plt.colorbar(im, ticks=range(8), orientation=\"horizontal\")\n",
    "\n",
    "plt.figure(5)  '''\n",
    "im = plt.imshow(out1[:,0,0])  \n",
    "\n",
    "plt.colorbar(im, ticks=range(8), orientation=\"horizontal\")\n",
    "\n"
   ]
  },
  {
   "cell_type": "code",
   "execution_count": 111,
   "metadata": {},
   "outputs": [
    {
     "data": {
      "text/plain": [
       "<tf.Tensor: shape=(10,), dtype=bool, numpy=\n",
       "array([False,  True,  True,  True,  True,  True,  True,  True,  True,\n",
       "        True])>"
      ]
     },
     "execution_count": 111,
     "metadata": {},
     "output_type": "execute_result"
    }
   ],
   "source": [
    "index[0,0,0,0,:]"
   ]
  },
  {
   "cell_type": "markdown",
   "metadata": {},
   "source": []
  },
  {
   "cell_type": "code",
   "execution_count": 9,
   "metadata": {},
   "outputs": [
    {
     "ename": "AttributeError",
     "evalue": "'SortedConv2DWithShift' object has no attribute 'gain'",
     "output_type": "error",
     "traceback": [
      "\u001b[1;31m---------------------------------------------------------------------------\u001b[0m",
      "\u001b[1;31mAttributeError\u001b[0m                            Traceback (most recent call last)",
      "\u001b[1;32m~\\AppData\\Local\\Temp\\ipykernel_19676\\3570654801.py\u001b[0m in \u001b[0;36m<module>\u001b[1;34m\u001b[0m\n\u001b[1;32m----> 1\u001b[1;33m \u001b[0mmodel\u001b[0m\u001b[1;33m.\u001b[0m\u001b[0mlayers\u001b[0m\u001b[1;33m[\u001b[0m\u001b[1;36m1\u001b[0m\u001b[1;33m]\u001b[0m\u001b[1;33m.\u001b[0m\u001b[0mgain\u001b[0m\u001b[1;33m\u001b[0m\u001b[1;33m\u001b[0m\u001b[0m\n\u001b[0m",
      "\u001b[1;31mAttributeError\u001b[0m: 'SortedConv2DWithShift' object has no attribute 'gain'"
     ]
    }
   ],
   "source": [
    "model.layers[1].gain"
   ]
  },
  {
   "cell_type": "code",
   "execution_count": null,
   "metadata": {},
   "outputs": [],
   "source": [
    "model.layers[5].scale_a"
   ]
  },
  {
   "cell_type": "code",
   "execution_count": null,
   "metadata": {},
   "outputs": [],
   "source": []
  }
 ],
 "metadata": {
  "kernelspec": {
   "display_name": "Python 3.7.13 ('masters')",
   "language": "python",
   "name": "python3"
  },
  "language_info": {
   "codemirror_mode": {
    "name": "ipython",
    "version": 3
   },
   "file_extension": ".py",
   "mimetype": "text/x-python",
   "name": "python",
   "nbconvert_exporter": "python",
   "pygments_lexer": "ipython3",
   "version": "3.7.13"
  },
  "orig_nbformat": 4,
  "vscode": {
   "interpreter": {
    "hash": "4f2ff97d05f7ea74f9ad893ce0ef62de10b7e20c3f21fc0f5866920ae6ae88e7"
   }
  }
 },
 "nbformat": 4,
 "nbformat_minor": 2
}
