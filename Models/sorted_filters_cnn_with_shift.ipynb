{
 "cells": [
  {
   "cell_type": "code",
   "execution_count": 1,
   "metadata": {},
   "outputs": [],
   "source": [
    "import numpy as np\n",
    "import os \n",
    "os.environ['TF_CPP_MIN_LOG_LEVEL'] = '0'\n",
    "os.environ['TF_CPP_MIN_VLOG_LEVEL'] = '3'\n",
    "\n",
    "import tensorflow as tf\n",
    "\n",
    "\n",
    "from tensorflow import keras\n",
    "\n",
    "from tensorflow.keras import layers\n",
    "\n",
    "from tensorflow.keras import backend as K\n",
    "from tensorflow.keras.layers import Input, Concatenate , Add, Dot, Activation, Lambda, BatchNormalization, LeakyReLU, Softmax, ReLU\n",
    "from tensorflow.keras.models import Model\n",
    "\n",
    "from tensorflow.image import flip_up_down, flip_left_right, rot90\n",
    "from tensorflow.linalg import normalize\n",
    "\n",
    "from tensorflow.keras.preprocessing.image import ImageDataGenerator\n",
    "\n",
    "import math\n",
    "\n",
    "import matplotlib.pyplot as plt\n",
    "import sys \n",
    "sys.path.append('..')\n",
    "from layers.sorted_filters_with_map import SortedConv2DWithMap\n",
    "from layers.channel_roll import ChannelRoll\n",
    "import datetime\n"
   ]
  },
  {
   "cell_type": "code",
   "execution_count": 2,
   "metadata": {},
   "outputs": [
    {
     "name": "stdout",
     "output_type": "stream",
     "text": [
      "Num GPUs Available:  1\n",
      "True\n",
      "True\n",
      "[PhysicalDevice(name='/physical_device:GPU:0', device_type='GPU')]\n",
      "2.11.0-dev20220812\n"
     ]
    }
   ],
   "source": [
    "from tensorflow.python.client import device_lib\n",
    "#tf.disable_v2_behavior()\n",
    "#tf.debugging.disable_traceback_filtering()\n",
    "\n",
    "#print(device_lib.list_local_devices())\n",
    "print(\"Num GPUs Available: \", len(tf.config.list_physical_devices('GPU')))\n",
    "print(tf.test.is_built_with_xla())\n",
    "print(tf.test.is_built_with_gpu_support())\n",
    "print(tf.config.list_physical_devices(\"GPU\"))\n",
    "print(tf.__version__ )"
   ]
  },
  {
   "cell_type": "code",
   "execution_count": 3,
   "metadata": {},
   "outputs": [
    {
     "name": "stdout",
     "output_type": "stream",
     "text": [
      "Model: \"model\"\n",
      "_________________________________________________________________\n",
      " Layer (type)                Output Shape              Param #   \n",
      "=================================================================\n",
      " input_1 (InputLayer)        [(None, 32, 32, 3)]       0         \n",
      "                                                                 \n",
      " sorted_conv2d_with_map (Sor  ((None, 32, 32, 8),      81        \n",
      " tedConv2DWithMap)            (None, 32, 32, 1))                 \n",
      "                                                                 \n",
      " max_pooling2d (MaxPooling2D  (None, 16, 16, 8)        0         \n",
      " )                                                               \n",
      "                                                                 \n",
      " sorted_conv2d_with_map_1 (S  ((None, 16, 16, 16),     401       \n",
      " ortedConv2DWithMap)          (None, 16, 16, 1))                 \n",
      "                                                                 \n",
      " sorted_conv2d_with_map_2 (S  ((None, 16, 16, 16),     785       \n",
      " ortedConv2DWithMap)          (None, 16, 16, 1))                 \n",
      "                                                                 \n",
      " max_pooling2d_1 (MaxPooling  (None, 8, 8, 16)         0         \n",
      " 2D)                                                             \n",
      "                                                                 \n",
      " sorted_conv2d_with_map_3 (S  ((None, 8, 8, 32),       1569      \n",
      " ortedConv2DWithMap)          (None, 8, 8, 1))                   \n",
      "                                                                 \n",
      " sorted_conv2d_with_map_4 (S  ((None, 8, 8, 32),       3105      \n",
      " ortedConv2DWithMap)          (None, 8, 8, 1))                   \n",
      "                                                                 \n",
      " sorted_conv2d_with_map_5 (S  ((None, 8, 8, 32),       3105      \n",
      " ortedConv2DWithMap)          (None, 8, 8, 1))                   \n",
      "                                                                 \n",
      " max_pooling2d_2 (MaxPooling  (None, 4, 4, 32)         0         \n",
      " 2D)                                                             \n",
      "                                                                 \n",
      " batch_normalization (BatchN  (None, 4, 4, 32)         128       \n",
      " ormalization)                                                   \n",
      "                                                                 \n",
      " dropout (Dropout)           (None, 4, 4, 32)          0         \n",
      "                                                                 \n",
      " flatten (Flatten)           (None, 512)               0         \n",
      "                                                                 \n",
      " dense (Dense)               (None, 512)               262656    \n",
      "                                                                 \n",
      " batch_normalization_1 (Batc  (None, 512)              2048      \n",
      " hNormalization)                                                 \n",
      "                                                                 \n",
      " dropout_1 (Dropout)         (None, 512)               0         \n",
      "                                                                 \n",
      " dense_1 (Dense)             (None, 100)               51300     \n",
      "                                                                 \n",
      "=================================================================\n",
      "Total params: 325,178\n",
      "Trainable params: 324,090\n",
      "Non-trainable params: 1,088\n",
      "_________________________________________________________________\n"
     ]
    }
   ],
   "source": [
    "input_net = Input((32, 32, 3))\n",
    "\n",
    "#y = layers.Conv2D(filters=32, kernel_size = 3, activation=LeakyReLU(alpha=0.1), padding='SAME')(input_net)\n",
    "y, map1 = SortedConv2DWithMap(filters=8,activation=LeakyReLU(alpha=0.1), padding='SAME', layer_num=1)(input_net)\n",
    "#y = ChannelRoll()([y, map1])\n",
    "y = layers.MaxPooling2D(pool_size=(2, 2))(y) \n",
    "\n",
    "y, map2 = SortedConv2DWithMap(filters=16,activation=LeakyReLU(alpha=0.1), padding='SAME', layer_num=2)(y)\n",
    "y, map2 = SortedConv2DWithMap(filters=16,activation=LeakyReLU(alpha=0.1), padding='SAME', layer_num=1)(y)\n",
    "\n",
    "#y = ChannelRoll()([y, map2])\n",
    "y = layers.MaxPooling2D(pool_size=(2, 2))(y) \n",
    "\n",
    "y, map3 = SortedConv2DWithMap(filters=32,activation=LeakyReLU(alpha=0.1), padding='SAME', layer_num=3)(y)\n",
    "y, map3 = SortedConv2DWithMap(filters=32,activation=LeakyReLU(alpha=0.1), padding='SAME', layer_num=1)(y)\n",
    "y, map3 = SortedConv2DWithMap(filters=32,activation=LeakyReLU(alpha=0.1), padding='SAME', layer_num=3)(y)\n",
    "\n",
    "#y = ChannelRoll()([y, map3])\n",
    "y = layers.MaxPooling2D(pool_size=(2, 2))(y) \n",
    "\n",
    "\n",
    "y = layers.BatchNormalization(axis=-1)(y)\n",
    "y = layers.Dropout(0.5)(y)\n",
    "\n",
    "y = layers.Flatten()(y)\n",
    "y = layers.Dense(512, activation=ReLU())(y)\n",
    "y = layers.BatchNormalization(axis=-1)(y)\n",
    "y = layers.Dropout(0.5)(y)\n",
    "output_net  = layers.Dense(100, activation=Softmax())(y)\n",
    "\n",
    "model = Model(inputs = input_net, outputs = output_net)\n",
    "model.summary()"
   ]
  },
  {
   "cell_type": "code",
   "execution_count": 4,
   "metadata": {},
   "outputs": [
    {
     "name": "stdout",
     "output_type": "stream",
     "text": [
      "KerasTensor(type_spec=TensorSpec(shape=(None, 32, 32, 1), dtype=tf.float32, name=None), name='sorted_conv2d_with_map/Repeat_1/Reshape_1:0', description=\"created by layer 'sorted_conv2d_with_map'\")\n"
     ]
    },
    {
     "data": {
      "text/plain": [
       "<KerasTensor: shape=(None, None, None, None) dtype=float32 (created by layer 'tf.linspace')>"
      ]
     },
     "execution_count": 4,
     "metadata": {},
     "output_type": "execute_result"
    }
   ],
   "source": [
    "print(map1)\n",
    "tf.linspace(tf.squeeze(map1, -1), tf.math.add(tf.squeeze(map1, -1),10), 10, axis=-1)"
   ]
  },
  {
   "cell_type": "code",
   "execution_count": 5,
   "metadata": {},
   "outputs": [
    {
     "name": "stdout",
     "output_type": "stream",
     "text": [
      "x_train shape: (50000, 32, 32, 3)\n",
      "50000 train samples\n",
      "10000 test samples\n"
     ]
    },
    {
     "data": {
      "text/plain": [
       "<matplotlib.image.AxesImage at 0x1c205db7788>"
      ]
     },
     "execution_count": 5,
     "metadata": {},
     "output_type": "execute_result"
    },
    {
     "data": {
      "image/png": "[encoded data removed]",
      "text/plain": [
       "<Figure size 432x288 with 1 Axes>"
      ]
     },
     "metadata": {
      "needs_background": "light"
     },
     "output_type": "display_data"
    }
   ],
   "source": [
    "num_classes = 100\n",
    "input_shape = (32, 32, 3)\n",
    "\n",
    "# Load the data and split it between train and test sets\n",
    "(x_train, y_train), (x_test, y_test) = keras.datasets.cifar100.load_data()\n",
    "\n",
    "\n",
    "\n",
    "# Scale images to the [0, 1] range\n",
    "x_train = x_train.astype(\"float32\") / 255\n",
    "x_test = x_test.astype(\"float32\") / 255\n",
    "# Make sure images have shape (28, 28, 1)\n",
    "#x_train = np.expand_dims(x_train, -1)\n",
    "#x_test = np.expand_dims(x_test, -1)\n",
    "print(\"x_train shape:\", x_train.shape)\n",
    "print(x_train.shape[0], \"train samples\")\n",
    "print(x_test.shape[0], \"test samples\")\n",
    "\n",
    "# convert class vectors to binary class matrices\n",
    "#y_train = keras.utils.to_categorical(y_train, num_classes)\n",
    "#y_test = keras.utils.to_categorical(y_test, num_classes)\n",
    "\n",
    "plt.imshow(x_train[0,:,:,:])\n",
    "\n"
   ]
  },
  {
   "cell_type": "code",
   "execution_count": 6,
   "metadata": {},
   "outputs": [
    {
     "name": "stdout",
     "output_type": "stream",
     "text": [
      "Epoch 1/10\n",
      "196/196 [==============================] - 77s 126ms/step - loss: 5.0593 - accuracy: 0.0303 - top-5-accuracy: 0.1241 - val_loss: 5.2274 - val_accuracy: 0.0150 - val_top-5-accuracy: 0.0717\n",
      "Epoch 2/10\n",
      "196/196 [==============================] - 12s 62ms/step - loss: 4.2910 - accuracy: 0.0510 - top-5-accuracy: 0.1884 - val_loss: 4.8016 - val_accuracy: 0.0193 - val_top-5-accuracy: 0.0965\n",
      "Epoch 3/10\n",
      "196/196 [==============================] - 12s 60ms/step - loss: 4.1143 - accuracy: 0.0684 - top-5-accuracy: 0.2345 - val_loss: 4.1810 - val_accuracy: 0.0611 - val_top-5-accuracy: 0.2158\n",
      "Epoch 4/10\n",
      "196/196 [==============================] - 12s 61ms/step - loss: 4.0788 - accuracy: 0.0714 - top-5-accuracy: 0.2440 - val_loss: 4.5459 - val_accuracy: 0.0354 - val_top-5-accuracy: 0.1306\n",
      "Epoch 5/10\n",
      "196/196 [==============================] - 13s 65ms/step - loss: 3.9664 - accuracy: 0.0900 - top-5-accuracy: 0.2792 - val_loss: 4.0800 - val_accuracy: 0.0772 - val_top-5-accuracy: 0.2476\n",
      "Epoch 6/10\n",
      "196/196 [==============================] - 12s 63ms/step - loss: 3.8665 - accuracy: 0.1060 - top-5-accuracy: 0.3130 - val_loss: 3.8662 - val_accuracy: 0.1167 - val_top-5-accuracy: 0.3228\n",
      "Epoch 7/10\n",
      "196/196 [==============================] - 12s 61ms/step - loss: 3.8740 - accuracy: 0.1071 - top-5-accuracy: 0.3111 - val_loss: 3.9730 - val_accuracy: 0.0927 - val_top-5-accuracy: 0.2763\n",
      "Epoch 8/10\n",
      "196/196 [==============================] - 12s 62ms/step - loss: 3.8537 - accuracy: 0.1099 - top-5-accuracy: 0.3187 - val_loss: 4.1627 - val_accuracy: 0.0741 - val_top-5-accuracy: 0.2351\n",
      "Epoch 9/10\n",
      "196/196 [==============================] - 12s 61ms/step - loss: 3.7815 - accuracy: 0.1201 - top-5-accuracy: 0.3398 - val_loss: 3.6647 - val_accuracy: 0.1412 - val_top-5-accuracy: 0.3663\n",
      "Epoch 10/10\n",
      "196/196 [==============================] - 12s 61ms/step - loss: 3.7099 - accuracy: 0.1371 - top-5-accuracy: 0.3614 - val_loss: 3.6018 - val_accuracy: 0.1546 - val_top-5-accuracy: 0.3944\n"
     ]
    },
    {
     "data": {
      "text/plain": [
       "<keras.callbacks.History at 0x1c21e057fc8>"
      ]
     },
     "execution_count": 6,
     "metadata": {},
     "output_type": "execute_result"
    }
   ],
   "source": [
    "model = Model(inputs = input_net, outputs = output_net)\n",
    "\n",
    "initial_learning_rate =  0.01\n",
    "\n",
    "lr_schedule = tf.keras.optimizers.schedules.CosineDecayRestarts(\n",
    "    initial_learning_rate,\n",
    "    alpha = 1e-6,\n",
    "    m_mul=0.999,\n",
    "    first_decay_steps = 20)\n",
    "\n",
    "optimizer = tf.keras.optimizers.RMSprop(learning_rate=lr_schedule)\n",
    "\n",
    "log_dir = \"logs_shift_experiments/fit/\" + datetime.datetime.now().strftime(\"%Y%m%d-%H%M%S\")\n",
    "tensorboard_callback = tf.keras.callbacks.TensorBoard(log_dir=log_dir, histogram_freq=1, profile_batch = 2)\n",
    "\n",
    "model.compile(\n",
    "        optimizer=optimizer,\n",
    "        loss=keras.losses.SparseCategoricalCrossentropy(from_logits=False),\n",
    "        metrics=[\n",
    "            keras.metrics.SparseCategoricalAccuracy(name=\"accuracy\"),\n",
    "            keras.metrics.SparseTopKCategoricalAccuracy(5, name=\"top-5-accuracy\"),\n",
    "        ],\n",
    ")\n",
    "\n",
    "\n",
    "checkpoint_filepath = \"/tmp/checkpoint\"\n",
    "checkpoint_callback = keras.callbacks.ModelCheckpoint(\n",
    "    checkpoint_filepath,\n",
    "    monitor=\"val_accuracy\",\n",
    "    save_best_only=True,\n",
    "    save_weights_only=True,\n",
    ")\n",
    "\n",
    "batch_size = 256\n",
    "epochs = 10\n",
    "model.fit(x_train, y_train, batch_size=batch_size, epochs=epochs, validation_data=(x_test, y_test), callbacks=[tensorboard_callback])"
   ]
  },
  {
   "cell_type": "code",
   "execution_count": 7,
   "metadata": {},
   "outputs": [
    {
     "name": "stderr",
     "output_type": "stream",
     "text": [
      "UsageError: Line magic function `%tensorboard` not found.\n"
     ]
    }
   ],
   "source": [
    "%tensorboard --logdir logs_shift_experiments/fit"
   ]
  },
  {
   "cell_type": "code",
   "execution_count": 8,
   "metadata": {},
   "outputs": [
    {
     "name": "stdout",
     "output_type": "stream",
     "text": [
      "(32, 32, 3)\n",
      "o (1, 16, 16, 8)\n",
      "(1, 32, 32, 1)\n",
      "[2.9375]\n"
     ]
    },
    {
     "data": {
      "text/plain": [
       "<matplotlib.colorbar.Colorbar at 0x1c3ebe6e2c8>"
      ]
     },
     "execution_count": 8,
     "metadata": {},
     "output_type": "execute_result"
    },
    {
     "data": {
      "image/png": "[encoded data removed]",
      "text/plain": [
       "<Figure size 432x288 with 1 Axes>"
      ]
     },
     "metadata": {
      "needs_background": "light"
     },
     "output_type": "display_data"
    },
    {
     "data": {
      "image/png": "[encoded data removed]",
      "text/plain": [
       "<Figure size 432x288 with 1 Axes>"
      ]
     },
     "metadata": {
      "needs_background": "light"
     },
     "output_type": "display_data"
    },
    {
     "data": {
      "image/png": "[encoded data removed]",
      "text/plain": [
       "<Figure size 432x288 with 1 Axes>"
      ]
     },
     "metadata": {
      "needs_background": "light"
     },
     "output_type": "display_data"
    },
    {
     "data": {
      "image/png": "[encoded data removed]",
      "text/plain": [
       "<Figure size 432x288 with 2 Axes>"
      ]
     },
     "metadata": {
      "needs_background": "light"
     },
     "output_type": "display_data"
    }
   ],
   "source": [
    "\n",
    "n = 109\n",
    "X = x_test[n]\n",
    "print(X.shape)\n",
    "\n",
    "get_layer_output = K.function([model.input], model.layers[1].output)\n",
    "out = np.array(get_layer_output(np.expand_dims(X, axis=0))[0])\n",
    "map = np.array(get_layer_output(np.expand_dims(X, axis=0))[1])\n",
    "\n",
    "get_layer_output = K.function([model.input], model.layers[2].output)\n",
    "out_shift = np.array(get_layer_output(np.expand_dims(X, axis=0)))\n",
    "\n",
    "\n",
    "\n",
    "\n",
    "\n",
    "plt.figure(1)  \n",
    "print('o', out_shift.shape)\n",
    "im = plt.imshow(out[:, 10, 5, :], cmap='gray')   \n",
    "#plt.colorbar(im, ticks=range(8), orientation=\"horizontal\")\n",
    "\n",
    "plt.figure(2)  \n",
    "im = plt.imshow(out_shift[:,10, 5, :], cmap='gray')  \n",
    "#plt.colorbar(im, ticks=range(8), orientation=\"horizontal\")\n",
    "\n",
    "print(map.shape)\n",
    "print(map[0, 10, 5])\n",
    "\n",
    "\n",
    "\n",
    "plt.figure(3)  \n",
    "im = plt.imshow(X, cmap='gray')  \n",
    "\n",
    "#plt.colorbar(im, ticks=range(32), orientation=\"horizontal\")\n",
    "        \n",
    "\n",
    "plt.figure(4)  \n",
    "im = plt.imshow(map[0], cmap='gray')  \n",
    "\n",
    "plt.colorbar(im, ticks=range(32), orientation=\"horizontal\")\n",
    "        \n"
   ]
  },
  {
   "cell_type": "code",
   "execution_count": 9,
   "metadata": {},
   "outputs": [
    {
     "ename": "NameError",
     "evalue": "name 'index' is not defined",
     "output_type": "error",
     "traceback": [
      "\u001b[1;31m---------------------------------------------------------------------------\u001b[0m",
      "\u001b[1;31mNameError\u001b[0m                                 Traceback (most recent call last)",
      "\u001b[1;32m~\\AppData\\Local\\Temp\\ipykernel_10564\\1075721689.py\u001b[0m in \u001b[0;36m<module>\u001b[1;34m\u001b[0m\n\u001b[1;32m----> 1\u001b[1;33m \u001b[0mprint\u001b[0m\u001b[1;33m(\u001b[0m\u001b[0mindex\u001b[0m\u001b[1;33m[\u001b[0m\u001b[1;36m0\u001b[0m\u001b[1;33m,\u001b[0m \u001b[1;36m0\u001b[0m\u001b[1;33m,\u001b[0m \u001b[1;36m1\u001b[0m\u001b[1;33m,\u001b[0m \u001b[1;33m]\u001b[0m\u001b[1;33m)\u001b[0m\u001b[1;33m\u001b[0m\u001b[1;33m\u001b[0m\u001b[0m\n\u001b[0m\u001b[0;32m      2\u001b[0m \u001b[0mprint\u001b[0m\u001b[1;33m(\u001b[0m\u001b[0mout\u001b[0m\u001b[1;33m[\u001b[0m\u001b[1;36m0\u001b[0m\u001b[1;33m,\u001b[0m \u001b[1;36m0\u001b[0m\u001b[1;33m,\u001b[0m \u001b[1;36m1\u001b[0m\u001b[1;33m,\u001b[0m \u001b[1;33m]\u001b[0m\u001b[1;33m)\u001b[0m\u001b[1;33m\u001b[0m\u001b[1;33m\u001b[0m\u001b[0m\n\u001b[0;32m      3\u001b[0m \u001b[0mprint\u001b[0m\u001b[1;33m(\u001b[0m\u001b[0mout_left\u001b[0m\u001b[1;33m[\u001b[0m\u001b[1;36m0\u001b[0m\u001b[1;33m,\u001b[0m \u001b[1;36m0\u001b[0m\u001b[1;33m,\u001b[0m \u001b[1;36m1\u001b[0m\u001b[1;33m,\u001b[0m \u001b[1;33m]\u001b[0m\u001b[1;33m)\u001b[0m\u001b[1;33m\u001b[0m\u001b[1;33m\u001b[0m\u001b[0m\n\u001b[0;32m      4\u001b[0m \u001b[0mprint\u001b[0m\u001b[1;33m(\u001b[0m\u001b[0mout_right\u001b[0m\u001b[1;33m[\u001b[0m\u001b[1;36m0\u001b[0m\u001b[1;33m,\u001b[0m \u001b[1;36m0\u001b[0m\u001b[1;33m,\u001b[0m \u001b[1;36m1\u001b[0m\u001b[1;33m,\u001b[0m \u001b[1;33m]\u001b[0m\u001b[1;33m)\u001b[0m\u001b[1;33m\u001b[0m\u001b[1;33m\u001b[0m\u001b[0m\n\u001b[0;32m      5\u001b[0m \u001b[1;33m\u001b[0m\u001b[0m\n",
      "\u001b[1;31mNameError\u001b[0m: name 'index' is not defined"
     ]
    }
   ],
   "source": [
    "print(index[0, 0, 1, ])\n",
    "print(out[0, 0, 1, ])\n",
    "print(out_left[0, 0, 1, ])\n",
    "print(out_right[0, 0, 1, ])\n",
    "\n",
    "print(map[0, 0, 1 ])\n",
    "print(out_shifted[0, 0, 1, ])\n",
    "\n"
   ]
  },
  {
   "cell_type": "markdown",
   "metadata": {},
   "source": []
  },
  {
   "cell_type": "code",
   "execution_count": null,
   "metadata": {},
   "outputs": [
    {
     "data": {
      "text/plain": [
       "<tf.RaggedTensor [[[[0.0, 0.7518008, 0.0, 0.07587218, 0.30510306, 2.2470028, 3.6672583,\n",
       "    2.52381, 5.557482, 5.59272]                                       ,\n",
       "   [0.0, 4.088064, 2.1949782, 1.414401, 0.75688887, 2.8039901, 4.155519,\n",
       "    1.7276574, 6.167313, 5.2518997]                                     ,\n",
       "   [0.0, 4.4181137, 2.3985133, 1.5343769, 0.76932454, 2.8721192, 4.250799,\n",
       "    1.7071693, 6.320815, 5.3395777]                                       ,\n",
       "   ..., [], [], []],\n",
       "  [[0.0, 2.1077445, 1.8260822, 2.5864766, 3.3052006, 6.4447064, 8.379952,\n",
       "    6.242959, 10.074447, 8.111772]                                       ,\n",
       "   [0.0, 7.434674, 6.298918, 6.0896688, 5.316704, 9.055386, 10.544804,\n",
       "    6.841101, 11.702086, 7.553796]                                    ,\n",
       "   [0.0, 8.077639, 6.7795377, 6.480469, 5.586491, 9.394007, 10.914227,\n",
       "    6.928129, 12.056224, 7.6800666]                                   ,\n",
       "   ..., [], [], []],\n",
       "  [[0.0, 2.020402, 1.713198, 2.4499805, 3.1396997, 6.3285174, 8.290304,\n",
       "    6.235699, 10.101304, 8.161644]                                     ,\n",
       "   [0.0, 7.383604, 6.188595, 5.9549327, 5.1959105, 8.937209, 10.47835,\n",
       "    6.7654786, 11.742984, 7.6253147]                                  ,\n",
       "   [0.0, 8.143829, 6.815951, 6.4941993, 5.571134, 9.397868, 10.925272,\n",
       "    6.931056, 12.10455, 7.6977735]                                    ,\n",
       "   ..., [], [], []],\n",
       "  ...,\n",
       "  [[0.0, 0.0, 0.0, 0.0, 0.19656108, 0.3156982, 0.46253157, 0.3507504,\n",
       "    0.5384903, 0.41964328]                                           ,\n",
       "   [0.0, 0.0, 0.0, 0.0, 0.3190089, 0.45630997, 0.6029388, 0.38711935,\n",
       "    0.6389743, 0.39193943]                                           ,\n",
       "   [0.0, 0.0, 0.0, 0.0, 0.3491585, 0.49107066, 0.6392579, 0.40267378,\n",
       "    0.66915435, 0.39755028]                                          ,\n",
       "   ..., [0.0, 0.0, 0.0, 0.0, 0.0, 0.0, 0.0, 0.0, 0.98981154, 0.57759714],\n",
       "   [0.0, 0.0, 0.0, 0.0, 0.0, 0.0, 0.0, 0.0, 0.91296685, 0.52560186],\n",
       "   [0.0, 0.0, 0.0, 0.0, 0.0, 0.0, 0.0, 0.0, 0.33292606, 0.111689836]],\n",
       "  [[0.0, 0.0, 0.0, 0.0, 0.1937897, 0.2993222, 0.42936227, 0.32075793,\n",
       "    0.49093407, 0.37593248]                                          ,\n",
       "   [0.0, 0.0, 0.0, 0.0, 0.31253886, 0.4345539, 0.55443513, 0.35766748,\n",
       "    0.5690387, 0.34609282]                                            ,\n",
       "   [0.0, 0.0, 0.0, 0.0, 0.33349064, 0.4619547, 0.5795702, 0.36799407,\n",
       "    0.5891483, 0.34492218]                                           ,\n",
       "   ..., [0.0, 0.0, 0.0, 0.0, 0.0, 0.0, 0.0, 0.0, 0.86501324, 0.526263],\n",
       "   [0.0, 0.0, 0.0, 0.0, 0.0, 0.0, 0.0, 0.0, 0.81694776, 0.51279855],\n",
       "   [0.0, 0.0, 0.0, 0.0, 0.0, 0.0, 0.0, 0.0, 0.28968152, 0.11736269]],\n",
       "  [[0.0, 0.0, 0.0, 0.0, 0.20690525, 0.2724846, 0.33967566, 0.25612497,\n",
       "    0.32249737, 0.23974925]                                           ,\n",
       "   [0.0, 0.0, 0.0, 0.0, 0.33715075, 0.39706618, 0.46147266, 0.29490006,\n",
       "    0.3887229, 0.22200526]                                             ,\n",
       "   [0.0, 0.0, 0.0, 0.0, 0.355703, 0.41612238, 0.4776888, 0.29914063,\n",
       "    0.39739934, 0.21637948]                                         ,\n",
       "   ..., [0.0, 0.0, 0.0, 0.0, 0.0, 0.0, 0.0, 0.0, 0.62756217, 0.36496282],\n",
       "   [0.0, 0.0, 0.0, 0.0, 0.0, 0.0, 0.0, 0.0, 0.60832113, 0.37396097],\n",
       "   [0.0, 0.0, 0.0, 0.0, 0.0, 0.0, 0.0, 0.0, 0.21620972, 0.09632166]]]]>"
      ]
     },
     "execution_count": 84,
     "metadata": {},
     "output_type": "execute_result"
    }
   ],
   "source": [
    "tf.RaggedTensor.from_tensor(out1, padding=0, ragged_rank=3, row_splits_dtype=tf.int32)"
   ]
  },
  {
   "cell_type": "code",
   "execution_count": null,
   "metadata": {},
   "outputs": [],
   "source": [
    "tf.RaggedTensor.from_nested_row_splits(out, padding=-, ragged_rank=3, row_splits_dtype=tf.int32)"
   ]
  },
  {
   "cell_type": "code",
   "execution_count": null,
   "metadata": {},
   "outputs": [],
   "source": [
    "model.layers[5].scale_a"
   ]
  },
  {
   "cell_type": "code",
   "execution_count": null,
   "metadata": {},
   "outputs": [],
   "source": [
    "i = tf.random.uniform(shape=[1,5,5,3], maxval=5, dtype=tf.int32)\n",
    "idx = tf.random.uniform(shape=[1,5,5,3], minval = 0, maxval=2, dtype=tf.int32)\n",
    "#m = tf.expand_dims(m, axis=-1)\n",
    "n = i.shape[-1]"
   ]
  },
  {
   "cell_type": "code",
   "execution_count": null,
   "metadata": {},
   "outputs": [],
   "source": [
    "idx = tf.cast(tf.linspace(tf.squeeze(m, -1), tf.squeeze(m + n-1, -1), n, axis=-1) , tf.int64)  "
   ]
  },
  {
   "cell_type": "code",
   "execution_count": null,
   "metadata": {},
   "outputs": [
    {
     "name": "stdout",
     "output_type": "stream",
     "text": [
      "x (1, 5, 5, 3)\n"
     ]
    },
    {
     "ename": "UnknownError",
     "evalue": "Exception encountered when calling layer \"channel_roll_1\" (type ChannelRoll).\n\nJIT compilation failed. [Op:FloorMod]\n\nCall arguments received by layer \"channel_roll_1\" (type ChannelRoll):\n  • inputs=['tf.Tensor(shape=(1, 5, 5, 3), dtype=int32)', 'tf.Tensor(shape=(1, 5, 5, 1), dtype=int32)']\n  • training=None",
     "output_type": "error",
     "traceback": [
      "\u001b[1;31m---------------------------------------------------------------------------\u001b[0m",
      "\u001b[1;31mUnknownError\u001b[0m                              Traceback (most recent call last)",
      "\u001b[1;32m~\\AppData\\Local\\Temp\\ipykernel_18228\\837470370.py\u001b[0m in \u001b[0;36m<module>\u001b[1;34m\u001b[0m\n\u001b[0;32m      1\u001b[0m \u001b[0mi\u001b[0m\u001b[1;33m\u001b[0m\u001b[1;33m\u001b[0m\u001b[0m\n\u001b[1;32m----> 2\u001b[1;33m \u001b[0mChannelRoll\u001b[0m\u001b[1;33m(\u001b[0m\u001b[1;33m)\u001b[0m\u001b[1;33m(\u001b[0m\u001b[1;33m[\u001b[0m\u001b[0mi\u001b[0m\u001b[1;33m,\u001b[0m\u001b[0mm\u001b[0m \u001b[1;33m]\u001b[0m\u001b[1;33m)\u001b[0m\u001b[1;33m\u001b[0m\u001b[1;33m\u001b[0m\u001b[0m\n\u001b[0m",
      "\u001b[1;32mc:\\Users\\AN46710\\Anaconda3\\envs\\masters\\lib\\site-packages\\keras\\utils\\traceback_utils.py\u001b[0m in \u001b[0;36merror_handler\u001b[1;34m(*args, **kwargs)\u001b[0m\n\u001b[0;32m     65\u001b[0m     \u001b[1;32mexcept\u001b[0m \u001b[0mException\u001b[0m \u001b[1;32mas\u001b[0m \u001b[0me\u001b[0m\u001b[1;33m:\u001b[0m  \u001b[1;31m# pylint: disable=broad-except\u001b[0m\u001b[1;33m\u001b[0m\u001b[1;33m\u001b[0m\u001b[0m\n\u001b[0;32m     66\u001b[0m       \u001b[0mfiltered_tb\u001b[0m \u001b[1;33m=\u001b[0m \u001b[0m_process_traceback_frames\u001b[0m\u001b[1;33m(\u001b[0m\u001b[0me\u001b[0m\u001b[1;33m.\u001b[0m\u001b[0m__traceback__\u001b[0m\u001b[1;33m)\u001b[0m\u001b[1;33m\u001b[0m\u001b[1;33m\u001b[0m\u001b[0m\n\u001b[1;32m---> 67\u001b[1;33m       \u001b[1;32mraise\u001b[0m \u001b[0me\u001b[0m\u001b[1;33m.\u001b[0m\u001b[0mwith_traceback\u001b[0m\u001b[1;33m(\u001b[0m\u001b[0mfiltered_tb\u001b[0m\u001b[1;33m)\u001b[0m \u001b[1;32mfrom\u001b[0m \u001b[1;32mNone\u001b[0m\u001b[1;33m\u001b[0m\u001b[1;33m\u001b[0m\u001b[0m\n\u001b[0m\u001b[0;32m     68\u001b[0m     \u001b[1;32mfinally\u001b[0m\u001b[1;33m:\u001b[0m\u001b[1;33m\u001b[0m\u001b[1;33m\u001b[0m\u001b[0m\n\u001b[0;32m     69\u001b[0m       \u001b[1;32mdel\u001b[0m \u001b[0mfiltered_tb\u001b[0m\u001b[1;33m\u001b[0m\u001b[1;33m\u001b[0m\u001b[0m\n",
      "\u001b[1;32mc:\\Users\\AN46710\\Desktop\\ri_feature_cnn\\Models\\layers\\channel_roll.py\u001b[0m in \u001b[0;36mcall\u001b[1;34m(self, inputs, training)\u001b[0m\n\u001b[0;32m     24\u001b[0m         \u001b[1;31m#map  = tf.cast(map, tf.int64)\u001b[0m\u001b[1;33m\u001b[0m\u001b[1;33m\u001b[0m\u001b[1;33m\u001b[0m\u001b[0m\n\u001b[0;32m     25\u001b[0m \u001b[1;33m\u001b[0m\u001b[0m\n\u001b[1;32m---> 26\u001b[1;33m         \u001b[0mindicies\u001b[0m \u001b[1;33m=\u001b[0m \u001b[0mtf\u001b[0m\u001b[1;33m.\u001b[0m\u001b[0mcast\u001b[0m\u001b[1;33m(\u001b[0m\u001b[0mtf\u001b[0m\u001b[1;33m.\u001b[0m\u001b[0mensure_shape\u001b[0m\u001b[1;33m(\u001b[0m\u001b[0mtf\u001b[0m\u001b[1;33m.\u001b[0m\u001b[0mlinspace\u001b[0m\u001b[1;33m(\u001b[0m\u001b[0mtf\u001b[0m\u001b[1;33m.\u001b[0m\u001b[0msqueeze\u001b[0m\u001b[1;33m(\u001b[0m\u001b[0mmap\u001b[0m\u001b[1;33m,\u001b[0m \u001b[1;33m-\u001b[0m\u001b[1;36m1\u001b[0m\u001b[1;33m)\u001b[0m\u001b[1;33m,\u001b[0m \u001b[0mtf\u001b[0m\u001b[1;33m.\u001b[0m\u001b[0msqueeze\u001b[0m\u001b[1;33m(\u001b[0m\u001b[0mmap\u001b[0m \u001b[1;33m+\u001b[0m \u001b[0mfilters\u001b[0m\u001b[1;33m-\u001b[0m\u001b[1;36m1\u001b[0m\u001b[1;33m,\u001b[0m \u001b[1;33m-\u001b[0m\u001b[1;36m1\u001b[0m\u001b[1;33m)\u001b[0m\u001b[1;33m,\u001b[0m \u001b[0mfilters\u001b[0m\u001b[1;33m,\u001b[0m \u001b[0maxis\u001b[0m\u001b[1;33m=\u001b[0m\u001b[1;33m-\u001b[0m\u001b[1;36m1\u001b[0m\u001b[1;33m)\u001b[0m \u001b[1;33m%\u001b[0m \u001b[0mfilters\u001b[0m  \u001b[1;33m,\u001b[0m \u001b[0mx\u001b[0m\u001b[1;33m.\u001b[0m\u001b[0mshape\u001b[0m\u001b[1;33m)\u001b[0m \u001b[1;33m,\u001b[0m \u001b[0mtf\u001b[0m\u001b[1;33m.\u001b[0m\u001b[0mint64\u001b[0m\u001b[1;33m)\u001b[0m\u001b[1;33m\u001b[0m\u001b[1;33m\u001b[0m\u001b[0m\n\u001b[0m\u001b[0;32m     27\u001b[0m         \u001b[0mprint\u001b[0m\u001b[1;33m(\u001b[0m\u001b[0mindicies\u001b[0m\u001b[1;33m.\u001b[0m\u001b[0mshape\u001b[0m\u001b[1;33m)\u001b[0m\u001b[1;33m\u001b[0m\u001b[1;33m\u001b[0m\u001b[0m\n\u001b[0;32m     28\u001b[0m         \u001b[0mout\u001b[0m \u001b[1;33m=\u001b[0m \u001b[0mtf\u001b[0m\u001b[1;33m.\u001b[0m\u001b[0mgather\u001b[0m\u001b[1;33m(\u001b[0m\u001b[0mx\u001b[0m\u001b[1;33m,\u001b[0m \u001b[0mindicies\u001b[0m\u001b[1;33m,\u001b[0m \u001b[0maxis\u001b[0m\u001b[1;33m=\u001b[0m\u001b[1;33m-\u001b[0m\u001b[1;36m1\u001b[0m\u001b[1;33m)\u001b[0m\u001b[1;33m\u001b[0m\u001b[1;33m\u001b[0m\u001b[0m\n",
      "\u001b[1;31mUnknownError\u001b[0m: Exception encountered when calling layer \"channel_roll_1\" (type ChannelRoll).\n\nJIT compilation failed. [Op:FloorMod]\n\nCall arguments received by layer \"channel_roll_1\" (type ChannelRoll):\n  • inputs=['tf.Tensor(shape=(1, 5, 5, 3), dtype=int32)', 'tf.Tensor(shape=(1, 5, 5, 1), dtype=int32)']\n  • training=None"
     ]
    }
   ],
   "source": [
    "i\n",
    "ChannelRoll()([i,m ])"
   ]
  },
  {
   "cell_type": "code",
   "execution_count": null,
   "metadata": {},
   "outputs": [
    {
     "data": {
      "text/plain": [
       "<tf.Tensor: shape=(1, 5, 5, 3), dtype=int32, numpy=\n",
       "array([[[[4, 4, 0],\n",
       "         [2, 1, 1],\n",
       "         [0, 1, 0],\n",
       "         [0, 4, 4],\n",
       "         [2, 2, 4]],\n",
       "\n",
       "        [[2, 2, 1],\n",
       "         [3, 2, 3],\n",
       "         [3, 3, 0],\n",
       "         [0, 1, 0],\n",
       "         [3, 3, 3]],\n",
       "\n",
       "        [[0, 3, 0],\n",
       "         [4, 4, 4],\n",
       "         [1, 0, 1],\n",
       "         [2, 1, 1],\n",
       "         [1, 1, 2]],\n",
       "\n",
       "        [[1, 4, 4],\n",
       "         [1, 4, 1],\n",
       "         [2, 2, 2],\n",
       "         [2, 2, 2],\n",
       "         [3, 1, 1]],\n",
       "\n",
       "        [[3, 2, 3],\n",
       "         [2, 2, 3],\n",
       "         [3, 2, 3],\n",
       "         [2, 2, 2],\n",
       "         [1, 1, 1]]]])>"
      ]
     },
     "execution_count": 55,
     "metadata": {},
     "output_type": "execute_result"
    }
   ],
   "source": [
    "out = tf.gather(i, idx, batch_dims=3)\n",
    "out"
   ]
  },
  {
   "cell_type": "code",
   "execution_count": null,
   "metadata": {},
   "outputs": [
    {
     "data": {
      "text/plain": [
       "<tf.Tensor: shape=(1, 5, 5, 3), dtype=int32, numpy=\n",
       "array([[[[0, 0, 1],\n",
       "         [1, 0, 0],\n",
       "         [0, 1, 0],\n",
       "         [1, 0, 0],\n",
       "         [1, 1, 0]],\n",
       "\n",
       "        [[0, 0, 1],\n",
       "         [1, 0, 1],\n",
       "         [1, 1, 0],\n",
       "         [1, 0, 1],\n",
       "         [1, 0, 0]],\n",
       "\n",
       "        [[1, 0, 1],\n",
       "         [1, 1, 1],\n",
       "         [1, 0, 1],\n",
       "         [0, 1, 1],\n",
       "         [0, 0, 1]],\n",
       "\n",
       "        [[1, 0, 0],\n",
       "         [1, 0, 1],\n",
       "         [1, 1, 1],\n",
       "         [1, 0, 1],\n",
       "         [0, 1, 1]],\n",
       "\n",
       "        [[0, 1, 0],\n",
       "         [1, 1, 0],\n",
       "         [1, 0, 1],\n",
       "         [1, 1, 1],\n",
       "         [1, 1, 1]]]])>"
      ]
     },
     "execution_count": 57,
     "metadata": {},
     "output_type": "execute_result"
    }
   ],
   "source": [
    "idx"
   ]
  },
  {
   "cell_type": "code",
   "execution_count": null,
   "metadata": {},
   "outputs": [
    {
     "data": {
      "text/plain": [
       "<tf.Tensor: shape=(1, 5, 5, 3), dtype=int32, numpy=\n",
       "array([[[[4, 0, 0],\n",
       "         [1, 2, 1],\n",
       "         [0, 1, 4],\n",
       "         [4, 0, 4],\n",
       "         [4, 2, 0]],\n",
       "\n",
       "        [[2, 1, 0],\n",
       "         [2, 3, 2],\n",
       "         [0, 3, 2],\n",
       "         [1, 0, 4],\n",
       "         [3, 3, 4]],\n",
       "\n",
       "        [[3, 0, 0],\n",
       "         [2, 4, 1],\n",
       "         [0, 1, 3],\n",
       "         [2, 1, 2],\n",
       "         [1, 2, 1]],\n",
       "\n",
       "        [[4, 1, 0],\n",
       "         [4, 1, 4],\n",
       "         [2, 2, 1],\n",
       "         [2, 2, 0],\n",
       "         [3, 1, 3]],\n",
       "\n",
       "        [[3, 2, 3],\n",
       "         [3, 2, 2],\n",
       "         [2, 3, 0],\n",
       "         [3, 2, 4],\n",
       "         [4, 1, 0]]]])>"
      ]
     },
     "execution_count": 56,
     "metadata": {},
     "output_type": "execute_result"
    }
   ],
   "source": [
    "i"
   ]
  },
  {
   "cell_type": "code",
   "execution_count": null,
   "metadata": {},
   "outputs": [
    {
     "data": {
      "text/plain": [
       "<tf.Tensor: shape=(1, 2, 3), dtype=int64, numpy=\n",
       "array([[[3, 1, 2],\n",
       "        [4, 5, 6]]], dtype=int64)>"
      ]
     },
     "execution_count": 14,
     "metadata": {},
     "output_type": "execute_result"
    }
   ],
   "source": [
    "def test()\n",
    "tf.cast(tf.linspace([[3,1,2], [4,5,6]], [[13, 11, 12], [14,15,16]], 2), dtype=tf.int64) "
   ]
  },
  {
   "cell_type": "code",
   "execution_count": null,
   "metadata": {},
   "outputs": [
    {
     "data": {
      "text/plain": [
       "<tf.Tensor: shape=(1, 3, 8), dtype=float32, numpy=\n",
       "array([[[0.        , 0.44879895, 0.8975979 , 1.3463969 , 1.7951958 ,\n",
       "         2.2439947 , 2.6927938 , 3.1415927 ],\n",
       "        [0.        , 0.44879895, 0.8975979 , 1.3463969 , 1.7951958 ,\n",
       "         2.2439947 , 2.6927938 , 3.1415927 ],\n",
       "        [0.        , 0.44879895, 0.8975979 , 1.3463969 , 1.7951958 ,\n",
       "         2.2439947 , 2.6927938 , 3.1415927 ]]], dtype=float32)>"
      ]
     },
     "execution_count": 15,
     "metadata": {},
     "output_type": "execute_result"
    }
   ],
   "source": [
    "tf.repeat([tf.expand_dims(tf.linspace(0.0, math.pi,8, axis=0),axis=0)], 3, axis=1)"
   ]
  },
  {
   "cell_type": "code",
   "execution_count": null,
   "metadata": {},
   "outputs": [
    {
     "data": {
      "text/plain": [
       "<tf.Tensor: shape=(1, 3, 8), dtype=float32, numpy=\n",
       "array([[[ 0.03463585,  0.3829091 ,  1.005945  ,  1.3406746 ,\n",
       "          1.7537367 ,  2.153503  ,  2.322995  ,  3.2828467 ],\n",
       "        [ 0.1563656 ,  0.2840916 ,  0.57580715,  1.1498641 ,\n",
       "          1.9196583 ,  2.332367  ,  2.2251093 ,  3.3511965 ],\n",
       "        [-0.41903237, -0.0289492 ,  0.49376875,  1.0420393 ,\n",
       "          1.6572069 ,  2.361961  ,  2.2272432 ,  3.1394715 ]]],\n",
       "      dtype=float32)>"
      ]
     },
     "execution_count": 20,
     "metadata": {},
     "output_type": "execute_result"
    }
   ],
   "source": [
    "tf.random.normal([1, 3, 8], mean=tf.linspace(0.0, math.pi,8, axis=0), stddev=/math.pi)"
   ]
  }
 ],
 "metadata": {
  "kernelspec": {
   "display_name": "Python 3.7.13 ('masters')",
   "language": "python",
   "name": "python3"
  },
  "language_info": {
   "codemirror_mode": {
    "name": "ipython",
    "version": 3
   },
   "file_extension": ".py",
   "mimetype": "text/x-python",
   "name": "python",
   "nbconvert_exporter": "python",
   "pygments_lexer": "ipython3",
   "version": "3.7.13"
  },
  "orig_nbformat": 4,
  "vscode": {
   "interpreter": {
    "hash": "4f2ff97d05f7ea74f9ad893ce0ef62de10b7e20c3f21fc0f5866920ae6ae88e7"
   }
  }
 },
 "nbformat": 4,
 "nbformat_minor": 2
}
