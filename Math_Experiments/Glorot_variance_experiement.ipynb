{
 "cells": [
  {
   "cell_type": "code",
   "execution_count": 27,
   "metadata": {},
   "outputs": [
    {
     "name": "stdout",
     "output_type": "stream",
     "text": [
      "-1.5707963267948966\n"
     ]
    }
   ],
   "source": [
    "from pacal import *\n",
    "import numpy as np\n",
    "\n",
    "\n",
    "desired_theta = 90\n",
    "channels = 3\n",
    "\n",
    "a = float(-sqrt(2) * np.cos((desired_theta * np.pi/180) - 9*np.pi/4) )\n",
    "b = float(-2 * np.sin(desired_theta * np.pi/180))\n",
    "c = float(-sqrt(2) * np.sin((desired_theta * np.pi/180) - 9*np.pi/4) )\n",
    "d = float(-2 * np.cos(desired_theta * np.pi/180))\n",
    "\n",
    "theta = atan((a + 2*b + b)/(a - c + 2*d))\n",
    "print(theta)\n",
    "\n",
    "A = NormalDistr(a, 0.5)\n",
    "B = NormalDistr(b, 0.5)\n",
    "C = NormalDistr(c,0.5)\n",
    "D = NormalDistr(d, 0.5)\n",
    "\n"
   ]
  },
  {
   "cell_type": "code",
   "execution_count": 32,
   "metadata": {},
   "outputs": [
    {
     "data": {
      "image/png": "[encoded data removed]",
      "text/plain": [
       "<Figure size 432x288 with 1 Axes>"
      ]
     },
     "metadata": {
      "needs_background": "light"
     },
     "output_type": "display_data"
    }
   ],
   "source": [
    "A.plot()\n",
    "B.plot()\n",
    "show()"
   ]
  },
  {
   "cell_type": "code",
   "execution_count": 28,
   "metadata": {},
   "outputs": [
    {
     "name": "stderr",
     "output_type": "stream",
     "text": [
      "c:\\Users\\AN46710\\Anaconda3\\envs\\masters\\lib\\site-packages\\pacal\\distr.py:73: UserWarning: Warning: arguments treated as independent\n",
      "  warnings.warn(\"Warning: arguments treated as independent\")\n"
     ]
    },
    {
     "data": {
      "image/png": "[encoded data removed]",
      "text/plain": [
       "<Figure size 432x288 with 1 Axes>"
      ]
     },
     "metadata": {
      "needs_background": "light"
     },
     "output_type": "display_data"
    }
   ],
   "source": [
    "theta = atan((A + 2*B + C)/(A - C + 2*D))\n",
    "\n",
    "theta.plot()\n",
    "show()"
   ]
  },
  {
   "cell_type": "code",
   "execution_count": 30,
   "metadata": {},
   "outputs": [
    {
     "name": "stdout",
     "output_type": "stream",
     "text": [
      "============= summary =============\n",
      "  atan((N(-0.9999999999999998,0.5)+2*N(-2.0,0.5)+N(-1.0000000000000002,0.5))/(N(-0.9999999999999998,0.5)-N(-1.0000000000000002,0.5)+2*N(-1.2246467991473532e-16,0.5)))\n",
      "                mean  =  nan\n",
      "                 var  =  nan\n",
      "            skewness  =  nan\n",
      "            kurtosis  =  nan\n",
      "             entropy  =  -63606.58990466052\n",
      "              median  =  -1.5707963267948963\n",
      "                mode  =  -1.5707962854857345\n",
      "            medianad  =  0.0\n",
      "      iqrange(0.025)  =  4.972777967182651e-09\n",
      "      interval(0.95)  =  (-1.5707963267948963, -1.5707963218221184)\n",
      "               range  =  (-1.5707963267948966, 1.5707963267948966)\n",
      "             tailexp  =  (None, None)\n",
      "             int_err  =  -3631.06975425469\n"
     ]
    }
   ],
   "source": [
    "theta.summary()"
   ]
  }
 ],
 "metadata": {
  "kernelspec": {
   "display_name": "Python 3.7.13 ('masters')",
   "language": "python",
   "name": "python3"
  },
  "language_info": {
   "codemirror_mode": {
    "name": "ipython",
    "version": 3
   },
   "file_extension": ".py",
   "mimetype": "text/x-python",
   "name": "python",
   "nbconvert_exporter": "python",
   "pygments_lexer": "ipython3",
   "version": "3.7.13"
  },
  "orig_nbformat": 4,
  "vscode": {
   "interpreter": {
    "hash": "4f2ff97d05f7ea74f9ad893ce0ef62de10b7e20c3f21fc0f5866920ae6ae88e7"
   }
  }
 },
 "nbformat": 4,
 "nbformat_minor": 2
}
